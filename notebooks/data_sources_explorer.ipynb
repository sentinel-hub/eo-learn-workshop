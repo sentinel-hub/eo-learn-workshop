{
 "cells": [
  {
   "cell_type": "markdown",
   "metadata": {},
   "source": [
    "# Data-sources exploration using `eo-learn`"
   ]
  },
  {
   "cell_type": "markdown",
   "metadata": {},
   "source": [
    "This notebook shows some examples on how to retrieve EO and non-EO data using `eo-learn`. \n",
    "\n",
    "The steps are as follow:\n",
    " * split area of interest into easy-to-process EOPatches\n",
    " * add Sentinel-2 imaging data\n",
    " * add vector and raster data from OSM\n",
    " * add Sentinel-1 imaging data"
   ]
  },
  {
   "cell_type": "code",
   "execution_count": null,
   "metadata": {},
   "outputs": [],
   "source": [
    "%reload_ext autoreload\n",
    "%autoreload 2\n",
    "%matplotlib inline"
   ]
  },
  {
   "cell_type": "markdown",
   "metadata": {},
   "source": [
    "Add generic packages"
   ]
  },
  {
   "cell_type": "code",
   "execution_count": null,
   "metadata": {},
   "outputs": [],
   "source": [
    "import os\n",
    "\n",
    "from matplotlib import dates\n",
    "from mpl_toolkits.axes_grid1 import make_axes_locatable\n",
    "from shapely.geometry import Polygon, box, shape, mapping\n",
    "import matplotlib.pyplot as plt\n",
    "import geopandas as gpd\n",
    "import pandas as pd\n",
    "import numpy as np\n",
    "import overpass"
   ]
  },
  {
   "cell_type": "markdown",
   "metadata": {},
   "source": [
    "Set path to data"
   ]
  },
  {
   "cell_type": "code",
   "execution_count": null,
   "metadata": {},
   "outputs": [],
   "source": [
    "from pathlib import Path\n",
    "data_dir = Path('./../data/')\n",
    "os.listdir(data_dir)"
   ]
  },
  {
   "cell_type": "markdown",
   "metadata": {},
   "source": [
    "`eo-learn` and `sentinelhub` imports"
   ]
  },
  {
   "cell_type": "code",
   "execution_count": null,
   "metadata": {},
   "outputs": [],
   "source": [
    "from eolearn.core import EOTask, EOPatch, LinearWorkflow, Dependency, FeatureType, CompositeTask\n",
    "from eolearn.io import S2L1CWCSInput, L8L1CWCSInput, DEMWCSInput, AddGeopediaFeature, ExportToTiff\n",
    "from eolearn.io.sentinelhub_service import S1IWWCSInput\n",
    "from eolearn.geometry import VectorToRaster"
   ]
  },
  {
   "cell_type": "code",
   "execution_count": null,
   "metadata": {},
   "outputs": [],
   "source": [
    "from sentinelhub import BBoxSplitter, BBox, CRS, DataSource, transform_bbox, GeopediaFeatureIterator"
   ]
  },
  {
   "cell_type": "markdown",
   "metadata": {},
   "source": [
    "## 1. Split country into smaller bounding boxes <a id='splitter'></a>"
   ]
  },
  {
   "cell_type": "markdown",
   "metadata": {},
   "source": [
    "Load shapefile of Denmark"
   ]
  },
  {
   "cell_type": "code",
   "execution_count": null,
   "metadata": {},
   "outputs": [],
   "source": [
    "country_filename = data_dir/'denmark.geojson'\n",
    "country = gpd.read_file(str(country_filename))\n",
    "country.plot()\n",
    "country.crs"
   ]
  },
  {
   "cell_type": "markdown",
   "metadata": {},
   "source": [
    "Set CRS to UTM"
   ]
  },
  {
   "cell_type": "code",
   "execution_count": null,
   "metadata": {},
   "outputs": [],
   "source": [
    "country_crs = CRS.UTM_32N\n",
    "country = country.to_crs(crs={'init':CRS.ogc_string(country_crs)})\n",
    "country.plot()\n",
    "country.crs"
   ]
  },
  {
   "cell_type": "markdown",
   "metadata": {},
   "source": [
    "Get size of country in pixels to decide number and size of bounding boxes"
   ]
  },
  {
   "cell_type": "code",
   "execution_count": null,
   "metadata": {},
   "outputs": [],
   "source": [
    "country_shape = country.geometry.values.tolist()[-1]\n",
    "width_pix = int((country_shape.bounds[2]-country_shape.bounds[0])/10)\n",
    "height_pix = int((country_shape.bounds[3]-country_shape.bounds[1])/10)\n",
    "print('Dimension of the area is {} x {} pixels'.format(width_pix, height_pix))"
   ]
  },
  {
   "cell_type": "markdown",
   "metadata": {},
   "source": [
    "Split area into 45x35 boxes bounding "
   ]
  },
  {
   "cell_type": "code",
   "execution_count": null,
   "metadata": {},
   "outputs": [],
   "source": [
    "bbox_splitter = BBoxSplitter([country_shape], country_crs, (45, 35))"
   ]
  },
  {
   "cell_type": "code",
   "execution_count": null,
   "metadata": {},
   "outputs": [],
   "source": [
    "geometry = [Polygon(bbox.get_polygon()) for bbox in bbox_splitter.bbox_list]\n",
    "idxs_x = [info['index_x'] for info in bbox_splitter.info_list]\n",
    "idxs_y = [info['index_y'] for info in bbox_splitter.info_list]\n",
    "\n",
    "df = pd.DataFrame({'index_x':idxs_x, 'index_y':idxs_y})\n",
    "gdf = gpd.GeoDataFrame(df, crs={'init':CRS.ogc_string(bbox_splitter.bbox_list[0].crs)}, geometry=geometry)"
   ]
  },
  {
   "cell_type": "code",
   "execution_count": null,
   "metadata": {},
   "outputs": [],
   "source": [
    "gdf.head()"
   ]
  },
  {
   "cell_type": "markdown",
   "metadata": {},
   "source": [
    "Plot results"
   ]
  },
  {
   "cell_type": "code",
   "execution_count": null,
   "metadata": {},
   "outputs": [],
   "source": [
    "fontdict = {'family': 'monospace', 'weight': 'normal', 'size': 14}\n",
    "# if bboxes have all same size, estimate offset\n",
    "xl, yl, xu, yu = gdf.geometry[0].bounds\n",
    "xoff, yoff = (xu-xl)/3, (yu-yl)/5\n",
    "# figure\n",
    "fig, ax = plt.subplots(figsize=(45,35))\n",
    "gdf.plot(ax=ax, facecolor='w', edgecolor='r', alpha=0.5, linewidth=2)\n",
    "country.plot(ax=ax, facecolor='w', edgecolor='b', alpha=0.5, linewidth=2.5)\n",
    "ax.set_title('Denmark tiled in a 45 x 35 grid');\n",
    "# add annotiation text\n",
    "for idx in gdf.index:\n",
    "    eop_name = '{0}x{1}'.format(gdf.index_x[idx], gdf.index_y[idx])\n",
    "    centroid, = list(gdf.geometry[idx].centroid.coords)\n",
    "    ax.text(centroid[0]-xoff, centroid[1]+yoff, '{}'.format(idx), fontdict=fontdict)\n",
    "    ax.text(centroid[0]-xoff, centroid[1]-yoff, eop_name, fontdict=fontdict)"
   ]
  },
  {
   "cell_type": "markdown",
   "metadata": {},
   "source": [
    "## 2. Retrieve S2 L1C data <a id=\"sentinel-2\"></a>"
   ]
  },
  {
   "cell_type": "code",
   "execution_count": null,
   "metadata": {},
   "outputs": [],
   "source": [
    "s2_l1c_rgb = S2L1CWCSInput('TRUE-COLOR-S2-L1C', resx='10m', resy='10m', maxcc=0.1)\n",
    "s2_l1c_ndvi = S2L1CWCSInput('NDVI', resx='10m', resy='10m', maxcc=0.1)"
   ]
  },
  {
   "cell_type": "code",
   "execution_count": null,
   "metadata": {},
   "outputs": [],
   "source": [
    "time_interval = ['2019-05-01','2019-09-01']\n",
    "idx = ???\n",
    "bbox = bbox_splitter.bbox_list[idx]"
   ]
  },
  {
   "cell_type": "markdown",
   "metadata": {},
   "source": [
    "Download TRUE-COLOR"
   ]
  },
  {
   "cell_type": "code",
   "execution_count": null,
   "metadata": {},
   "outputs": [],
   "source": [
    "eop_s2 = s2_l1c_rgb.execute(bbox=bbox, time_interval=time_interval)"
   ]
  },
  {
   "cell_type": "code",
   "execution_count": null,
   "metadata": {},
   "outputs": [],
   "source": [
    "eop_s2"
   ]
  },
  {
   "cell_type": "markdown",
   "metadata": {},
   "source": [
    "Download NDVI"
   ]
  },
  {
   "cell_type": "code",
   "execution_count": null,
   "metadata": {},
   "outputs": [],
   "source": [
    "eop_s2 = s2_l1c_ndvi.execute(eop_s2)"
   ]
  },
  {
   "cell_type": "code",
   "execution_count": null,
   "metadata": {},
   "outputs": [],
   "source": [
    "eop_s2"
   ]
  },
  {
   "cell_type": "code",
   "execution_count": null,
   "metadata": {},
   "outputs": [],
   "source": [
    "eop_s2.timestamp"
   ]
  },
  {
   "cell_type": "markdown",
   "metadata": {},
   "source": [
    "Plot RGB of time frames"
   ]
  },
  {
   "cell_type": "code",
   "execution_count": null,
   "metadata": {},
   "outputs": [],
   "source": [
    "time_idx = 0\n",
    "fig, ax = plt.subplots(figsize=(15,15))\n",
    "im = ax.imshow(1.5*eop_s2.data['TRUE-COLOR-S2-L1C'][time_idx])"
   ]
  },
  {
   "cell_type": "markdown",
   "metadata": {},
   "source": [
    "Plot the median RGB values"
   ]
  },
  {
   "cell_type": "code",
   "execution_count": null,
   "metadata": {},
   "outputs": [],
   "source": [
    "fig, ax = plt.subplots(figsize=(15,15))\n",
    "im = ax.imshow(1.5*np.median(eop_s2.data['TRUE-COLOR-S2-L1C'], axis=0).squeeze())"
   ]
  },
  {
   "cell_type": "markdown",
   "metadata": {},
   "source": [
    "Plot the median NDVI values"
   ]
  },
  {
   "cell_type": "code",
   "execution_count": null,
   "metadata": {},
   "outputs": [],
   "source": [
    "fig, ax = plt.subplots(figsize=(15,15))\n",
    "im = ax.imshow(np.median(eop_s2.data['NDVI'], axis=0).squeeze(), cmap=plt.cm.YlGn)\n",
    "divider = make_axes_locatable(ax)\n",
    "cax = divider.append_axes('right', size='5%', pad=0.05)\n",
    "fig.colorbar(im, cax=cax, orientation='vertical')"
   ]
  },
  {
   "cell_type": "markdown",
   "metadata": {},
   "source": [
    "Plot temporal NDVI of a given location"
   ]
  },
  {
   "cell_type": "code",
   "execution_count": null,
   "metadata": {},
   "outputs": [],
   "source": [
    "fig, ax = plt.subplots(figsize=(15,15))\n",
    "ax.plot(dates.date2num(eop_s2.timestamp), eop_s2.data['NDVI'][:, 100, 550, :].squeeze(), 'g')\n",
    "ax.set_title('NDVI evolution')\n",
    "ax.set_xticks(dates.date2num(eop_s2.timestamp));\n",
    "ax.set_xticklabels([timestamp.date().isoformat() for timestamp in eop_s2.timestamp], rotation=45, ha='right');\n",
    "ax.set_ylabel('NDVI');"
   ]
  },
  {
   "cell_type": "markdown",
   "metadata": {},
   "source": [
    "## 3. Add information from OSM <a id=\"osm\"></a>"
   ]
  },
  {
   "cell_type": "markdown",
   "metadata": {},
   "source": [
    "This task is under-review and will soon make it into the released version"
   ]
  },
  {
   "cell_type": "code",
   "execution_count": null,
   "metadata": {},
   "outputs": [],
   "source": [
    "class OSMInput(EOTask):\n",
    "    \"\"\" Use OpenStreetMap (OSM) data from an Overpass API as input to a VECTOR_TIMELESS feature.\n",
    "    In case of timeouts or too many requests against the main Overpass endpoint, find additional\n",
    "    endpoints at see other options https://wiki.openstreetmap.org/wiki/Overpass_API#Public_Overpass_API_instances\n",
    "    :param feature_name: EOPatch feature into which data will be imported\n",
    "    :type feature_name: (FeatureType, str)\n",
    "    :param query: Overpass API Querystring: https://wiki.openstreetmap.org/wiki/Overpass_API/Overpass_QL\n",
    "    :type query: str\n",
    "    :param polygonize: Whether or not to treat ways as polygons, defaults to True\n",
    "    :type polygonize: bool\n",
    "    :param overpass_opts: Options to pass to the Overpass API constructor, see: https://github.com/mvexel/overpass-api-python-wrapper#api-constructor\n",
    "    :type overpass_opts: dict\n",
    "    \"\"\"\n",
    "\n",
    "    def __init__(self, feature_name, query, polygonize=True, overpass_opts={}):\n",
    "        self.feature_name = feature_name\n",
    "        self.query = query\n",
    "        self.polygonize = polygonize\n",
    "        self.api = overpass.API(overpass_opts)\n",
    "\n",
    "    def execute(self, eopatch):\n",
    "        \"\"\" Execute function which adds new VECTOR_TIMELESS layer to the EOPatch\n",
    "        :param eopatch: input EOPatch\n",
    "        :type eopatch: EOPatch\n",
    "        :return: New EOPatch with added VECTOR_TIMELESS layer\n",
    "        :rtype: EOPatch\n",
    "        \"\"\"\n",
    "\n",
    "        if self.feature_name is None:\n",
    "            raise ValueError('\\'feature_name\\' is a required parameter.')\n",
    "        if self.query is None:\n",
    "            raise ValueError('Please provide a \\'query\\', https://wiki.openstreetmap.org/wiki/Overpass_API/Overpass_QL')\n",
    "        if not eopatch.bbox:\n",
    "            raise ValueError('Each EOPatch requires a bbox to fetch data')\n",
    "\n",
    "        # handling for various bounds variables\n",
    "        ll_bounds = eopatch.bbox.transform(CRS.WGS84)\n",
    "        clip_shape = box(*ll_bounds)\n",
    "        osm_bbox = tuple([*ll_bounds.reverse()])\n",
    "\n",
    "        # make the overpass request\n",
    "        response = self.api.get(f'{self.query}{osm_bbox}', verbosity='geom')\n",
    "\n",
    "        # clip geometries to bounding box\n",
    "        for feat in response['features']:\n",
    "            geom = Polygon(shape(feat['geometry']))\n",
    "            if self.polygonize:\n",
    "                geom = geom.convex_hull\n",
    "            clipped_geom = geom.intersection(clip_shape)\n",
    "            feat['geometry'] = mapping(clipped_geom)\n",
    "\n",
    "\n",
    "        # import to geopandas, transform and return\n",
    "        gdf = gpd.GeoDataFrame.from_features(response['features'])\n",
    "        gdf.crs = {'init' :'epsg:4326'}\n",
    "        gdf = gdf.to_crs({'init': eopatch.bbox.crs.ogc_string()})\n",
    "        eopatch[FeatureType.VECTOR_TIMELESS][self.feature_name] = gdf\n",
    "        return eopatch"
   ]
  },
  {
   "cell_type": "code",
   "execution_count": null,
   "metadata": {},
   "outputs": [],
   "source": [
    "osm_task = OSMInput('residential', 'way[\"landuse\"=\"residential\"]', polygonize=False)"
   ]
  },
  {
   "cell_type": "code",
   "execution_count": null,
   "metadata": {},
   "outputs": [],
   "source": [
    "osm_task.execute(eop_s2)"
   ]
  },
  {
   "cell_type": "markdown",
   "metadata": {},
   "source": [
    "We now burn the vector feature into a raster mask. \n",
    "\n",
    "The same task can be used to burn to raster any vector data stored in a shapefile."
   ]
  },
  {
   "cell_type": "code",
   "execution_count": null,
   "metadata": {},
   "outputs": [],
   "source": [
    "# help(VectorToRaster)"
   ]
  },
  {
   "cell_type": "code",
   "execution_count": null,
   "metadata": {},
   "outputs": [],
   "source": [
    "rasterise = VectorToRaster((FeatureType.VECTOR_TIMELESS, 'residential'), \n",
    "                           (FeatureType.MASK_TIMELESS, 'RESIDENTIAL_MASK'), \n",
    "                           values=1, raster_shape=(1007, 1002))\n",
    "rasterise.execute(eop_s2)"
   ]
  },
  {
   "cell_type": "code",
   "execution_count": null,
   "metadata": {},
   "outputs": [],
   "source": [
    "fig, ax = plt.subplots(figsize=(15,15))\n",
    "ax.imshow(1.5*np.median(eop_s2.data['TRUE-COLOR-S2-L1C'], axis=0).squeeze())\n",
    "ax.imshow(eop_s2.mask_timeless['RESIDENTIAL_MASK'].squeeze(), alpha=.3)"
   ]
  },
  {
   "cell_type": "markdown",
   "metadata": {},
   "source": [
    "Tasks can be created to retrieve vector data from Geopedia, or from other geospatial databases."
   ]
  },
  {
   "cell_type": "markdown",
   "metadata": {},
   "source": [
    "## 4. Retrieve S1 data <a id=\"sentinel-1\"></a>"
   ]
  },
  {
   "cell_type": "code",
   "execution_count": null,
   "metadata": {},
   "outputs": [],
   "source": [
    "s1_iw_des = S1IWWCSInput('IW_VV', resx='10m', resy='10m', orbit='descending')\n",
    "s1_iw_asc = S1IWWCSInput('IW_VV', resx='10m', resy='10m', orbit='ascending')"
   ]
  },
  {
   "cell_type": "code",
   "execution_count": null,
   "metadata": {},
   "outputs": [],
   "source": [
    "eop_s1_iw_des = s1_iw_des.execute(bbox=bbox, time_interval=['2019-07-01','2019-08-01'])"
   ]
  },
  {
   "cell_type": "code",
   "execution_count": null,
   "metadata": {},
   "outputs": [],
   "source": [
    "eop_s1_iw_des"
   ]
  },
  {
   "cell_type": "markdown",
   "metadata": {},
   "source": [
    "[VV-polarised Timescan Composite](https://github.com/ESA-PhiLab/OpenSarToolkit/blob/master/README.md)"
   ]
  },
  {
   "cell_type": "code",
   "execution_count": null,
   "metadata": {},
   "outputs": [],
   "source": [
    "vv_des_r = np.percentile(eop_s1_iw_des.data['IW_VV'], 80, axis=0)[..., [0]]\n",
    "vv_des_g = np.percentile(eop_s1_iw_des.data['IW_VV'], 20, axis=0)[..., [0]]\n",
    "vv_des_b = np.std(eop_s1_iw_des.data['IW_VV'], axis=0)[..., [0]]"
   ]
  },
  {
   "cell_type": "code",
   "execution_count": null,
   "metadata": {},
   "outputs": [],
   "source": [
    "plt.figure(figsize=(15,15))\n",
    "plt.imshow(np.concatenate((vv_des_r, vv_des_r, vv_des_b), axis=-1))"
   ]
  },
  {
   "cell_type": "code",
   "execution_count": null,
   "metadata": {},
   "outputs": [],
   "source": [
    "eop_s1_iw_asc = s1_iw_asc.execute(bbox=bbox, time_interval=['2019-07-01','2019-08-01'])"
   ]
  },
  {
   "cell_type": "code",
   "execution_count": null,
   "metadata": {},
   "outputs": [],
   "source": [
    "eop_s1_iw_asc"
   ]
  },
  {
   "cell_type": "code",
   "execution_count": null,
   "metadata": {},
   "outputs": [],
   "source": [
    "vv_asc_r = np.percentile(eop_s1_iw_asc.data['IW_VV'], 80, axis=0)[..., [0]]\n",
    "vv_asc_g = np.percentile(eop_s1_iw_asc.data['IW_VV'], 20, axis=0)[..., [0]]\n",
    "vv_asc_b = np.std(eop_s1_iw_asc.data['IW_VV'], axis=0)[..., [0]]"
   ]
  },
  {
   "cell_type": "code",
   "execution_count": null,
   "metadata": {},
   "outputs": [],
   "source": [
    "plt.figure(figsize=(15,15))\n",
    "plt.imshow(np.concatenate((vv_asc_r, vv_asc_r, vv_asc_b), axis=-1))"
   ]
  },
  {
   "cell_type": "markdown",
   "metadata": {},
   "source": [
    "Similarly, Sentinel-2 L2A data can be added, as well as Digital Elevation data"
   ]
  },
  {
   "cell_type": "code",
   "execution_count": null,
   "metadata": {},
   "outputs": [],
   "source": []
  },
  {
   "cell_type": "code",
   "execution_count": null,
   "metadata": {},
   "outputs": [],
   "source": []
  }
 ],
 "metadata": {
  "kernelspec": {
   "display_name": "Python 3",
   "language": "python",
   "name": "python3"
  },
  "language_info": {
   "codemirror_mode": {
    "name": "ipython",
    "version": 3
   },
   "file_extension": ".py",
   "mimetype": "text/x-python",
   "name": "python",
   "nbconvert_exporter": "python",
   "pygments_lexer": "ipython3",
   "version": "3.6.6"
  }
 },
 "nbformat": 4,
 "nbformat_minor": 4
}
