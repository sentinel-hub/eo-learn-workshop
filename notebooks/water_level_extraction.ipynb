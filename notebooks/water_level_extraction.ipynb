{
 "cells": [
  {
   "cell_type": "markdown",
   "metadata": {},
   "source": [
    "# Water level extraction\n",
    "### A Jupyter notebook on how to detect the water level of water bodies around the world, using Sentinel-2 multi-spectral and multi-temporal imagery.\n",
    "\n",
    "This notebook serves as an example on how to bring satellite data from space down to the hands of people living on Earth and analyze this data in order to make some conclusions which affect all of Earth's citizens. Specifically it demonstrates how to run water detection algorithm and extract surface water level for a single reservoir in a given time interval.\n",
    "\n",
    "Hopefully this example notebook promotes an increase of awareness about environmental problems and at least a bit helps us to make the world a better place.\n",
    "\n",
    "## Notebook outline\n",
    "The outline of this notebook is the following:\n",
    "1. Defining geometries of a few waterbodies\n",
    "2. Preparing and executing the full workflow for water detection\n",
    "   1. Downloading Sentinel-2 data (true color and NDWI index) using [SentinelHub](https://www.sentinel-hub.com/) services\n",
    "   2. Cloud detection using the [s2cloudless](https://github.com/sentinel-hub/sentinel2-cloud-detector) cloud detector\n",
    "   3. Water detection\n",
    "3. Visualising the waterbodies and the water level over a period of time\n",
    "4. Filtering out cloudy scenes to improve the results\n",
    "\n",
    "## Requirements\n",
    "- `eo-learn` (https://github.com/sentinel-hub/eo-learn)\n",
    "- `Water Observatory Backend` (https://github.com/sentinel-hub/water-observatory-backend)\n",
    "\n",
    "In order to run the example you will also need a Sentinel Hub account. If you do not have one yet, you can create a free trial account at [Sentinel Hub webpage](https://services.sentinel-hub.com/oauth/subscription). If you are a researcher you can even apply for a free non-commercial account at [ESA OSEO page](https://earth.esa.int/aos/OSEO).\n",
    "\n",
    "Once you have the account set up, login to [Sentinel Hub Configurator](https://apps.sentinel-hub.com/configurator/). By default you will already have the default configuration with an **instance ID** (alpha-numeric code of length 36). For this tutorial we recommend that you create a new configuration (`\"Add new configuration\"`) and set the configuration to be based on **Python scripts template**. Such configuration will already contain all layers used in these examples. Otherwise you will have to define the layers for your configuration yourself.\n",
    "\n",
    "After you have prepared a configuration please put configuration's **instance ID** into `sentinelhub` package's configuration file following the [configuration instructions](http://sentinelhub-py.readthedocs.io/en/latest/configure.html)."
   ]
  },
  {
   "cell_type": "markdown",
   "metadata": {},
   "source": [
    "### Define the necessary imports"
   ]
  },
  {
   "cell_type": "code",
   "execution_count": null,
   "metadata": {},
   "outputs": [],
   "source": [
    "# set the autoreload and the inline plotting for matplotlib\n",
    "%reload_ext autoreload\n",
    "%autoreload 2\n",
    "%matplotlib inline\n",
    "\n",
    "# data manipulation\n",
    "import numpy as np\n",
    "import matplotlib\n",
    "import matplotlib.pyplot as plt\n",
    "from mpl_toolkits.axes_grid1 import make_axes_locatable\n",
    "\n",
    "# image manipulations\n",
    "from skimage.filters import threshold_otsu, sobel\n",
    "from skimage.morphology import erosion, dilation, opening, closing, white_tophat, disk\n",
    "\n",
    "# GIS related\n",
    "import geopandas as gpd\n",
    "from shapely.wkt import loads\n",
    "from shapely.geometry import shape, MultiPolygon, Polygon\n",
    "\n",
    "# eo-learn related\n",
    "from eolearn.core import EOTask, EOPatch, LinearWorkflow, Dependency, FeatureType, LoadFromDisk, SaveToDisk\n",
    "from eolearn.io import S2L1CWCSInput \n",
    "from eolearn.mask import AddCloudMaskTask, AddValidDataMaskTask, get_s2_pixel_cloud_detector\n",
    "from eolearn.features import SimpleFilterTask\n",
    "from eolearn.geometry import VectorToRaster\n",
    "\n",
    "# Sentinel Hub\n",
    "from sentinelhub import BBox, CRS\n",
    "\n",
    "# helper functions for water detection\n",
    "from utilities import *\n",
    "\n",
    "# other\n",
    "import urllib.request as request\n",
    "import json\n",
    "from datetime import datetime\n",
    "from shapely.wkt import loads"
   ]
  },
  {
   "cell_type": "markdown",
   "metadata": {},
   "source": [
    "## 1. Obtaining geometries of waterbodies\n",
    "\n",
    "One example waterbody chosen in advance:\n",
    "- [Theewaterskloof Dam, South Africa](https://en.wikipedia.org/wiki/Theewaterskloof_Dam)\n",
    "\n",
    "We can easily obtain other waterbody geometries from the [BlueDot Water Observatory](https://water.blue-dot-observatory.com) API, which holds information of many waterbodies across the world. By searching for a specific waterbody, you can copy the `ID` number in the URL in order to access the nominal geometry of the corresponding waterbod (i.e. number `38538` in url `https://water.blue-dot-observatory.com/38538/2019-02-05`)\n",
    "\n",
    "![Water Observatory screenshot](https://i.imgur.com/EqGI599.png)"
   ]
  },
  {
   "cell_type": "code",
   "execution_count": null,
   "metadata": {},
   "outputs": [],
   "source": [
    "ID = 38538"
   ]
  },
  {
   "cell_type": "code",
   "execution_count": null,
   "metadata": {},
   "outputs": [],
   "source": [
    "# function for obtaining the nominal water geometry from the water observatory API\n",
    "def get_nominal_geometry(ID):\n",
    "    wb_url = f'https://water.blue-dot-observatory.com/api/waterbodies/{ID}/index.html'\n",
    "    with request.urlopen(wb_url) as url:\n",
    "        wb_data = json.loads(url.read().decode())\n",
    "        nominal_outline = shape(wb_data['nominal_outline']['geometry'])\n",
    "    return nominal_outline\n",
    "\n",
    "# utility function for plotting the geometry\n",
    "def plot_geometry(geom, ax = None, **kwargs):\n",
    "    \n",
    "    if geom is None:\n",
    "        return\n",
    "    if geom.exterior is None:\n",
    "        return\n",
    "    \n",
    "    x,y = geom.exterior.xy\n",
    "\n",
    "    if ax is None:\n",
    "        fig = plt.figure(figsize=(20,10))\n",
    "        ax = fig.add_subplot(111)\n",
    "        \n",
    "    ax.plot(x, y, **kwargs)"
   ]
  },
  {
   "cell_type": "code",
   "execution_count": null,
   "metadata": {},
   "outputs": [],
   "source": [
    "# get the nominal geometry\n",
    "geom = get_nominal_geometry(ID)\n",
    "\n",
    "# and plot it\n",
    "plot_geometry(geom)"
   ]
  },
  {
   "cell_type": "markdown",
   "metadata": {},
   "source": [
    "But now we need a bounding box for this geometry, in order to download Sentinel-2 data. We define a bounding box and inflate it a little bit in order to cosntruct a BBox object which is used with Sentinel Hub services. The BBox class also accepts the coordinate sstem (CRS), where we use the same one as in the case of the geometry, which is [WGS84](https://en.wikipedia.org/wiki/World_Geodetic_System)."
   ]
  },
  {
   "cell_type": "code",
   "execution_count": null,
   "metadata": {},
   "outputs": [],
   "source": [
    "# create BBox instance\n",
    "bbox = get_bbox(geom, inflate_bbox=0.1)\n",
    "\n",
    "# plot the BBox and the geometry\n",
    "fig = plt.figure(figsize=(20,10))\n",
    "ax = fig.add_subplot(111)\n",
    "plot_geometry(bbox.geometry, ax)\n",
    "plot_geometry(geom, ax)"
   ]
  },
  {
   "cell_type": "markdown",
   "metadata": {},
   "source": [
    "# 2. Preparing and executing the full workflow for water detection"
   ]
  },
  {
   "cell_type": "markdown",
   "metadata": {},
   "source": [
    "Sentinel Hub services are installed with `eo-learn`. It is an Earth observation processing framework for machine learning in Python, which provides a seamless access and processing of spatio-temporal image sequences acquired by any satellite fleet in a timely and automatic manner.\n",
    "\n",
    "`eo-learn` works as a workflow, where a workflow consists of one or multiple tasks. Each tasks achieves a specific job (downloading data, calculating band combinations, etc) on a small patch of an area, called EOPatch. EOPatch is a container for EO and non-EO data.\n",
    "\n",
    "Let's define a workflow to download and obtain the necessary data for water detection. We will download the RGB bands in order to actually visualise the true-color image of the waterbody. Additionally, we will download the `NDWI` band combination, which we will use for water detection. It is defined as\n",
    "\n",
    "$$NDWI = \\frac{B_3-B_8}{B_3+B_8},$$\n",
    "\n",
    "where $B_3$ and $B_8$ are the green and near-infrared Sentinel-2 bands, respectively."
   ]
  },
  {
   "cell_type": "markdown",
   "metadata": {},
   "source": [
    "### Definitions of some custom tasks that will be used in the workflow"
   ]
  },
  {
   "cell_type": "code",
   "execution_count": null,
   "metadata": {},
   "outputs": [],
   "source": [
    "# calculate fraction of pixels with non-zero values\n",
    "def coverage(array):\n",
    "    return 1.0 - np.count_nonzero(array)/np.size(array)\n",
    "\n",
    "# a function to return valid data for the area as a union of pixels with non-zero values and pixels that contain no clouds\n",
    "class ValidDataPredicate:\n",
    "    def __call__(self, eopatch):     \n",
    "        return np.logical_and(eopatch.mask['IS_DATA'].astype(np.bool), \n",
    "                              np.logical_not(eopatch.mask['CLM'].astype(np.bool)))\n",
    "\n",
    "# definition of a task to calculate and add the valid coverage scalar to the EOPatch\n",
    "class AddValidDataCoverage(EOTask):\n",
    "    def execute(self, eopatch):\n",
    "        \n",
    "        vld = eopatch.get_feature(FeatureType.MASK, 'VALID_DATA')\n",
    "        \n",
    "        cvrg = np.apply_along_axis(coverage, 1, np.reshape(vld, (vld.shape[0], vld.shape[1]*vld.shape[2])))\n",
    "        \n",
    "        eopatch.add_feature(FeatureType.SCALAR, 'COVERAGE', cvrg[:,np.newaxis])\n",
    "        return eopatch\n",
    "\n",
    "# definition of a task for water mask and water level detection\n",
    "class WaterDetector(EOTask):\n",
    "    def execute(self, eopatch):\n",
    "        \n",
    "        results = [get_water_level_optical(date, eopatch.data['NDWI'][idx,...,0], geom, bbox, simplify=True) for idx, date in enumerate(eopatch.timestamp)]\n",
    "        \n",
    "        df = list([x['geometry'] for x in results])\n",
    "        gdf = gpd.GeoDataFrame(geometry = df, crs = {'init': eopatch.bbox.crs.ogc_string()})\n",
    "        gdf['TIMESTAMP'] = eopatch.timestamp\n",
    "        \n",
    "        eopatch.add_feature(FeatureType.VECTOR, 'WATER_OUTLINE', gdf)\n",
    "        eopatch.add_feature(FeatureType.SCALAR, 'WATER_LEVEL', np.array([x['water_level'] for x in results])[..., np.newaxis])\n",
    "        \n",
    "        return eopatch"
   ]
  },
  {
   "cell_type": "markdown",
   "metadata": {},
   "source": [
    "### Initializations of EOTasks"
   ]
  },
  {
   "cell_type": "code",
   "execution_count": null,
   "metadata": {},
   "outputs": [],
   "source": [
    "# TASK for downloading RGB bands\n",
    "# `TRUE-COLOR-S2-L1C` is the name of the layer defined in the Sentinel Hub configurator.\n",
    "# the arguments are the resolution of the image, max cloud coverage of the whole Satellite tile, and the instance ID for your Sentinel Hub account\n",
    "input_task = S2L1CWCSInput(layer='TRUE-COLOR-S2-L1C', \n",
    "                           resx='20m', resy='20m', maxcc=0.5, \n",
    "                           instance_id=None)\n",
    "\n",
    "# TASK for downloading the NDWI band combination\n",
    "# other parameters are copied from the previous task\n",
    "add_ndwi = S2L1CWCSInput('NDWI')\n",
    "\n",
    "# TASK for cloud detection\n",
    "# cloud probability map (CLP) and cloud mask (CLM) are calculated at 160 m resolution in order to speed up the process\n",
    "cloud_classifier = get_s2_pixel_cloud_detector(average_over=2, dilation_size=1, all_bands=False)\n",
    "cloud_det = AddCloudMaskTask(cloud_classifier, 'BANDS-S2CLOUDLESS', cm_size_y='160m', cm_size_x='160m', \n",
    "                             cmask_feature='CLM', cprobs_feature='CLP', instance_id=None)\n",
    "\n",
    "# TASK for adding a raster mask of the nominal water extent (NOMINAL_WATER) \n",
    "# raster shape is provided by an existing feature inside of the EOPatch\n",
    "gdf = gpd.GeoDataFrame(crs={'init':'epsg:4326'}, geometry=[geom])\n",
    "add_nominal_water = VectorToRaster(raster_feature=(FeatureType.MASK_TIMELESS, 'NOMINAL_WATER'), \n",
    "                                   vector_input=gdf, values=1, \n",
    "                                   raster_shape=(FeatureType.MASK, 'IS_DATA'), \n",
    "                                   raster_dtype=np.uint8)\n",
    "\n",
    "# TASK for adding valid data mask to the EOPatch (mask type)\n",
    "add_valmask = AddValidDataMaskTask(predicate=ValidDataPredicate())\n",
    "\n",
    "# TASK for adding valid data coverage to the EOPatch (scalar type)\n",
    "add_coverage = AddValidDataCoverage()\n",
    "\n",
    "# TASK for water detection\n",
    "water_det = WaterDetector()"
   ]
  },
  {
   "cell_type": "markdown",
   "metadata": {},
   "source": [
    "### Define and run the workflow"
   ]
  },
  {
   "cell_type": "code",
   "execution_count": null,
   "metadata": {},
   "outputs": [],
   "source": [
    "# initialize the workflow\n",
    "workflow = LinearWorkflow(input_task, \n",
    "                          add_ndwi, \n",
    "                          cloud_det, \n",
    "                          add_nominal_water, \n",
    "                          add_valmask, \n",
    "                          add_coverage,\n",
    "                          water_det\n",
    "                         )"
   ]
  },
  {
   "cell_type": "code",
   "execution_count": null,
   "metadata": {},
   "outputs": [],
   "source": [
    "workflow.dependency_graph()"
   ]
  },
  {
   "cell_type": "code",
   "execution_count": null,
   "metadata": {},
   "outputs": [],
   "source": [
    "%%time\n",
    "\n",
    "# time interval definition\n",
    "time_interval = ['2017-01-01','2019-1-1']\n",
    "\n",
    "# execute the workflow\n",
    "result = workflow.execute({\n",
    "    input_task: {\n",
    "        'bbox': bbox,\n",
    "        'time_interval': time_interval\n",
    "    },\n",
    "})"
   ]
  },
  {
   "cell_type": "markdown",
   "metadata": {},
   "source": [
    "### Structure of the `EOPatch`"
   ]
  },
  {
   "cell_type": "code",
   "execution_count": null,
   "metadata": {},
   "outputs": [],
   "source": [
    "# result is in the form of a dictionary\n",
    "eopatch = result.eopatch()\n",
    "eopatch"
   ]
  },
  {
   "cell_type": "markdown",
   "metadata": {},
   "source": [
    "Let's now visualise the first few true-color images of the selected waterbody in the given time series. We see below that some images contain clouds, which causes problems in proper water level detection."
   ]
  },
  {
   "cell_type": "markdown",
   "metadata": {},
   "source": [
    "### Plot the NDWI to see how the water detector traces the waterbody outline"
   ]
  },
  {
   "cell_type": "code",
   "execution_count": null,
   "metadata": {},
   "outputs": [],
   "source": [
    "# get aspect ratio of image for better plotting\n",
    "image_ar = eopatch.mask_timeless['NOMINAL_WATER'].shape[0] / eopatch.mask_timeless['NOMINAL_WATER'].shape[1]\n",
    "\n",
    "# plot the NDWI at different dates\n",
    "fig = plt.figure(figsize=(20,15*image_ar))\n",
    "\n",
    "for i in range(12):\n",
    "    ax = plt.subplot(3,4,i+1)\n",
    "    ax.imshow(eopatch.data['NDWI'][i].squeeze(), vmin = 0, vmax = 1)\n",
    "    ax.axis('off')\n",
    "    \n",
    "plt.tight_layout()"
   ]
  },
  {
   "cell_type": "markdown",
   "metadata": {},
   "source": [
    "### Plot true-color images with the detected water outlines"
   ]
  },
  {
   "cell_type": "code",
   "execution_count": null,
   "metadata": {},
   "outputs": [],
   "source": [
    "def plot_waterbody(img, date, dam_poly, dam_bbox, water_extent, water_level, \n",
    "                    color_nominal='white', color_current='xkcd:lime', ax = None):\n",
    "\n",
    "    shape = img.shape[0:2]\n",
    "    \n",
    "    if ax is None:\n",
    "        fig, ax = plt.subplots(nrows=1, ncols=1, figsize=(10,10))\n",
    "        \n",
    "    ax.imshow(img,extent=[dam_bbox.min_x,dam_bbox.max_x,dam_bbox.min_y,dam_bbox.max_y])\n",
    "        \n",
    "    if isinstance(dam_poly, Polygon):\n",
    "        draw_poly(ax,dam_poly, color=color_nominal)\n",
    "    elif isinstance(dam_poly, MultiPolygon):\n",
    "        draw_multi(ax,dam_poly, color=color_nominal)\n",
    "        \n",
    "    if isinstance(water_extent, Polygon):\n",
    "        draw_poly(ax,water_extent, color=color_current)\n",
    "    elif isinstance(water_extent, MultiPolygon):\n",
    "        draw_multi(ax, water_extent, color=color_current)"
   ]
  },
  {
   "cell_type": "code",
   "execution_count": null,
   "metadata": {},
   "outputs": [],
   "source": [
    "# get aspect ratio of image for better plotting\n",
    "image_ar = eopatch.data['TRUE-COLOR-S2-L1C'][0].shape[0] / eopatch.data['TRUE-COLOR-S2-L1C'][0].shape[1]\n",
    "\n",
    "fig = plt.figure(figsize=(20,15*image_ar))\n",
    "\n",
    "for i in range(12):\n",
    "    ax = plt.subplot(3,4,i+1)\n",
    "    plot_waterbody(eopatch.data['TRUE-COLOR-S2-L1C'][i], eopatch.timestamp[i], geom, bbox, eopatch.vector['WATER_OUTLINE']['geometry'][i], eopatch.scalar['WATER_LEVEL'][i], ax=ax)\n",
    "    ax.axis('off')\n",
    "    \n",
    "plt.tight_layout(pad=0)"
   ]
  },
  {
   "cell_type": "markdown",
   "metadata": {},
   "source": [
    "### Plotting the detected water levels"
   ]
  },
  {
   "cell_type": "code",
   "execution_count": null,
   "metadata": {},
   "outputs": [],
   "source": [
    "def plot_water_levels(eopatch, max_coverage=1.0):\n",
    "    fig, ax = plt.subplots(figsize=(20,7))\n",
    "\n",
    "    dates = np.asarray(eopatch.timestamp)\n",
    "    ax.plot(dates[eopatch.scalar['COVERAGE'][...,0]<max_coverage],\n",
    "            eopatch.scalar['WATER_LEVEL'][eopatch.scalar['COVERAGE'][...,0]<max_coverage],\n",
    "            'bo-',alpha=0.7, label='Water Level')\n",
    "    ax.plot(dates[eopatch.scalar['COVERAGE'][...,0]<max_coverage],\n",
    "            eopatch.scalar['COVERAGE'][eopatch.scalar['COVERAGE'][...,0]<max_coverage],\n",
    "            '--',color='gray',alpha=0.7, label='Cloud Coverage')\n",
    "    ax.set_ylim(0.0,1.1)\n",
    "    ax.set_xlabel('Date')\n",
    "    ax.set_ylabel('Water Level')\n",
    "    ax.set_title('Detected Water Level')\n",
    "    ax.grid(axis='y')\n",
    "    ax.legend(loc='best')\n",
    "    return ax\n",
    "\n",
    "# plot the water level with no cloudy scene filtering (accept all clouds)\n",
    "ax = plot_water_levels(eopatch, 1.0);"
   ]
  },
  {
   "cell_type": "markdown",
   "metadata": {},
   "source": [
    "We see a lot of fluctuations in the water level. At the same time, cloud coverage is plotted, and it shares the same dates as the water level outliers.\n",
    "\n",
    "Let us now set a threshold for tha maximum cloud coverage of 2 % and filter out the dates which correspond to cloudy scenes. This is done by filtering out the dates which have a value of `eopatch.scalar['COVERAGE']` larger than 0.02."
   ]
  },
  {
   "cell_type": "code",
   "execution_count": null,
   "metadata": {},
   "outputs": [],
   "source": [
    "plot_water_levels(eopatch, 0.02);"
   ]
  }
 ],
 "metadata": {
  "kernelspec": {
   "display_name": "Python 3",
   "language": "python",
   "name": "python3"
  },
  "language_info": {
   "codemirror_mode": {
    "name": "ipython",
    "version": 3
   },
   "file_extension": ".py",
   "mimetype": "text/x-python",
   "name": "python",
   "nbconvert_exporter": "python",
   "pygments_lexer": "ipython3",
   "version": "3.6.8"
  }
 },
 "nbformat": 4,
 "nbformat_minor": 2
}
