{
 "cells": [
  {
   "cell_type": "markdown",
   "metadata": {},
   "source": [
    "# Water level extraction\n",
    "\n",
    "**A Jupyter notebook on how to detect the water level of water bodies around the world, using Sentinel-2 multi-spectral and multi-temporal imagery**\n",
    "\n",
    "This notebook serves as an example on how to bring satellite data from space down to the hands of people living on Earth and analyze this data in order to make some conclusions that affect all of Earth's citizens. Specifically, it demonstrates how to run a water detection algorithm and extract surface water level for a single reservoir in a given time interval.\n",
    "\n",
    "Hopefully, this example notebook promotes an increase of awareness about environmental problems and at least a bit helps us to make the world a better place.\n",
    "\n",
    "## Notebook outline\n",
    "The outline of this notebook is the following:\n",
    "1. Defining geometries of a few waterbodies\n",
    "2. Preparing and executing the full workflow for water detection\n",
    "   1. Downloading Sentinel-2 data (true color and NDWI index) using [SentinelHub](https://www.sentinel-hub.com/) services\n",
    "   2. Cloud detection using the [s2cloudless](https://github.com/sentinel-hub/sentinel2-cloud-detector) cloud detector\n",
    "   3. Water detection\n",
    "3. Visualizing the waterbodies and the water level over a period of time\n",
    "4. Filtering out cloudy scenes to improve the results\n",
    "\n",
    "## Requirements\n",
    "- `eo-learn` (https://github.com/sentinel-hub/eo-learn)\n",
    "- `Water Observatory Backend` (https://github.com/sentinel-hub/water-observatory-backend)\n",
    "\n",
    "In order to run the example, you will also need a Sentinel Hub account. If you do not have one yet, you can create a free trial account at [Sentinel Hub webpage](https://services.sentinel-hub.com/oauth/subscription). If you are a researcher you can even apply for a free non-commercial account at [ESA OSEO page](https://earth.esa.int/aos/OSEO).\n",
    "\n",
    "Once you have the account set up, login to [Sentinel Hub Configurator](https://apps.sentinel-hub.com/configurator/). By default, you will already have the default configuration with an **instance ID** (alpha-numeric code of length 36). For this tutorial, we recommend that you create a new configuration (`\"Add new configuration\"`) and set the configuration to be based on **Python scripts template**. Such configuration will already contain all layers used in these examples. Otherwise, you will have to define the layers for your configuration yourself.\n",
    "\n",
    "After you have prepared a configuration please put configuration's **instance ID** into `sentinelhub` package's configuration file following the [configuration instructions](http://sentinelhub-py.readthedocs.io/en/latest/configure.html)."
   ]
  },
  {
   "cell_type": "code",
   "execution_count": null,
   "metadata": {},
   "outputs": [],
   "source": [
    "# Set your Sentinel Hub instance ID either here or \n",
    "# in command line with sentinelhub.config --instance_id <your instance id>\n",
    "INSTANCE_ID = None"
   ]
  },
  {
   "cell_type": "markdown",
   "metadata": {},
   "source": [
    "### Define the necessary imports"
   ]
  },
  {
   "cell_type": "code",
   "execution_count": null,
   "metadata": {},
   "outputs": [],
   "source": [
    "# set the autoreload and the inline plotting for matplotlib\n",
    "%reload_ext autoreload\n",
    "%autoreload 2\n",
    "%matplotlib inline\n",
    "\n",
    "# download\n",
    "import requests\n",
    "\n",
    "# data manipulation\n",
    "import numpy as np\n",
    "import numpy.ma as ma\n",
    "\n",
    "# geometry manipulation\n",
    "import geopandas as gpd\n",
    "import shapely.geometry\n",
    "import shapely.wkt\n",
    "from shapely.geometry import Point, MultiPolygon, Polygon\n",
    "\n",
    "# image manipulation\n",
    "import skimage.feature\n",
    "import skimage.filters\n",
    "import skimage.morphology\n",
    "import rasterio\n",
    "\n",
    "# Sentinel Hub\n",
    "from sentinelhub import BBox, CRS\n",
    "\n",
    "# eo-learn related\n",
    "from eolearn.core import EOTask, LinearWorkflow, FeatureType\n",
    "from eolearn.io import S2L1CWCSInput \n",
    "from eolearn.mask import AddCloudMaskTask, AddValidDataMaskTask, get_s2_pixel_cloud_detector\n",
    "from eolearn.geometry import VectorToRaster\n",
    "\n",
    "# plotting\n",
    "import matplotlib\n",
    "import matplotlib.patheffects\n",
    "import matplotlib.pyplot as plt\n",
    "from mpl_toolkits.axes_grid1 import make_axes_locatable"
   ]
  },
  {
   "cell_type": "markdown",
   "metadata": {},
   "source": [
    "## 1. Obtaining geometries of waterbodies\n",
    "\n",
    "A waterbody chosen for this notebook:\n",
    "- [Theewaterskloof Dam, South Africa](https://en.wikipedia.org/wiki/Theewaterskloof_Dam)\n",
    "\n",
    "We can easily obtain waterbody geometries from the [BlueDot Water Observatory](https://water.blue-dot-observatory.com) API, which holds information of many waterbodies across the world. By searching for a specific waterbody, we can copy the `WATERBODY_ID` number in the URL in order to access the nominal geometry of the corresponding waterbody (i.e. number `38538` in URL `https://water.blue-dot-observatory.com/38538/2019-02-05`)\n",
    "\n",
    "![Water Observatory screenshot](https://i.imgur.com/EqGI599.png)"
   ]
  },
  {
   "cell_type": "code",
   "execution_count": null,
   "metadata": {},
   "outputs": [],
   "source": [
    "WATERBODY_ID = 38538"
   ]
  },
  {
   "cell_type": "code",
   "execution_count": null,
   "metadata": {},
   "outputs": [],
   "source": [
    "def get_nominal_geometry(waterbody_id):\n",
    "    \"\"\" A function for obtaining the nominal water geometry from the water observatory API\n",
    "    \"\"\"\n",
    "    wb_url = f'https://water.blue-dot-observatory.com/api/waterbodies/{waterbody_id}/index.html'\n",
    "    wb_data = requests.get(wb_url).json()\n",
    "    \n",
    "    return shapely.geometry.shape(wb_data['nominal_outline']['geometry'])\n",
    "\n",
    "\n",
    "def plot_geometry(geom, ax=None, **kwargs):\n",
    "    \"\"\" An utility function for plotting the geometry \n",
    "    \"\"\"\n",
    "    if geom is None or geom.exterior is None:\n",
    "        return\n",
    "\n",
    "    x,y = geom.exterior.xy\n",
    "    if ax is None:\n",
    "        fig = plt.figure(figsize=(20, 10))\n",
    "        ax = fig.add_subplot(111)\n",
    "        \n",
    "    ax.plot(x, y, **kwargs)"
   ]
  },
  {
   "cell_type": "code",
   "execution_count": null,
   "metadata": {},
   "outputs": [],
   "source": [
    "nominal_geometry = get_nominal_geometry(WATERBODY_ID)\n",
    "\n",
    "plot_geometry(nominal_geometry)"
   ]
  },
  {
   "cell_type": "markdown",
   "metadata": {},
   "source": [
    "But now we need a bounding box for this geometry, in order to download Sentinel-2 data. We define a bounding box and inflate it a little bit in order to construct a `BBox` object which is used with Sentinel Hub services. The BBox class also accepts the coordinate system (CRS), where we use the same one as in the case of the geometry, which is [WGS84](https://en.wikipedia.org/wiki/World_Geodetic_System)."
   ]
  },
  {
   "cell_type": "code",
   "execution_count": null,
   "metadata": {},
   "outputs": [],
   "source": [
    "wb_bbox = BBox(nominal_geometry.bounds, crs=CRS.WGS84).buffer(0.2)\n",
    "\n",
    "fig = plt.figure(figsize=(20, 10))\n",
    "ax = fig.add_subplot(111)\n",
    "plot_geometry(wb_bbox.geometry, ax)\n",
    "plot_geometry(nominal_geometry, ax)"
   ]
  },
  {
   "cell_type": "markdown",
   "metadata": {},
   "source": [
    "## 2. Preparing and executing the full workflow for water detection\n",
    "\n",
    "Sentinel Hub services are installed with `eo-learn`. It is an Earth observation processing framework for machine learning in Python, which provides seamless access and processing of spatio-temporal image sequences acquired by any satellite fleet in a timely and automatic manner.\n",
    "\n",
    "`eo-learn` works as a workflow, where a workflow consists of one or multiple tasks. Each task achieves a specific job (downloading data, calculating band combinations, etc) on a small patch of an area, called EOPatch. EOPatch is a container for EO and non-EO data.\n",
    "\n",
    "Let's define a workflow to download and obtain the necessary data for water detection. We will download the RGB bands in order to actually visualize the true-color image of the waterbody. Additionally, we will download the `NDWI` band combination, which we will use for water detection. It is defined as\n",
    "\n",
    "$$NDWI = \\frac{B_3-B_8}{B_3+B_8},$$\n",
    "\n",
    "where $B_3$ and $B_8$ are the green and near-infrared Sentinel-2 bands, respectively.\n",
    "\n",
    "### Definition of the main water detecition task"
   ]
  },
  {
   "cell_type": "code",
   "execution_count": null,
   "metadata": {},
   "outputs": [],
   "source": [
    "class WaterDetectionTask(EOTask):\n",
    "    \"\"\" A task for water mask and water level detection\n",
    "    \"\"\"\n",
    "    def __init__(self, ndwi_feature, vector_result_feature, scalar_result_feature, nominal_geometry, *,\n",
    "                 simplify=True, canny_sigma=4, canny_threshold=0.3, dilation_size=4):\n",
    "        \"\"\"\n",
    "        :param ndwi_feature: Input feature of EOPatch containing NDWI values\n",
    "        :type ndwi_feature: (FeatureType, str)\n",
    "        :param vector_result_feature: A resulting vector feature containing waterbody geometries\n",
    "        :type: vector_result_feature: (FeatureType, str)\n",
    "        :param scalar_result_feature: A resulting scalar feature containing ratios between calculated area of detected\n",
    "            waterbody and area of nominal waterbody\n",
    "        :type scalar_result_feature: (FeatureType, str)\n",
    "        :param nominal_geometry: A geometry of a waterbody\n",
    "        :type nominal_geometry: shapely.geometry.Polygon or shapely.geometry.MultiPolygon\n",
    "        :param simplify: A flag specifying if resulting geometry should be simplified\n",
    "        :type simplify: bool\n",
    "        :param canny_sigma: `sigma` parameter of `skimage.feature.canny` function\n",
    "        :type canny_sigma: float\n",
    "        :param canny_threshold: `high_threshold` parameter of `skimage.feature.canny` function\n",
    "        :type canny_threshold: float\n",
    "        :param dilation_size: Size of dilation in pixels used by `skimage.morphology.binary_dilation`\n",
    "        :type dilation_size: int\n",
    "        \"\"\"\n",
    "        self.ndwi_feature = ndwi_feature\n",
    "        self.vector_result_feature = vector_result_feature\n",
    "        self.scalar_result_feature = scalar_result_feature\n",
    "        self.nominal_geometry = nominal_geometry\n",
    "\n",
    "        self.simplify = simplify\n",
    "        self.canny_sigma = canny_sigma\n",
    "        self.canny_threshold = canny_threshold\n",
    "        self.dilation_disk = skimage.morphology.disk(dilation_size)\n",
    "\n",
    "    def _get_water_level(self, ndwi, bbox):\n",
    "        \"\"\" Run water detection algorithm for an NDWI image\n",
    "        \"\"\"\n",
    "        water_mask, water_status = self._get_water_mask_from_s2(ndwi)\n",
    "        measured_water_extent = self._get_water_extent(water_mask, bbox)\n",
    "\n",
    "        return {\n",
    "            'WATER_LEVEL': measured_water_extent.area / self.nominal_geometry.area,\n",
    "            'STATUS': water_status,\n",
    "            'geometry': measured_water_extent\n",
    "        }\n",
    "\n",
    "    def _get_water_mask_from_s2(self, ndwi):\n",
    "        \"\"\" Make water detection on input NDWI single band image\n",
    "        \"\"\"\n",
    "        # default threshold (no water detected)\n",
    "        otsu_thr = 1.0\n",
    "        status = 0\n",
    "\n",
    "        # transform NDWI values to [0,1]\n",
    "        ndwi_std = (ndwi - np.min(ndwi)) / np.ptp(ndwi)\n",
    "\n",
    "        if len(np.unique(ndwi)) > 1:\n",
    "            edges = skimage.feature.canny(ndwi_std, sigma=self.canny_sigma, high_threshold=self.canny_threshold)\n",
    "            edges = skimage.morphology.binary_dilation(edges, self.dilation_disk)\n",
    "            ndwi_masked = ma.masked_array(ndwi, mask=np.logical_not(edges))\n",
    "\n",
    "            if len(np.unique(ndwi_masked.data[~ndwi_masked.mask])) > 1:\n",
    "                # threshold determined using dilated canny edge + otsu\n",
    "                otsu_thr = skimage.filters.threshold_otsu(ndwi_masked.data[~ndwi_masked.mask])\n",
    "                status = 1\n",
    "\n",
    "                # if majority of pixels above threshold have negative NDWI values\n",
    "                # change the threshold to 0.0\n",
    "                fraction = np.count_nonzero(ndwi > 0) / np.count_nonzero(ndwi > otsu_thr)\n",
    "                if fraction < 0.9:\n",
    "                    otsu_thr = 0.0\n",
    "                    status = 3\n",
    "            else:\n",
    "                # theshold determined with otsu on entire image\n",
    "                otsu_thr = skimage.filters.threshold_otsu(ndwi)\n",
    "                status = 2\n",
    "\n",
    "                # if majority of pixels above threshold have negative NDWI values\n",
    "                # change the threshold to 0.0\n",
    "                fraction = np.count_nonzero(ndwi > 0) / np.count_nonzero(ndwi > otsu_thr)\n",
    "                if fraction < 0.9:\n",
    "                    otsu_thr = 0.0\n",
    "                    status = 4\n",
    "\n",
    "        return (ndwi > otsu_thr).astype(np.uint8), status\n",
    "\n",
    "    def _get_water_extent(self, water_mask, bbox):\n",
    "        \"\"\"\n",
    "        Returns the polygon of measured water extent.\n",
    "        \"\"\"\n",
    "        src_transform = rasterio.transform.from_bounds(*bbox.lower_left, *bbox.upper_right,\n",
    "                                                       width=water_mask.shape[1], height=water_mask.shape[0])\n",
    "\n",
    "        # do vectorization of raster mask\n",
    "        results = [{'properties': {'raster_val': value}, 'geometry': geo}\n",
    "                   for geo, value in rasterio.features.shapes(water_mask, transform=src_transform) if value == 1]\n",
    "\n",
    "        if len(results) == 0:\n",
    "            return Point(0, 0), 0, 0\n",
    "\n",
    "        gpd_polygonized_raster = gpd.GeoDataFrame.from_features(results)\n",
    "        intersection_indices = gpd_polygonized_raster.index[gpd_polygonized_raster.intersects(self.nominal_geometry)]\n",
    "\n",
    "        measured_water_extent = gpd_polygonized_raster.loc[intersection_indices].cascaded_union\n",
    "        measured_water_extent = measured_water_extent.buffer(0)\n",
    "\n",
    "        if self.simplify:\n",
    "            measured_water_extent = self._simplify_geometry(measured_water_extent, 0.0, 0.0001,\n",
    "                                                            min(100000, len(self.nominal_geometry.wkt) * 100))\n",
    "\n",
    "        return measured_water_extent\n",
    "\n",
    "    @staticmethod\n",
    "    def _simplify_geometry(geometry, simpl_fact=0.0, simpl_step=0.0001, threshold=20000):\n",
    "        \"\"\"\n",
    "        Simplifies a geometry by reducing the number of vertices.\n",
    "        \"\"\"\n",
    "        while len(geometry.wkt) > threshold:\n",
    "            geometry = geometry.simplify(simpl_fact, preserve_topology=False)\n",
    "            simpl_fact += simpl_step\n",
    "\n",
    "        return geometry\n",
    "\n",
    "    def execute(self, eopatch):\n",
    "        \"\"\" The execute method\n",
    "        \"\"\"\n",
    "        ndwi_data = eopatch[self.ndwi_feature]\n",
    "\n",
    "        results = (self._get_water_level(ndwi_data[idx, ..., 0], eopatch.bbox) for idx in range(ndwi_data.shape[0]))\n",
    "\n",
    "        result_dict = {}\n",
    "        for wb_result in results:\n",
    "            for name, value in wb_result.items():\n",
    "                result_dict[name] = result_dict.get(name, [])\n",
    "                result_dict[name].append(value)\n",
    "\n",
    "        gdf = gpd.GeoDataFrame(result_dict, crs={'init': eopatch.bbox.crs.ogc_string()})\n",
    "        gdf['TIMESTAMP'] = eopatch.timestamp\n",
    "\n",
    "        eopatch[self.vector_result_feature] = gdf\n",
    "        eopatch[self.scalar_result_feature] = np.array(result_dict['WATER_LEVEL'])[..., np.newaxis]\n",
    "\n",
    "        return eopatch"
   ]
  },
  {
   "cell_type": "markdown",
   "metadata": {},
   "source": [
    "### Definitions of some custom tasks that will be used in the workflow"
   ]
  },
  {
   "cell_type": "code",
   "execution_count": null,
   "metadata": {},
   "outputs": [],
   "source": [
    "class ValidDataPredicate:\n",
    "    \"\"\" An operator to return valid data as an union of pixels with non-zero values and pixels that contain \n",
    "    no clouds\n",
    "    \"\"\"\n",
    "    def __call__(self, eopatch):     \n",
    "        return np.logical_and(eopatch.mask['IS_DATA'].astype(np.bool), \n",
    "                              np.logical_not(eopatch.mask['CLM'].astype(np.bool)))\n",
    "\n",
    "\n",
    "class AddValidDataCoverage(EOTask):\n",
    "    \"\"\" A task that calculates and adds the valid coverage scalar to the EOPatch\n",
    "    \"\"\"\n",
    "    @staticmethod\n",
    "    def get_coverage(data):\n",
    "        \"\"\" Calculate fraction of pixels with non-zero values\n",
    "        \"\"\"\n",
    "        return 1.0 - np.count_nonzero(data)/np.size(data)\n",
    "    \n",
    "    def execute(self, eopatch):\n",
    "\n",
    "        valid_mask = eopatch.mask['VALID_DATA']\n",
    "        new_shape = valid_mask.shape[0], valid_mask.shape[1] * valid_mask.shape[2]\n",
    "        \n",
    "        coverage = np.apply_along_axis(self.get_coverage, 1, np.reshape(valid_mask, new_shape))\n",
    "        \n",
    "        eopatch.scalar['COVERAGE'] = coverage[:, np.newaxis]\n",
    "        return eopatch"
   ]
  },
  {
   "cell_type": "markdown",
   "metadata": {},
   "source": [
    "### Initializations of EOTasks"
   ]
  },
  {
   "cell_type": "code",
   "execution_count": null,
   "metadata": {},
   "outputs": [],
   "source": [
    "# A task for downloading RGB bands\n",
    "# `TRUE-COLOR-S2-L1C` is the name of the layer defined in the Sentinel Hub configurator.\n",
    "# the arguments are the resolution of the image, max cloud coverage of the whole Satellite tile, \n",
    "# and the instance ID for your Sentinel Hub account\n",
    "input_task = S2L1CWCSInput(layer='TRUE-COLOR-S2-L1C', \n",
    "                           resx='20m', resy='20m', maxcc=0.5, \n",
    "                           instance_id=INSTANCE_ID)\n",
    "\n",
    "# A task for downloading the NDWI band combination\n",
    "# other parameters are copied from the previous task\n",
    "add_ndwi = S2L1CWCSInput('NDWI', instance_id=INSTANCE_ID)\n",
    "\n",
    "# A task for cloud detection\n",
    "# cloud probability map (CLP) and cloud mask (CLM) are calculated at 160 m resolution in order to speed up the process\n",
    "cloud_classifier = get_s2_pixel_cloud_detector(average_over=2, dilation_size=1, all_bands=False)\n",
    "cloud_det = AddCloudMaskTask(cloud_classifier, 'BANDS-S2CLOUDLESS', cm_size_y='160m', cm_size_x='160m', \n",
    "                             cmask_feature='CLM', cprobs_feature='CLP', instance_id=None)\n",
    "\n",
    "# A task for adding a raster mask of the nominal water extent (NOMINAL_WATER) \n",
    "# raster shape is provided by an existing feature inside of the EOPatch\n",
    "add_nominal_water = VectorToRaster(gpd.GeoDataFrame(crs={'init': 'epsg:4326'}, geometry=[nominal_geometry]),\n",
    "                                   (FeatureType.MASK_TIMELESS, 'NOMINAL_WATER'),\n",
    "                                   values=1, \n",
    "                                   raster_shape=(FeatureType.MASK, 'IS_DATA'), \n",
    "                                   raster_dtype=np.uint8)\n",
    "\n",
    "# A task for adding valid data mask to the EOPatch (mask type)\n",
    "add_valmask = AddValidDataMaskTask(predicate=ValidDataPredicate())\n",
    "\n",
    "# A task for adding valid data coverage to the EOPatch (scalar type)\n",
    "add_coverage = AddValidDataCoverage()\n",
    "\n",
    "# A task for water detection\n",
    "water_det = WaterDetectionTask((FeatureType.DATA, 'NDWI'),\n",
    "                               (FeatureType.VECTOR, 'WATER_OUTLINE'),\n",
    "                               (FeatureType.SCALAR, 'WATER_LEVEL'),\n",
    "                               nominal_geometry)"
   ]
  },
  {
   "cell_type": "markdown",
   "metadata": {},
   "source": [
    "### Define and run the workflow"
   ]
  },
  {
   "cell_type": "code",
   "execution_count": null,
   "metadata": {},
   "outputs": [],
   "source": [
    "workflow = LinearWorkflow(\n",
    "    input_task, \n",
    "    add_ndwi, \n",
    "    cloud_det, \n",
    "    add_nominal_water, \n",
    "    add_valmask, \n",
    "    add_coverage,\n",
    "    water_det\n",
    ")\n",
    "\n",
    "workflow.dependency_graph()"
   ]
  },
  {
   "cell_type": "markdown",
   "metadata": {},
   "source": [
    "Let's run the workflow. It will take a few minutes."
   ]
  },
  {
   "cell_type": "code",
   "execution_count": null,
   "metadata": {},
   "outputs": [],
   "source": [
    "%%time\n",
    "\n",
    "# time interval definition\n",
    "TIME_INTERVAL = '2017-01-01', '2019-01-01'\n",
    "\n",
    "# execute the workflow\n",
    "result = workflow.execute({\n",
    "    input_task: {\n",
    "        'bbox': wb_bbox,\n",
    "        'time_interval': TIME_INTERVAL\n",
    "    },\n",
    "})"
   ]
  },
  {
   "cell_type": "markdown",
   "metadata": {},
   "source": [
    "### Structure of the `EOPatch`"
   ]
  },
  {
   "cell_type": "code",
   "execution_count": null,
   "metadata": {},
   "outputs": [],
   "source": [
    "# result is in the form of a dictionary\n",
    "eopatch = result.eopatch()\n",
    "eopatch"
   ]
  },
  {
   "cell_type": "markdown",
   "metadata": {},
   "source": [
    "Let's now visualize the first few true-color images of the selected waterbody in the given time series. We see below that some images contain clouds, which causes problems in proper water level detection.\n",
    "\n",
    "### Plot the NDWI to see how the water detector traces the waterbody outline"
   ]
  },
  {
   "cell_type": "code",
   "execution_count": null,
   "metadata": {},
   "outputs": [],
   "source": [
    "# get aspect ratio of image for better plotting\n",
    "image_ratio = eopatch.mask_timeless['NOMINAL_WATER'].shape[0] / eopatch.mask_timeless['NOMINAL_WATER'].shape[1]\n",
    "\n",
    "# plot the NDWI at different dates\n",
    "fig = plt.figure(figsize=(20, 15 * image_ratio))\n",
    "\n",
    "for i in range(12):\n",
    "    ax = plt.subplot(3, 4, i + 1)\n",
    "    ax.imshow(eopatch.data['NDWI'][i].squeeze(), vmin=0, vmax=1)\n",
    "    ax.axis('off')\n",
    "    \n",
    "plt.tight_layout()"
   ]
  },
  {
   "cell_type": "markdown",
   "metadata": {},
   "source": [
    "### Plot true-color images with the detected water outlines"
   ]
  },
  {
   "cell_type": "code",
   "execution_count": null,
   "metadata": {},
   "outputs": [],
   "source": [
    "def plot_waterbody(image, nominal_geometry, bbox, water_extent,\n",
    "                   color_nominal='white', color_current='xkcd:lime', ax=None, lw=2):\n",
    "    if ax is None:\n",
    "        fig, ax = plt.subplots(nrows=1, ncols=1, figsize=(10, 10))\n",
    "\n",
    "    ax.imshow(image, extent=[bbox.min_x, bbox.max_x, bbox.min_y, bbox.max_y])\n",
    "\n",
    "    draw_geometry(ax, nominal_geometry, color_nominal, lw=lw)\n",
    "    draw_geometry(ax, water_extent, color_current, lw=lw)\n",
    "\n",
    "\n",
    "def draw_geometry(ax, geometry, color, lw=2):\n",
    "    if isinstance(geometry, Polygon):\n",
    "        draw_polygon(ax, geometry, color, lw=lw)\n",
    "    elif isinstance(geometry, MultiPolygon):\n",
    "        for polygon in geometry:\n",
    "            draw_polygon(ax, polygon, color, lw=lw)\n",
    "\n",
    "\n",
    "def draw_polygon(ax, polygon, color, lw=2):\n",
    "    if polygon is None or polygon.exterior is None:\n",
    "        return None\n",
    "\n",
    "    x, y = polygon.exterior.coords.xy\n",
    "    xy = np.moveaxis(np.array([x, y]), 0, -1)\n",
    "    patch = ax.add_patch(matplotlib.patches.Polygon(xy, closed=True, edgecolor=color, fill=False, lw=lw))\n",
    "    \n",
    "    draw_outline(patch, 4)\n",
    "\n",
    "\n",
    "def draw_outline(o, lw):\n",
    "    o.set_path_effects([matplotlib.patheffects.Stroke(linewidth=lw, foreground='black'),\n",
    "                        matplotlib.patheffects.Normal()])"
   ]
  },
  {
   "cell_type": "code",
   "execution_count": null,
   "metadata": {},
   "outputs": [],
   "source": [
    "image_ratio = eopatch.data['TRUE-COLOR-S2-L1C'][0].shape[0] / eopatch.data['TRUE-COLOR-S2-L1C'][0].shape[1]\n",
    "\n",
    "fig = plt.figure(figsize=(20, 15 * image_ratio))\n",
    "\n",
    "for i in range(12):\n",
    "    ax = plt.subplot(3, 4, i + 1)\n",
    "    plot_waterbody(eopatch.data['TRUE-COLOR-S2-L1C'][i], nominal_geometry,\n",
    "                   wb_bbox, eopatch.vector['WATER_OUTLINE']['geometry'][i], ax=ax)\n",
    "    ax.axis('off')\n",
    "    \n",
    "plt.tight_layout(pad=0)"
   ]
  },
  {
   "cell_type": "markdown",
   "metadata": {},
   "source": [
    "### Plotting the detected water levels"
   ]
  },
  {
   "cell_type": "code",
   "execution_count": null,
   "metadata": {},
   "outputs": [],
   "source": [
    "# This is just to suppress a plotting warning\n",
    "from pandas.plotting import register_matplotlib_converters\n",
    "\n",
    "register_matplotlib_converters()"
   ]
  },
  {
   "cell_type": "code",
   "execution_count": null,
   "metadata": {},
   "outputs": [],
   "source": [
    "def plot_water_levels(eopatch, max_coverage=1.0):\n",
    "    fig, ax = plt.subplots(figsize=(20, 7))\n",
    "\n",
    "    dates = np.array(eopatch.timestamp)\n",
    "    ax.plot(dates[eopatch.scalar['COVERAGE'][...,0] < max_coverage],\n",
    "            eopatch.scalar['WATER_LEVEL'][eopatch.scalar['COVERAGE'][...,0] < max_coverage],\n",
    "            'bo-', alpha=0.7, label='Water Level')\n",
    "    ax.plot(dates[eopatch.scalar['COVERAGE'][...,0] < max_coverage],\n",
    "            eopatch.scalar['COVERAGE'][eopatch.scalar['COVERAGE'][...,0] < max_coverage],\n",
    "            '--', color='gray', alpha=0.7, label='Cloud Coverage')\n",
    "    ax.set_ylim(0.0,1.1)\n",
    "    ax.set_xlabel('Date')\n",
    "    ax.set_ylabel('Water Level')\n",
    "    ax.set_title('Detected Water Level')\n",
    "    ax.grid(axis='y')\n",
    "    ax.legend(loc='best')\n",
    "    return ax\n",
    "\n",
    "# plot the water level with no cloudy scene filtering (accept all clouds)\n",
    "ax = plot_water_levels(eopatch, 1.0);"
   ]
  },
  {
   "cell_type": "markdown",
   "metadata": {},
   "source": [
    "We see a lot of fluctuations in the water level. At the same time, cloud coverage is plotted, and it shares the same dates as the water level outliers.\n",
    "\n",
    "Let us now set a threshold for the maximum cloud coverage of 2% and filter out the dates which correspond to cloudy scenes. This is done by filtering out the dates which have a value of `eopatch.scalar['COVERAGE']` larger than 0.02."
   ]
  },
  {
   "cell_type": "code",
   "execution_count": null,
   "metadata": {},
   "outputs": [],
   "source": [
    "plot_water_levels(eopatch, 0.02);"
   ]
  }
 ],
 "metadata": {
  "kernelspec": {
   "display_name": "Python 3",
   "language": "python",
   "name": "python3"
  },
  "language_info": {
   "codemirror_mode": {
    "name": "ipython",
    "version": 3
   },
   "file_extension": ".py",
   "mimetype": "text/x-python",
   "name": "python",
   "nbconvert_exporter": "python",
   "pygments_lexer": "ipython3",
   "version": "3.7.0"
  }
 },
 "nbformat": 4,
 "nbformat_minor": 2
}
