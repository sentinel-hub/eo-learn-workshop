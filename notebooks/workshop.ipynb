{
 "cells": [
  {
   "cell_type": "markdown",
   "metadata": {},
   "source": [
    "## Query the Planet with EOLearn and Sentinel Data\n",
    "\n",
    "The availability of open Earth observation (EO) data through the Copernicus and Landsat programs represents an unprecedented resource for many EO applications, ranging from ocean and land use and land cover monitoring, disaster control, emergency services and humanitarian relief. Given the large amount of high spatial resolution data at high revisit frequency, techniques able to automatically extract complex patterns in such spatio-temporal data are needed.\n",
    "\n",
    "[`eo-learn`](https://eo-learn.readthedocs.io/en/latest/) is a collection of open source Python packages that have been developed to seamlessly access and process spatio-temporal image sequences acquired by any satellite fleet in a timely and automatic manner. eo-learn is easy to use, it’s design modular, and encourages collaboration – sharing and reusing of specific tasks in a typical EO-value-extraction workflows, such as cloud masking, image co-registration, feature extraction, classification, etc. Everyone is free to use any of the available tasks and is encouraged to improve them, develop new ones and share them with the rest of the community.\n",
    "\n",
    "We'll walk through the basics of `eo-learn` and an example EO analysis workflow.\n",
    "\n",
    "![eo-learn workflow](../images/eo-learn-illustration.png)"
   ]
  },
  {
   "cell_type": "markdown",
   "metadata": {},
   "source": [
    "## Boring Setup"
   ]
  },
  {
   "cell_type": "code",
   "execution_count": null,
   "metadata": {
    "collapsed": false,
    "inputHidden": false,
    "jupyter": {
     "outputs_hidden": false
    },
    "outputHidden": false
   },
   "outputs": [],
   "source": [
    "# Jupyter notebook related commands\n",
    "%reload_ext autoreload\n",
    "%autoreload 2\n",
    "%matplotlib inline"
   ]
  },
  {
   "cell_type": "code",
   "execution_count": null,
   "metadata": {
    "collapsed": false,
    "inputHidden": false,
    "jupyter": {
     "outputs_hidden": false
    },
    "outputHidden": false
   },
   "outputs": [],
   "source": [
    "# set our Sentinel Hub Instance ID (Workshop only)\n",
    "# Sign-up at afterwards at https://www.sentinel-hub.com/ to continue using\n",
    "!sentinelhub.config --instance_id insert_instance_id_here"
   ]
  },
  {
   "cell_type": "markdown",
   "metadata": {},
   "source": [
    "## EO Learn Fundamentals\n",
    "\n",
    "`eo-learn` has three fundamental classes `EOPatch`, `EOTask` and `EOWorkflow` which are helpful to understand before undertaking a larger project"
   ]
  },
  {
   "cell_type": "markdown",
   "metadata": {},
   "source": [
    "### EOPatch\n",
    "- an **abstract representation of remotely sensed data over a single area**; the base data class of `eo-learn`\n",
    "- a collection of 10 python dicts representing various types of data along with a bounding box and timestamps\n",
    "- provides useful dimension and type checking, a consistent interface for later processing, and some convenience functions\n",
    "\n",
    "Find more details in the [documentation](https://eo-learn.readthedocs.io/en/latest/examples/core/CoreOverview.html#EOPatch)"
   ]
  },
  {
   "cell_type": "code",
   "execution_count": null,
   "metadata": {
    "collapsed": false,
    "inputHidden": false,
    "jupyter": {
     "outputs_hidden": false
    },
    "outputHidden": false
   },
   "outputs": [],
   "source": [
    "# first create an empty patch, it is instantiated with all the data types\n",
    "# each FeatureType (data, mask, scalar, ...) requires a specific type of data\n",
    "from eolearn.core import EOPatch\n",
    "\n",
    "patch = EOPatch()\n",
    "patch"
   ]
  },
  {
   "cell_type": "code",
   "execution_count": null,
   "metadata": {
    "collapsed": false,
    "inputHidden": false,
    "jupyter": {
     "outputs_hidden": false
    },
    "outputHidden": false
   },
   "outputs": [],
   "source": [
    "# the first Featuretype 'data' should be a numpy array with four dimensions, time x height x width x channel depth, to represent a time stack of remotely sensed data \n",
    "\n",
    "# create an example of satellite data with 5 dates, 10x10 pixels, and 3 bands\n",
    "import numpy as np\n",
    "example_bands = np.zeros((5, 10, 10, 3), dtype=np.uint16)\n",
    "patch.data['example'] = example_bands"
   ]
  },
  {
   "cell_type": "code",
   "execution_count": null,
   "metadata": {
    "collapsed": false,
    "inputHidden": false,
    "jupyter": {
     "outputs_hidden": false
    },
    "outputHidden": false
   },
   "outputs": [],
   "source": [
    "# EOPatches will throw an error if you give data of the wrong shape to a certain FeatureType\n",
    "\n",
    "# here's satellite data with no time component\n",
    "timeless_data = np.zeros((10, 10, 13), dtype=np.uint16)\n",
    "try:\n",
    "    patch.data['timeless_example'] = timeless_data\n",
    "except ValueError as e:\n",
    "    print(e)"
   ]
  },
  {
   "cell_type": "code",
   "execution_count": null,
   "metadata": {
    "collapsed": false,
    "inputHidden": false,
    "jupyter": {
     "outputs_hidden": false
    },
    "outputHidden": false
   },
   "outputs": [],
   "source": [
    "# there is a different FeatureType available for data without a time component\n",
    "patch.data_timeless['timeless_example'] = timeless_data"
   ]
  },
  {
   "cell_type": "code",
   "execution_count": null,
   "metadata": {
    "collapsed": false,
    "inputHidden": false,
    "jupyter": {
     "outputs_hidden": false
    },
    "outputHidden": false
   },
   "outputs": [],
   "source": [
    "# try to add data to other FeatureTypes, use https://eo-learn.readthedocs.io/en/latest/examples/core/CoreOverview.html#EOPatch for reference\n",
    "import geopandas as gpd\n",
    "from datetime import datetime\n",
    "from sentinelhub import BBox, CRS\n",
    "\n",
    "patch.mask['shadow masks'] = ...\n",
    "patch.scalar['weather data'] = ...\n",
    "patch.label['classification'] = ...\n",
    "patch.vector['land use vectors'] = ...\n",
    "\n",
    "patch.mask_timeless['district_boundaries_raster'] = ...\n",
    "patch.scalar_timeless['single patch value'] = ...\n",
    "patch.label_timeless['another patch value'] = ...\n",
    "patch.vector_timeless['region_boundaries'] = ...\n",
    "\n",
    "patch.meta_info = ...\n",
    "patch.bbox = ...\n",
    "patch.timestamp = ...\n",
    "\n",
    "patch.get_features()"
   ]
  },
  {
   "cell_type": "code",
   "execution_count": null,
   "metadata": {
    "collapsed": false,
    "inputHidden": false,
    "jupyter": {
     "outputs_hidden": false
    },
    "outputHidden": false
   },
   "outputs": [],
   "source": [
    "# we can save and load our patch; check out the file structure it creates\n",
    "patch.save('example_patch')\n",
    "patch2 = patch.load('example_patch')\n",
    "patch2.get_features()"
   ]
  },
  {
   "cell_type": "markdown",
   "metadata": {},
   "source": [
    "### EOTask\n",
    "- an **abstract representation of an operation over remotely sensed data** over a single area; the base processing class of `eo-learn`\n",
    "- must have an `execute` method which generally accepts an `EOPatch` instance as its first argument\n",
    "- provides consistency of operation, chainable, predictable outputs\n",
    "- many `EOTasks` are already available in the library (60+ at the time of writing)"
   ]
  },
  {
   "cell_type": "code",
   "execution_count": null,
   "metadata": {
    "collapsed": false,
    "inputHidden": false,
    "jupyter": {
     "outputs_hidden": false
    },
    "outputHidden": false
   },
   "outputs": [],
   "source": [
    "# let's start with a simple one to understand the concept\n",
    "# AddFeature performs the same operation we were doing before but in EOTask form\n",
    "from eolearn.core import AddFeature, FeatureType\n",
    "\n",
    "# specify the feature type and name, then instantiate the task (but not call it yet)\n",
    "feature = (FeatureType.DATA, 'bands')\n",
    "add_feature = AddFeature(feature)\n",
    "\n",
    "# now we can execute the task, on our previous patch\n",
    "data = np.zeros((5, 100, 100, 13))\n",
    "patch = add_feature.execute(patch, data)\n",
    "patch"
   ]
  },
  {
   "cell_type": "code",
   "execution_count": null,
   "metadata": {
    "collapsed": false,
    "inputHidden": false,
    "jupyter": {
     "outputs_hidden": false
    },
    "outputHidden": false
   },
   "outputs": [],
   "source": [
    "# now let's try a more substantial task\n",
    "from eolearn.io import S2L1CWCSInput\n",
    "\n",
    "# we'll make a new empty EOPatch over the conference for this\n",
    "patch = EOPatch()\n",
    "patch.bbox = BBox([26.08, 44.42, 26.14, 44.46], crs=CRS.WGS84)\n",
    "\n",
    "# now we can load Sentinel-2 data into the patch\n",
    "# first instantiate the task with a Sentinel Hub layer and our desired resolution\n",
    "load_s2 = S2L1CWCSInput('TRUE-COLOR-S2-L1C', resx='10m', resy='10m')\n",
    "\n",
    "# then call the task's execute method with our patch and a time interval\n",
    "load_s2.execute(eopatch=patch, time_interval=('2019-08-23', '2019-08-27'))\n"
   ]
  },
  {
   "cell_type": "code",
   "execution_count": null,
   "metadata": {
    "collapsed": false,
    "inputHidden": false,
    "jupyter": {
     "outputs_hidden": false
    },
    "outputHidden": false
   },
   "outputs": [],
   "source": [
    "# since the data is a numpy array, let's try visualizing it with matplotlib\n",
    "from matplotlib import pyplot as plt\n",
    "plt.imshow(patch.data['TRUE-COLOR-S2-L1C'][0])"
   ]
  },
  {
   "cell_type": "code",
   "execution_count": null,
   "metadata": {
    "collapsed": false,
    "inputHidden": false,
    "jupyter": {
     "outputs_hidden": false
    },
    "outputHidden": false
   },
   "outputs": [],
   "source": [
    "# try with other resolutions, layers, date ranges or areas\n",
    "# also notice the additional information that the task adds to mask, meta_info and timestamp"
   ]
  },
  {
   "cell_type": "code",
   "execution_count": null,
   "metadata": {
    "collapsed": false,
    "inputHidden": false,
    "jupyter": {
     "outputs_hidden": false
    },
    "outputHidden": false
   },
   "outputs": [],
   "source": [
    "# now let's add some vector data, load a local file containing buildings\n",
    "buildings = gpd.read_file('bucharest_buildings.geojson')"
   ]
  },
  {
   "cell_type": "code",
   "execution_count": null,
   "metadata": {
    "collapsed": false,
    "inputHidden": false,
    "jupyter": {
     "outputs_hidden": false
    },
    "outputHidden": false
   },
   "outputs": [],
   "source": [
    "# we can add this file as either a vector (directly) or try transforming it to a raster\n",
    "from eolearn.geometry import VectorToRaster\n",
    "vtr_task = VectorToRaster(\n",
    "    buildings,\n",
    "    values=1,\n",
    "    raster_shape=(FeatureType.DATA, 'TRUE-COLOR-S2-L1C'), # match the shape of our previous data\n",
    "    raster_feature=(FeatureType.MASK_TIMELESS, 'BUILDING-DATA') # name our new layer\n",
    ")\n",
    "\n",
    "vtr_task.execute(eopatch=patch)"
   ]
  },
  {
   "cell_type": "code",
   "execution_count": null,
   "metadata": {
    "collapsed": false,
    "inputHidden": false,
    "jupyter": {
     "outputs_hidden": false
    },
    "outputHidden": false
   },
   "outputs": [],
   "source": [
    "# now look at the buildings (also congrats, you're 50% of the way to being a geospatial machine learning engineer)\n",
    "plt.imshow(patch.mask_timeless['BUILDING-DATA'].squeeze(2))"
   ]
  },
  {
   "cell_type": "code",
   "execution_count": null,
   "metadata": {
    "collapsed": false,
    "inputHidden": false,
    "jupyter": {
     "outputs_hidden": false
    },
    "outputHidden": false
   },
   "outputs": [],
   "source": [
    "# we can also implement our own tasks, they need to:\n",
    "# - inherit from the EOTask class\n",
    "# - implement an __init__ method\n",
    "# - implement an execute method which accepts an EOPatch as the first argument\n",
    "\n",
    "# here's a template, try it out!\n",
    "from eolearn.core import EOTask\n",
    "\n",
    "# one suggestion is try to calculate the median pixel of a timeseries stack\n",
    "class OurCustomTask(EOTask):\n",
    "    def __init__(self, custom_param):\n",
    "        self.custom_param = custom_param\n",
    "\n",
    "    def execute(self, eopatch, *, patch_specific_param=None):\n",
    "        # write code for out task and make changes to the input eopatch and return it\n",
    "        return eopatch"
   ]
  },
  {
   "cell_type": "code",
   "execution_count": null,
   "metadata": {
    "collapsed": false,
    "inputHidden": false,
    "jupyter": {
     "outputs_hidden": false
    },
    "outputHidden": false
   },
   "outputs": [],
   "source": [
    "# finally let's save our patch\n",
    "from eolearn.core import SaveToDisk, OverwritePermission\n",
    "\n",
    "save = SaveToDisk('example', overwrite_permission=OverwritePermission.OVERWRITE_PATCH)\n",
    "\n",
    "save.execute(eopatch=patch, eopatch_folder='this_patch')"
   ]
  },
  {
   "cell_type": "markdown",
   "metadata": {},
   "source": [
    "## EOWorkflow\n",
    "\n",
    "- a **combination of `EOTask` objects** meant to accomplish a larger project\n",
    "- builds a computational graph object to ensure all patches are processed in the same fashion"
   ]
  },
  {
   "cell_type": "code",
   "execution_count": null,
   "metadata": {
    "collapsed": false,
    "inputHidden": false,
    "jupyter": {
     "outputs_hidden": false
    },
    "outputHidden": false
   },
   "outputs": [],
   "source": [
    "# rather than call .execute directly, let chain our tasks together\n",
    "from eolearn.core import LinearWorkflow\n",
    "\n",
    "workflow = LinearWorkflow(load_s2, vtr_task, save)"
   ]
  },
  {
   "cell_type": "code",
   "execution_count": null,
   "metadata": {
    "collapsed": false,
    "inputHidden": false,
    "jupyter": {
     "outputs_hidden": false
    },
    "outputHidden": false
   },
   "outputs": [],
   "source": [
    "# now we can call this on any number of patches and pass the execution arguments to the workflow\n",
    "patch = EOPatch()\n",
    "bbox = BBox([26.08, 44.42, 26.14, 44.46], crs=CRS.WGS84)\n",
    "patch.bbox = bbox\n",
    "patches = [patch]\n",
    "\n",
    "for patch in patches:\n",
    "    workflow.execute({\n",
    "        load_s2: { 'time_interval': ('2019-08-23', '2019-08-27'), 'bbox': bbox },\n",
    "        vtr_task: {},\n",
    "        save: { 'eopatch_folder': 'patch_idx' }\n",
    "    }).eopatch()\n",
    "    \n"
   ]
  },
  {
   "cell_type": "markdown",
   "metadata": {},
   "source": [
    "## Practice\n",
    "\n",
    "Take some time to experiment with different tasks and parameters before starting a larger workflow"
   ]
  },
  {
   "cell_type": "markdown",
   "metadata": {},
   "source": [
    "# Water Monitoring\n",
    "\n",
    "Let's try a larger workflow, \"Measuring the water level of a Theewaterskloof Dam in South Africa\", modified from the [`eo-learn` documentation](https://eo-learn.readthedocs.io/en/latest/examples/water-monitor/WaterMonitorWorkflow.html). There are more examples and documentation there you can check out after the workshop.\n",
    "\n",
    "The outline of the workflow is:\n",
    "- 1: Download all available Sentinel-2 satellite imagery of Theewaterskloof Dam from beginning of 2018 until today. We'll download `TRUE_COLOR` for nicer visualisations + `NDWI` for water detection\n",
    "- 2: Clouds are very often obscuring the view of the ground. In order to correctly determine the water level of the dam all images with clouds need to be filtered out.\n",
    "- 3: Apply adaptive thresholding to NDWI grayscale images\n",
    "- 4: Extract water level from a comparison of measured water extent with the nominal one"
   ]
  },
  {
   "cell_type": "code",
   "execution_count": null,
   "metadata": {
    "collapsed": false,
    "inputHidden": false,
    "jupyter": {
     "outputs_hidden": false
    },
    "outputHidden": false
   },
   "outputs": [],
   "source": [
    "import shapely.wkt\n",
    "# Use the local WKT file of the dam outline to create a buffered geometry\n",
    "with open('theewaterskloof_dam_nominal.wkt', 'r') as f:\n",
    "    dam_wkt = f.read()\n",
    "\n",
    "dam_nominal = shapely.wkt.loads(dam_wkt)\n",
    "\n",
    "# inflate the BBOX\n",
    "inflate_bbox = 0.1\n",
    "minx, miny, maxx, maxy = dam_nominal.bounds\n",
    "\n",
    "delx = maxx - minx\n",
    "dely = maxy - miny\n",
    "minx = minx - delx * inflate_bbox\n",
    "maxx = maxx + delx * inflate_bbox\n",
    "miny = miny - dely * inflate_bbox\n",
    "maxy = maxy + dely * inflate_bbox\n",
    "\n",
    "dam_bbox = BBox([minx, miny, maxx, maxy], crs=CRS.WGS84)\n",
    "\n",
    "dam_bbox.geometry - dam_nominal"
   ]
  },
  {
   "cell_type": "markdown",
   "metadata": {},
   "source": [
    "## Intialize our EOTasks\n"
   ]
  },
  {
   "cell_type": "code",
   "execution_count": null,
   "metadata": {
    "collapsed": false,
    "inputHidden": false,
    "jupyter": {
     "outputs_hidden": false
    },
    "outputHidden": false
   },
   "outputs": [],
   "source": [
    "## Imagery\n",
    "\n",
    "# add true color Sentinel-2 data\n",
    "input_task = S2L1CWCSInput('TRUE-COLOR-S2-L1C', resx='20m', resy='20m', maxcc=0.5, instance_id=None)\n",
    "\n",
    "# add NDWI index from Sentinel-2\n",
    "add_ndwi = S2L1CWCSInput('NDWI')"
   ]
  },
  {
   "cell_type": "code",
   "execution_count": null,
   "metadata": {
    "collapsed": false,
    "inputHidden": false,
    "jupyter": {
     "outputs_hidden": false
    },
    "outputHidden": false
   },
   "outputs": [],
   "source": [
    "## Geometry\n",
    "\n",
    "# load the dam boundary as a DataFrame\n",
    "dam_gdf = gpd.GeoDataFrame(crs={'init':'epsg:4326'}, geometry=[dam_nominal])\n",
    "dam_gdf.plot()\n",
    "\n",
    "# convert to raster\n",
    "add_nominal_water = VectorToRaster(dam_gdf, (FeatureType.MASK_TIMELESS, 'NOMINAL_WATER'), values=1,\n",
    "                                   raster_shape=(FeatureType.MASK, 'IS_DATA'), raster_dtype=np.uint8)"
   ]
  },
  {
   "cell_type": "code",
   "execution_count": null,
   "metadata": {
    "collapsed": false,
    "inputHidden": false,
    "jupyter": {
     "outputs_hidden": false
    },
    "outputHidden": false
   },
   "outputs": [],
   "source": [
    "## Cloud and Valid Data Filtering\n",
    "from eolearn.mask import AddCloudMaskTask, AddValidDataMaskTask, get_s2_pixel_cloud_detector\n",
    "from eolearn.features import SimpleFilterTask\n",
    "\n",
    "# add cloud classification\n",
    "cloud_classifier = get_s2_pixel_cloud_detector(average_over=2, dilation_size=1, all_bands=False)\n",
    "cloud_detection = AddCloudMaskTask(cloud_classifier, 'BANDS-S2CLOUDLESS', cm_size_y='160m', cm_size_x='160m', cmask_feature='CLM', cprobs_feature='CLP', instance_id=None)\n",
    "\n",
    "# if the pixel is clear, we count it as valid\n",
    "def calculate_valid_data_mask(eopatch):\n",
    "    return np.logical_and(eopatch.mask['IS_DATA'].astype(np.bool),\n",
    "                          np.logical_not(eopatch.mask['CLM'].astype(np.bool)))\n",
    "\n",
    "add_valid_mask = AddValidDataMaskTask(predicate=calculate_valid_data_mask)\n",
    "\n",
    "# calculate valid pixels per patch\n",
    "def calculate_coverage(array):\n",
    "    return 1.0 - np.count_nonzero(array) / np.size(array)\n",
    "\n",
    "class AddValidDataCoverage(EOTask):\n",
    "\n",
    "    def execute(self, eopatch):\n",
    "        valid_data = eopatch.get_feature(FeatureType.MASK, 'VALID_DATA')\n",
    "        time, height, width, channels = valid_data.shape\n",
    "\n",
    "        coverage = np.apply_along_axis(calculate_coverage, 1, valid_data.reshape((time, height * width * channels)))\n",
    "\n",
    "        eopatch.add_feature(FeatureType.SCALAR, 'COVERAGE', coverage[:, np.newaxis])\n",
    "        return eopatch\n",
    "\n",
    "add_coverage = AddValidDataCoverage()\n",
    "\n",
    "# filter out scenes with too many clouds\n",
    "class ValidDataCoveragePredicate:\n",
    "\n",
    "    def __init__(self, threshold):\n",
    "        self.threshold = threshold\n",
    "\n",
    "    def __call__(self, array):\n",
    "        return calculate_coverage(array) < self.threshold\n",
    "\n",
    "remove_cloudy_scenes = SimpleFilterTask((FeatureType.MASK, 'VALID_DATA'), ValidDataCoveragePredicate(0.2))"
   ]
  },
  {
   "cell_type": "code",
   "execution_count": null,
   "metadata": {
    "collapsed": false,
    "inputHidden": false,
    "jupyter": {
     "outputs_hidden": false
    },
    "outputHidden": false
   },
   "outputs": [],
   "source": [
    "## Water Detection\n",
    "from skimage.filters import threshold_otsu\n",
    "\n",
    "class WaterDetector(EOTask):\n",
    "\n",
    "    @staticmethod\n",
    "    def detect_water(ndwi):\n",
    "        \"\"\"\n",
    "        Very simple water detector based on Otsu thresholding method of NDWI.\n",
    "        \"\"\"\n",
    "        otsu_thr = 1.0\n",
    "        if len(np.unique(ndwi)) > 1:\n",
    "            otsu_thr = threshold_otsu(ndwi)\n",
    "\n",
    "        return ndwi > otsu_thr\n",
    "\n",
    "    def execute(self, eopatch):\n",
    "        water_masks = np.asarray([self.detect_water(ndwi[...,0]) for ndwi in eopatch.data['NDWI']])\n",
    "\n",
    "        # we're only interested in the water within the dam borders\n",
    "        water_masks = water_masks[...,np.newaxis] * eopatch.mask_timeless['NOMINAL_WATER']\n",
    "\n",
    "        water_levels = np.asarray([np.count_nonzero(mask)/np.count_nonzero(eopatch.mask_timeless['NOMINAL_WATER'])\n",
    "                                   for mask in water_masks])\n",
    "\n",
    "        eopatch.add_feature(FeatureType.MASK, 'WATER_MASK', water_masks)\n",
    "        eopatch.add_feature(FeatureType.SCALAR, 'WATER_LEVEL', water_levels[...,np.newaxis])\n",
    "\n",
    "        return eopatch\n",
    "\n",
    "water_detection = WaterDetector()"
   ]
  },
  {
   "cell_type": "markdown",
   "metadata": {},
   "source": [
    "## Define our EOWorkflow"
   ]
  },
  {
   "cell_type": "code",
   "execution_count": null,
   "metadata": {
    "collapsed": false,
    "inputHidden": false,
    "jupyter": {
     "outputs_hidden": false
    },
    "outputHidden": false
   },
   "outputs": [],
   "source": [
    "workflow = LinearWorkflow(input_task, add_ndwi, cloud_detection, add_nominal_water, add_valid_mask, add_coverage, remove_cloudy_scenes, water_detection)"
   ]
  },
  {
   "cell_type": "markdown",
   "metadata": {},
   "source": [
    "## Execute the workflow"
   ]
  },
  {
   "cell_type": "code",
   "execution_count": null,
   "metadata": {
    "collapsed": false,
    "inputHidden": false,
    "jupyter": {
     "outputs_hidden": false
    },
    "outputHidden": false
   },
   "outputs": [],
   "source": [
    "# this takes a while\n",
    "result = workflow.execute({\n",
    "    input_task: {\n",
    "        'bbox': dam_bbox,\n",
    "        'time_interval': ['2018-01-01','2019-08-31']\n",
    "    },\n",
    "})"
   ]
  },
  {
   "cell_type": "code",
   "execution_count": null,
   "metadata": {
    "collapsed": false,
    "inputHidden": false,
    "jupyter": {
     "outputs_hidden": false
    },
    "outputHidden": false
   },
   "outputs": [],
   "source": [
    "patch = result.eopatch()\n",
    "patch"
   ]
  },
  {
   "cell_type": "markdown",
   "metadata": {},
   "source": [
    "## Plot the results"
   ]
  },
  {
   "cell_type": "code",
   "execution_count": null,
   "metadata": {
    "collapsed": false,
    "inputHidden": false,
    "jupyter": {
     "outputs_hidden": false
    },
    "outputHidden": false
   },
   "outputs": [],
   "source": [
    "from skimage.filters import sobel\n",
    "from skimage.morphology import disk\n",
    "from skimage.morphology import erosion, dilation, opening, closing, white_tophat\n",
    "\n",
    "def plot_rgb_w_water(eopatch, idx):\n",
    "    ratio = np.abs(eopatch.bbox.max_x - eopatch.bbox.min_x) / np.abs(eopatch.bbox.max_y - eopatch.bbox.min_y)\n",
    "    fig, ax = plt.subplots(figsize=(ratio * 10, 10))\n",
    "\n",
    "    ax.imshow(eopatch.data['TRUE-COLOR-S2-L1C'][idx])\n",
    "\n",
    "    observed = closing(eopatch.mask['WATER_MASK'][idx,...,0], disk(1))\n",
    "    nominal = sobel(eopatch.mask_timeless['NOMINAL_WATER'][...,0])\n",
    "    observed = sobel(observed)\n",
    "    nominal = np.ma.masked_where(nominal == False, nominal)\n",
    "    observed = np.ma.masked_where(observed == False, observed)\n",
    "\n",
    "    ax.imshow(nominal, cmap=plt.cm.Reds)\n",
    "    ax.imshow(observed, cmap=plt.cm.Blues)\n",
    "    ax.axis('off')"
   ]
  },
  {
   "cell_type": "code",
   "execution_count": null,
   "metadata": {
    "collapsed": false,
    "inputHidden": false,
    "jupyter": {
     "outputs_hidden": false
    },
    "outputHidden": false
   },
   "outputs": [],
   "source": [
    "plot_rgb_w_water(patch, 0)"
   ]
  },
  {
   "cell_type": "code",
   "execution_count": null,
   "metadata": {
    "collapsed": false,
    "inputHidden": false,
    "jupyter": {
     "outputs_hidden": false
    },
    "outputHidden": false
   },
   "outputs": [],
   "source": [
    "plot_rgb_w_water(patch, -1)"
   ]
  },
  {
   "cell_type": "code",
   "execution_count": null,
   "metadata": {
    "collapsed": false,
    "inputHidden": false,
    "jupyter": {
     "outputs_hidden": false
    },
    "outputHidden": false
   },
   "outputs": [],
   "source": [
    "def plot_water_levels(eopatch, max_coverage=1.0):\n",
    "    fig, ax = plt.subplots(figsize=(20, 7))\n",
    "\n",
    "    dates = np.asarray(eopatch.timestamp)\n",
    "    ax.plot(dates[eopatch.scalar['COVERAGE'][...,0] < max_coverage],\n",
    "            eopatch.scalar['WATER_LEVEL'][eopatch.scalar['COVERAGE'][...,0] < max_coverage],\n",
    "            'bo-', alpha=0.7)\n",
    "    ax.plot(dates[eopatch.scalar['COVERAGE'][...,0] < max_coverage],\n",
    "            eopatch.scalar['COVERAGE'][eopatch.scalar['COVERAGE'][...,0] < max_coverage],\n",
    "            '--', color='gray', alpha=0.7)\n",
    "    ax.set_ylim(0.0, 1.1)\n",
    "    ax.set_xlabel('Date')\n",
    "    ax.set_ylabel('Water level')\n",
    "    ax.set_title('Theewaterskloof Dam Water Levels')\n",
    "    ax.grid(axis='y')\n",
    "    return ax"
   ]
  },
  {
   "cell_type": "code",
   "execution_count": null,
   "metadata": {
    "collapsed": false,
    "inputHidden": false,
    "jupyter": {
     "outputs_hidden": false
    },
    "outputHidden": false
   },
   "outputs": [],
   "source": [
    "ax = plot_water_levels(patch, 1.0) # parameter is cloud cover filter"
   ]
  },
  {
   "cell_type": "code",
   "execution_count": null,
   "metadata": {
    "collapsed": false,
    "inputHidden": false,
    "jupyter": {
     "outputs_hidden": false
    },
    "outputHidden": false
   },
   "outputs": [],
   "source": [
    "ax = plot_water_levels(patch, 0.02)"
   ]
  }
 ],
 "metadata": {
  "kernel_info": {
   "name": "query-planet37"
  },
  "kernelspec": {
   "display_name": "eo_venv",
   "language": "python",
   "name": "eo_venv"
  },
  "language_info": {
   "codemirror_mode": {
    "name": "ipython",
    "version": 3
   },
   "file_extension": ".py",
   "mimetype": "text/x-python",
   "name": "python",
   "nbconvert_exporter": "python",
   "pygments_lexer": "ipython3",
   "version": "3.6.8"
  },
  "nteract": {
   "version": "0.14.4"
  }
 },
 "nbformat": 4,
 "nbformat_minor": 4
}
