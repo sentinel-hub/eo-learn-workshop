{
 "cells": [
  {
   "cell_type": "markdown",
   "metadata": {},
   "source": [
    "# Workflow example to generate timelapses"
   ]
  },
  {
   "cell_type": "markdown",
   "metadata": {},
   "source": [
    "This example illustrates how to use `eo-learn` in order to make a cool timelapse! \n",
    "\n",
    "We are going to define `EOTask`s, chain them together into an `EOWorkflow` and then fill the data in a container called `EOPatch`."
   ]
  },
  {
   "cell_type": "markdown",
   "metadata": {},
   "source": [
    "## Imports\n",
    "\n",
    "Here we will load all the packages that we will need for this tutorial"
   ]
  },
  {
   "cell_type": "code",
   "execution_count": null,
   "metadata": {},
   "outputs": [],
   "source": [
    "import os\n",
    "import imageio\n",
    "import numpy as np\n",
    "import datetime\n",
    "from IPython.display import Image\n",
    "\n",
    "from sentinelhub import BBox, CRS, MimeType, CustomUrlParam\n",
    "\n",
    "from eolearn.mask import AddCloudMaskTask, get_s2_pixel_cloud_detector\n",
    "from eolearn.core import EOPatch, EOTask, FeatureType, LinearWorkflow, SaveToDisk, OverwritePermission, LinearWorkflow, EOWorkflow, LoadFromDisk\n",
    "from eolearn.features import SimpleFilterTask\n",
    "from eolearn.io import S2L1CWCSInput\n",
    "from eolearn.coregistration import ThunderRegistration"
   ]
  },
  {
   "cell_type": "markdown",
   "metadata": {},
   "source": [
    "## Simple Approach <a id=\"simple\"></a>\n",
    "\n",
    "First let's create a simple `EOWorkflow`, where we just download the data, produce the timelapse, and then save the data for later usage. We will get to know how to load existing tasks and use them, and you even get a chance to complete parts of the code (*spoilers at the bottom*)."
   ]
  },
  {
   "cell_type": "code",
   "execution_count": null,
   "metadata": {},
   "outputs": [],
   "source": [
    "# Define the locations\n",
    "data_dir = os.path.join('.', '..', 'outputs', 'timelapse_data')\n",
    "timelapse_dir = os.path.join('.', '..', 'outputs')\n",
    "os.mkdir(timelapse_dir)\n",
    "\n",
    "for path in [data_dir, timelapse_dir]:\n",
    "    if not os.path.isdir(path):\n",
    "        os.mkdir(path)"
   ]
  },
  {
   "cell_type": "markdown",
   "metadata": {},
   "source": [
    "We are going to make a timelapse of the construction of the solar farm in Ouarzazate, Morocco. Below you can find the predefined coordinates of the bounding box around the area that we are interested in. Later on, you can also change these values to make a timelapse of your own!"
   ]
  },
  {
   "cell_type": "code",
   "execution_count": null,
   "metadata": {},
   "outputs": [],
   "source": [
    "# time range that we are interested in\n",
    "time_interval = ('2016-06-01', '2017-01-01')\n",
    "\n",
    "# bbox of the region of interest in the WGS84 coordinate system\n",
    "sf_bbox = BBox(bbox=[-6.884329, 31.072926, -6.856161, 31.050254], crs=CRS.WGS84)"
   ]
  },
  {
   "cell_type": "markdown",
   "metadata": {},
   "source": [
    "### Tasks"
   ]
  },
  {
   "cell_type": "markdown",
   "metadata": {},
   "source": [
    "The tasks for downloading and saving data are already available in the `eo-learn` package, let's set them up"
   ]
  },
  {
   "cell_type": "code",
   "execution_count": null,
   "metadata": {},
   "outputs": [],
   "source": [
    "# task for downloading Sentinel-2 L1C data (all 13 bands) at 10 m resolution\n",
    "download_task = S2L1CWCSInput(layer='BANDS-S2-L1C', \n",
    "                          resx='10m',\n",
    "                          resy='10m')\n",
    "\n",
    "# task for saving data, so we can load it from disk in the upcoming cases\n",
    "save_task = SaveToDisk(folder=data_dir, \n",
    "                       overwrite_permission = OverwritePermission.OVERWRITE_PATCH)"
   ]
  },
  {
   "cell_type": "markdown",
   "metadata": {},
   "source": [
    "But the EOTask for creating the timelapse is missing, so we have to write it up. Let's do that here.\n",
    "Below you can find the skeleton of an EOTask, and below that, an incomplete implementation of the TimeLapseTask, try to complete it so it works!\n",
    "\n",
    "```python\n",
    "class FooTask(EOTask):\n",
    "    def __init__(self, foo_params):\n",
    "        self.foo_params = foo_params\n",
    "\n",
    "    def execute(self, eopatch, *, runtime_params):\n",
    "        # do what foo does on input eopatch and return it\n",
    "        return eopatch\n",
    "```"
   ]
  },
  {
   "cell_type": "code",
   "execution_count": null,
   "metadata": {},
   "outputs": [],
   "source": [
    "### CODE CELL 1\n",
    "### SOLUTIONS AT THE BOTTOM\n",
    "\n",
    "class TimeLapseTask(EOTask):\n",
    "    def __init__(self, project_dir='.', filename='timelapse.gif', fps=5, brightness_factor=1):\n",
    "        self.project_dir = project_dir\n",
    "        self.filename = filename\n",
    "        self.fps = fps\n",
    "        self.brightness_factor = brightness_factor\n",
    "\n",
    "    def execute(self, eopatch):\n",
    "        \n",
    "        # define the gif writer\n",
    "        with imageio.get_writer(os.path.join(self.project_dir, self.filename), mode='I', fps=self.fps) as writer:\n",
    "            \n",
    "            # access the data in the EOPatch DATA feature\n",
    "            for image in ???:\n",
    "                \n",
    "                # Sentinel-2 bands for RGB are at positions 3, 2 and 1\n",
    "                rgb_image = ???\n",
    "                \n",
    "                # They are in values of float, let's add a brightness factor and \n",
    "                # then clip it & cast the image as uint8 (this is what the writer accepts)\n",
    "                size_of_uint8 = 255 #(2^8)\n",
    "                rgb_image = np.array(np.clip(rgb_image*self.brightness_factor, 0, 1) * size_of_uint8, dtype=np.uint8)\n",
    "                \n",
    "                # append each acquired image to the gif\n",
    "                writer.append_data(rgb_image)\n",
    "        \n",
    "        # return the original eopatch for other possible tasks\n",
    "        return eopatch\n",
    "    \n",
    "\n",
    "timelapse_task = TimeLapseTask(timelapse_dir, 'timelapse_simple.gif', fps=6, brightness_factor=3)"
   ]
  },
  {
   "cell_type": "markdown",
   "metadata": {},
   "source": [
    "### Workflow"
   ]
  },
  {
   "cell_type": "markdown",
   "metadata": {},
   "source": [
    "Now let's put all the tasks into a workflow and execute it"
   ]
  },
  {
   "cell_type": "code",
   "execution_count": null,
   "metadata": {},
   "outputs": [],
   "source": [
    "# CODE CELL 2\n",
    "\n",
    "# define the workflow\n",
    "workflow = LinearWorkflow(\n",
    "    ???\n",
    ")\n",
    "\n",
    "# define the extra parameters\n",
    "execution_args = {\n",
    "    download_task:{'bbox': sf_bbox, 'time_interval': time_interval},\n",
    "    save_task: {'eopatch_folder': 'eopatch'}\n",
    "}\n",
    "\n",
    "# execute the workflow\n",
    "result = workflow.execute(execution_args)"
   ]
  },
  {
   "cell_type": "markdown",
   "metadata": {},
   "source": [
    "What does the resulting linear workflow look like?"
   ]
  },
  {
   "cell_type": "code",
   "execution_count": null,
   "metadata": {},
   "outputs": [],
   "source": [
    "workflow.dependency_graph()"
   ]
  },
  {
   "cell_type": "markdown",
   "metadata": {},
   "source": [
    "What does the EOPatch look like? "
   ]
  },
  {
   "cell_type": "code",
   "execution_count": null,
   "metadata": {},
   "outputs": [],
   "source": [
    "eopatch = result.eopatch()\n",
    "eopatch"
   ]
  },
  {
   "cell_type": "markdown",
   "metadata": {},
   "source": [
    "What does the produced timelapse look like?"
   ]
  },
  {
   "cell_type": "code",
   "execution_count": null,
   "metadata": {},
   "outputs": [],
   "source": [
    "Image(filename='{}/{}'.format(timelapse_dir, 'timelapse_simple.gif'), width = 500)"
   ]
  },
  {
   "cell_type": "markdown",
   "metadata": {},
   "source": [
    "If only we could do something about those clouds!!!\n",
    "\n",
    "Don't worry, that's exactly what we aim to do in the next part, and let's sprinkle some complexity on it!"
   ]
  },
  {
   "cell_type": "markdown",
   "metadata": {},
   "source": [
    "## Advanced Approach <a id=\"advanced\"></a>\n",
    "\n",
    "As you can see, clouds are a frequent problem in Earth observation data, so let's try to filter them out using our own cloud detector!\n",
    "\n",
    "Additionally, the images in the animation can be quite wobbly, one way to improve the animation would be to apply coregistration to all the images, in order to improve the animation stability\n",
    "\n",
    "We will do all of that, and we will use another nice functionality of the EOWorkflow, which is the fact, that the workflow itself needn't be linear, but can be split into several branches!\n",
    "\n",
    "To showcase this functionality, let's build a workflow that:\n",
    "* produces the same simple animation as above\n",
    "* splits and produces another animation with removed cloudy scenes\n",
    "* another one which slipts again and applies coregistration to the frames\n",
    "\n",
    "In the end we can then compare all of these animations and see the true power or `eo-learn`!"
   ]
  },
  {
   "cell_type": "markdown",
   "metadata": {},
   "source": [
    "### Tasks"
   ]
  },
  {
   "cell_type": "markdown",
   "metadata": {},
   "source": [
    "The first step is to change the download task with the loading task, since we already have the necessary data. Seems simple enough, right?"
   ]
  },
  {
   "cell_type": "code",
   "execution_count": null,
   "metadata": {},
   "outputs": [],
   "source": [
    "# define the loading task\n",
    "load_task = LoadFromDisk(data_dir)"
   ]
  },
  {
   "cell_type": "markdown",
   "metadata": {},
   "source": [
    "Next up we have the cloud masking and cloud filtering tasks, for this we use our standalone package 's2cloudless'. We set it up like this"
   ]
  },
  {
   "cell_type": "code",
   "execution_count": null,
   "metadata": {},
   "outputs": [],
   "source": [
    "# get the cloud classifier\n",
    "cloud_classifier = get_s2_pixel_cloud_detector(all_bands=True)\n",
    "\n",
    "# define the cloud masking task at 60 m resolution.\n",
    "# It saves the cloud mask (boolean) into the MASK feature named 'clm' and\n",
    "# the cloud probabilities (float) into the DATA feature named 'clp'.\n",
    "cloud_task = AddCloudMaskTask(cloud_classifier, \n",
    "                              'BANDS-S2-L1C', \n",
    "                              cm_size_y='60m',\n",
    "                              cm_size_x='60m', \n",
    "                              cmask_feature='clm', \n",
    "                              cprobs_feature='clp')"
   ]
  },
  {
   "cell_type": "markdown",
   "metadata": {},
   "source": [
    "The filter task is a generic task which accepts a filter and some threshold value, it then removes the frames which do not satisfy the given condition.\n",
    "\n",
    "Let's define the filter class, which is then fed into the filter task"
   ]
  },
  {
   "cell_type": "code",
   "execution_count": null,
   "metadata": {},
   "outputs": [],
   "source": [
    "# CLOUD CELL 3\n",
    "\n",
    "# define the filter class\n",
    "class CloudCoverageFilter:\n",
    "    \n",
    "    # the init function of the filter accepts a \n",
    "    # thresholding value and remembers it\n",
    "    def __init__(self, max_cc):\n",
    "        self.max_cc = max_cc\n",
    "\n",
    "    # the call function of the filter then decides\n",
    "    # which frame to keep\n",
    "    def __call__(self, cloud_mask):\n",
    "        \n",
    "        # obtain dimensions\n",
    "        height, width, _ = cloud_mask.shape\n",
    "        \n",
    "        # calculate cloud coverage\n",
    "        cloud_coverage = ???\n",
    "        \n",
    "        # return if frame passes condition or not\n",
    "        return ???\n",
    "    \n",
    "# initialize the filter with a 5 % cloud coverage threshold\n",
    "cloud_filter = CloudCoverageFilter(max_cc=0.05)\n",
    "\n",
    "# define the filter task and feed the filter into the task\n",
    "filter_task = SimpleFilterTask((FeatureType.MASK, 'clm'), cloud_filter)"
   ]
  },
  {
   "cell_type": "markdown",
   "metadata": {},
   "source": [
    "We also need the coregistration task, which also already exists in the `eo-learn` package!\n",
    "\n",
    "We will use the simple Thunder algorithm, more info [here](http://docs.thunder-project.org/tutorial-registration)."
   ]
  },
  {
   "cell_type": "code",
   "execution_count": null,
   "metadata": {},
   "outputs": [],
   "source": [
    "# define the coregistration task\n",
    "coregistration_task = ThunderRegistration((FeatureType.DATA, 'BANDS-S2-L1C'), channel=2)"
   ]
  },
  {
   "cell_type": "markdown",
   "metadata": {},
   "source": [
    "Lastly, let's define all the timelapse tasks for all the cases"
   ]
  },
  {
   "cell_type": "code",
   "execution_count": null,
   "metadata": {},
   "outputs": [],
   "source": [
    "timelapse_task_simple = TimeLapseTask(timelapse_dir, 'timelapse_simple.gif', fps=6, brightness_factor=3)\n",
    "timelapse_task_filtered = TimeLapseTask(timelapse_dir, 'timelapse_filtered.gif', fps=6, brightness_factor=3)\n",
    "timelapse_task_filtered_coregistered = TimeLapseTask(timelapse_dir, 'timelapse_filtered_coregistered.gif', fps=6, brightness_factor=3)"
   ]
  },
  {
   "cell_type": "markdown",
   "metadata": {},
   "source": [
    "Now we can finally create a more complex workflow! You can do this using dependencies in the following sense:\n",
    "\n",
    "```python\n",
    "workflow = EOWorkflow(\n",
    "    ...,\n",
    "    (task1, [dependency_task], 'Task function'), \n",
    "    ...\n",
    ")\n",
    "```"
   ]
  },
  {
   "cell_type": "code",
   "execution_count": null,
   "metadata": {},
   "outputs": [],
   "source": [
    "# CODE CELL 4\n",
    "\n",
    "# define list of tasks and dependencies\n",
    "task_list = [\n",
    "    (load_task, [], 'Load data'),\n",
    "    (timelapse_task_simple, [load_task], 'Simple timelapse'),\n",
    "    ???, # tuple for the cloud task that depends on the load task\n",
    "    (filter_task, [cloud_task], 'Filter cloud data'),\n",
    "    (timelapse_task_filtered, [filter_task], 'Filtered timelapse'),\n",
    "    ???, # coregistration task that depends on the filter task\n",
    "    (timelapse_task_filtered_coregistered, [coregistration_task], 'Filtered and coregistered timelapse'),\n",
    "]\n",
    "\n",
    "# define workflow\n",
    "advanced_workflow = EOWorkflow(task_list)\n",
    "\n",
    "# define the extra parameters\n",
    "execution_args = {\n",
    "    load_task: {'eopatch_folder': 'eopatch'}\n",
    "}\n",
    "\n",
    "# execute the workflow\n",
    "result = advanced_workflow.execute(execution_args)"
   ]
  },
  {
   "cell_type": "markdown",
   "metadata": {},
   "source": [
    "What does the advanced workflow look like in this case?"
   ]
  },
  {
   "cell_type": "code",
   "execution_count": null,
   "metadata": {},
   "outputs": [],
   "source": [
    "advanced_workflow.dependency_graph()"
   ]
  },
  {
   "cell_type": "markdown",
   "metadata": {},
   "source": [
    "Fancy!!"
   ]
  },
  {
   "cell_type": "markdown",
   "metadata": {},
   "source": [
    "And the produced timelapses?"
   ]
  },
  {
   "cell_type": "code",
   "execution_count": null,
   "metadata": {},
   "outputs": [],
   "source": [
    "Image(filename='{}/{}'.format(timelapse_dir, 'timelapse_simple.gif'), width=500)"
   ]
  },
  {
   "cell_type": "code",
   "execution_count": null,
   "metadata": {},
   "outputs": [],
   "source": [
    "Image(filename='{}/{}'.format(timelapse_dir, 'timelapse_filtered.gif'), width=500)"
   ]
  },
  {
   "cell_type": "code",
   "execution_count": null,
   "metadata": {},
   "outputs": [],
   "source": [
    "Image(filename='{}/{}'.format(timelapse_dir, 'timelapse_filtered_coregistered.gif'), width=500)"
   ]
  },
  {
   "cell_type": "markdown",
   "metadata": {},
   "source": [
    "&nbsp; \n",
    "\n",
    "\n",
    "\n",
    "&nbsp; \n",
    "\n",
    "\n",
    "\n",
    "&nbsp; \n",
    "\n",
    "\n",
    "\n",
    "### Code solutions below!\n",
    "\n",
    "\n",
    "\n",
    "&nbsp; \n",
    "\n",
    "\n",
    "\n",
    "&nbsp; \n",
    "\n",
    "\n",
    "\n",
    "&nbsp; \n"
   ]
  },
  {
   "cell_type": "code",
   "execution_count": null,
   "metadata": {},
   "outputs": [],
   "source": [
    "### CODE SOLUTION CELL 1\n",
    "\n",
    "class TimeLapseTask(EOTask):\n",
    "    def __init__(self, project_dir='.', filename='timelapse.gif', fps=5, brightness_factor=1):\n",
    "        self.project_dir = project_dir\n",
    "        self.filename = filename\n",
    "        self.fps = fps\n",
    "        self.brightness_factor = brightness_factor\n",
    "\n",
    "    def execute(self, eopatch):\n",
    "        \n",
    "        # define the gif writer\n",
    "        with imageio.get_writer(os.path.join(self.project_dir, self.filename), mode='I', fps=self.fps) as writer:\n",
    "            \n",
    "            # access the data in the EOPatch DATA feature\n",
    "            for image in eopatch.data['BANDS-S2-L1C']:\n",
    "                \n",
    "                # Sentinel-2 bands for RGB are at positions 3, 2 and 1\n",
    "                rgb_image = image[..., [3, 2, 1]]\n",
    "                \n",
    "                # They are in values of float, let's add a brightness factor and \n",
    "                # then clip it & cast the image as uint8 (this is what the writer accepts)\n",
    "                size_of_uint8 = 255 #(2^8)\n",
    "                rgb_image = np.array(np.clip(rgb_image*self.brightness_factor, 0, 1) * size_of_uint8, dtype=np.uint8)\n",
    "                \n",
    "                # append each acquired image to the gif\n",
    "                writer.append_data(rgb_image)\n",
    "        \n",
    "        # return the original eopatch for other possible tasks\n",
    "        return eopatch\n",
    "    \n",
    "\n",
    "timelapse_task = TimeLapseTask(timelapse_dir, 'timelapse_simple.gif', fps=6, brightness_factor=3)"
   ]
  },
  {
   "cell_type": "code",
   "execution_count": null,
   "metadata": {},
   "outputs": [],
   "source": [
    "# CODE SOLUTION CELL 2\n",
    "\n",
    "# define the workflow\n",
    "workflow = LinearWorkflow(\n",
    "    download_task,\n",
    "    timelapse_task,\n",
    "    save_task\n",
    ")\n",
    "\n",
    "# define the extra parameters\n",
    "execution_args = {\n",
    "    download_task:{'bbox': sf_bbox, 'time_interval': time_interval},\n",
    "    save_task: {'eopatch_folder': 'eopatch'}\n",
    "}\n",
    "\n",
    "# execute the workflow\n",
    "result = workflow.execute(execution_args)"
   ]
  },
  {
   "cell_type": "code",
   "execution_count": null,
   "metadata": {},
   "outputs": [],
   "source": [
    "# CLOUD SOLUTION CELL 3\n",
    "\n",
    "# define the filter class\n",
    "class CloudCoverageFilter:\n",
    "    \n",
    "    # the init function of the filter accepts a \n",
    "    # thresholding value and remembers it\n",
    "    def __init__(self, max_cc):\n",
    "        self.max_cc = max_cc\n",
    "\n",
    "    # the call function of the filter then decides\n",
    "    # which frame to keep\n",
    "    def __call__(self, cloud_mask):\n",
    "        \n",
    "        # obtain dimensions\n",
    "        height, width, _ = cloud_mask.shape\n",
    "        \n",
    "        # calculate cloud coverage\n",
    "        cloud_coverage = np.sum(cloud_mask) / (height * width)\n",
    "        \n",
    "        # return if frame passes condition or not\n",
    "        return cloud_coverage <= self.max_cc\n",
    "    \n",
    "# initialize the filter with a 5 % cloud coverage threshold\n",
    "cloud_filter = CloudCoverageFilter(max_cc=0.05)\n",
    "\n",
    "# define the filter task and feed the filter into the task\n",
    "filter_task = SimpleFilterTask((FeatureType.MASK, 'clm'), cloud_filter)"
   ]
  },
  {
   "cell_type": "code",
   "execution_count": null,
   "metadata": {},
   "outputs": [],
   "source": [
    "# CODE SOLUTION CELL 4\n",
    "\n",
    "# define list of tasks and dependencies\n",
    "task_list = [\n",
    "    (load_task, [], 'Load data'),\n",
    "    (timelapse_task_simple, [load_task], 'Simple timelapse'),\n",
    "    (cloud_task, [load_task], 'Add cloud data'),\n",
    "    (filter_task, [cloud_task], 'Filter cloud data'),\n",
    "    (timelapse_task_filtered, [filter_task], 'Filtered timelapse'),\n",
    "    (coregistration_task, [filter_task], 'Coregister frames'),\n",
    "    (timelapse_task_filtered_coregistered, [coregistration_task], 'Filtered and coregistered timelapse'),\n",
    "]\n",
    "\n",
    "# define workflow\n",
    "advanced_workflow = EOWorkflow(task_list)\n",
    "\n",
    "# define the extra parameters\n",
    "execution_args = {\n",
    "    load_task: {'eopatch_folder': 'eopatch'}\n",
    "}\n",
    "\n",
    "# execute the workflow\n",
    "result = advanced_workflow.execute(execution_args)"
   ]
  },
  {
   "cell_type": "code",
   "execution_count": null,
   "metadata": {},
   "outputs": [],
   "source": []
  }
 ],
 "metadata": {
  "kernelspec": {
   "display_name": "Python 3",
   "language": "python",
   "name": "python3"
  },
  "language_info": {
   "codemirror_mode": {
    "name": "ipython",
    "version": 3
   },
   "file_extension": ".py",
   "mimetype": "text/x-python",
   "name": "python",
   "nbconvert_exporter": "python",
   "pygments_lexer": "ipython3",
   "version": "3.6.6"
  }
 },
 "nbformat": 4,
 "nbformat_minor": 4
}
