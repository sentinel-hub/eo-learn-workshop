{
 "cells": [
  {
   "cell_type": "markdown",
   "metadata": {},
   "source": [
    "# Workflow example to generate timelapses"
   ]
  },
  {
   "cell_type": "markdown",
   "metadata": {},
   "source": [
    "This example illustrates how to use `eo-learn` in order to make a cool timelapse! \n",
    "\n",
    "We are going to define `EOTask`s, chain them together into an `EOWorkflow` and then fill the data in a container called `EOPatch`."
   ]
  },
  {
   "cell_type": "markdown",
   "metadata": {},
   "source": [
    "## Imports\n",
    "\n",
    "Here we will load all the packages that we will need for this tutorial"
   ]
  },
  {
   "cell_type": "code",
   "execution_count": null,
   "metadata": {},
   "outputs": [],
   "source": [
    "import os\n",
    "import imageio\n",
    "import numpy as np\n",
    "from datetime import datetime, timedelta\n",
    "from IPython.display import Image\n",
    "\n",
    "from sentinelhub import BBox, CRS, DataCollection\n",
    "\n",
    "from eolearn.mask import CloudMaskTask\n",
    "from eolearn.core import (\n",
    "    EOPatch, EOTask, FeatureType, LinearWorkflow, SaveTask, OverwritePermission, LinearWorkflow, EOWorkflow, LoadTask\n",
    ")\n",
    "from eolearn.features import SimpleFilterTask\n",
    "from eolearn.io import SentinelHubInputTask\n",
    "from eolearn.coregistration import ThunderRegistrationTask"
   ]
  },
  {
   "cell_type": "markdown",
   "metadata": {},
   "source": [
    "## Simple Approach <a id=\"simple\"></a>\n",
    "\n",
    "First let's create a simple `EOWorkflow`, where we just download the data, produce the timelapse, and then save the data for later usage. We will get to know how to load existing tasks and use them, and you even get a chance to complete parts of the code (*spoilers at the bottom*)."
   ]
  },
  {
   "cell_type": "code",
   "execution_count": null,
   "metadata": {},
   "outputs": [],
   "source": [
    "# Define the locations\n",
    "TIMELAPSE_DIR = os.path.join('..', 'outputs')\n",
    "DATA_DIR = os.path.join(TIMELAPSE_DIR, 'timelapse_data')\n",
    "\n",
    "for path in [TIMELAPSE_DIR, DATA_DIR]:\n",
    "    os.makedirs(path, exist_ok=True)"
   ]
  },
  {
   "cell_type": "markdown",
   "metadata": {},
   "source": [
    "We are going to make a timelapse of the Istanbul airport. Below you can find the predefined coordinates of the bounding box around the area that we are interested in. Later on, you can also change these values to make a timelapse of your own!"
   ]
  },
  {
   "cell_type": "code",
   "execution_count": null,
   "metadata": {},
   "outputs": [],
   "source": [
    "roi_bbox = BBox(bbox=[28.726330, 41.248773, 28.759632, 41.274581], crs=CRS.WGS84)\n",
    "time_interval = ('2017-06-01', '2019-01-01')"
   ]
  },
  {
   "cell_type": "markdown",
   "metadata": {},
   "source": [
    "### Tasks"
   ]
  },
  {
   "cell_type": "markdown",
   "metadata": {},
   "source": [
    "The tasks for downloading and saving data are already available in the `eo-learn` package, let's set them up"
   ]
  },
  {
   "cell_type": "code",
   "execution_count": null,
   "metadata": {},
   "outputs": [],
   "source": [
    "# task for downloading Sentinel-2 L2A RGB bands at 10 m resolution\n",
    "download_task = SentinelHubInputTask(\n",
    "    data_collection = DataCollection.SENTINEL2_L2A, \n",
    "    bands_feature=(FeatureType.DATA, 'RGB'),\n",
    "    bands=['B04', 'B03', 'B02'], \n",
    "    time_difference = timedelta(hours=2),\n",
    "    resolution=10,\n",
    "    additional_data = [\n",
    "        (FeatureType.MASK, 'CLM')\n",
    "    ]\n",
    ")\n",
    "\n",
    "# task for saving data, so we can load it from disk in the upcoming cases\n",
    "save_task = SaveTask(path=DATA_DIR, overwrite_permission=OverwritePermission.OVERWRITE_PATCH)"
   ]
  },
  {
   "cell_type": "markdown",
   "metadata": {},
   "source": [
    "But the EOTask for creating the timelapse is missing, so we have to write it up. Let's do that here.\n",
    "Below you can find the skeleton of an EOTask, and below that, an incomplete implementation of the TimeLapseTask, try to complete it so it works!\n",
    "\n",
    "```python\n",
    "class FooTask(EOTask):\n",
    "    def __init__(self, foo_params):\n",
    "        self.foo_params = foo_params\n",
    "\n",
    "    def execute(self, eopatch, *, runtime_params):\n",
    "        # do what foo does on input eopatch and return it\n",
    "        return eopatch\n",
    "```"
   ]
  },
  {
   "cell_type": "code",
   "execution_count": null,
   "metadata": {},
   "outputs": [],
   "source": [
    "### CODE CELL 1\n",
    "### SOLUTIONS AT THE BOTTOM\n",
    "\n",
    "class TimeLapseTask(EOTask):\n",
    "    def __init__(self, project_dir='.', filename='timelapse.gif', fps=5, brightness_factor=1):\n",
    "        self.project_dir = project_dir\n",
    "        self.filename = filename\n",
    "        self.fps = fps\n",
    "        self.brightness_factor = brightness_factor\n",
    "\n",
    "    def execute(self, eopatch):\n",
    "        \n",
    "        # define the gif writer\n",
    "        with imageio.get_writer(os.path.join(self.project_dir, self.filename), mode='I', fps=self.fps) as writer:\n",
    "            \n",
    "            # access the data in the EOPatch DATA feature\n",
    "            for image in ???:\n",
    "                # Image values are floats, let's add a brightness factor and  then clip it \n",
    "                # At the end cast the image as uint8 (this is what the writer accepts)\n",
    "                size_of_uint8 = 255 # (2^8)\n",
    "                image = np.array(np.clip(image*self.brightness_factor, 0, 1) * size_of_uint8, dtype=np.uint8)\n",
    "                \n",
    "                # append each acquired image to the gif\n",
    "                writer.append_data(image)\n",
    "        \n",
    "        # return the original eopatch for other possible tasks\n",
    "        return eopatch\n",
    "    \n",
    "\n",
    "timelapse_task = TimeLapseTask(TIMELAPSE_DIR, 'timelapse_simple.gif', fps=6, brightness_factor=3)"
   ]
  },
  {
   "cell_type": "markdown",
   "metadata": {},
   "source": [
    "### Workflow"
   ]
  },
  {
   "cell_type": "markdown",
   "metadata": {},
   "source": [
    "Now let's put all the tasks into a workflow and execute it"
   ]
  },
  {
   "cell_type": "code",
   "execution_count": null,
   "metadata": {},
   "outputs": [],
   "source": [
    "# CODE CELL 2\n",
    "\n",
    "# define the workflow\n",
    "workflow = LinearWorkflow(\n",
    "    ???\n",
    ")\n",
    "\n",
    "# define the extra parameters\n",
    "execution_args = {\n",
    "    download_task:{'bbox': sf_bbox, 'time_interval': time_interval},\n",
    "    save_task: {'eopatch_folder': 'eopatch'}\n",
    "}\n",
    "\n",
    "# execute the workflow\n",
    "result = workflow.execute(execution_args)"
   ]
  },
  {
   "cell_type": "markdown",
   "metadata": {},
   "source": [
    "What does the resulting linear workflow look like?"
   ]
  },
  {
   "cell_type": "code",
   "execution_count": null,
   "metadata": {},
   "outputs": [],
   "source": [
    "workflow.dependency_graph()"
   ]
  },
  {
   "cell_type": "markdown",
   "metadata": {},
   "source": [
    "What does the EOPatch look like? "
   ]
  },
  {
   "cell_type": "code",
   "execution_count": null,
   "metadata": {},
   "outputs": [],
   "source": [
    "eopatch = result.eopatch()\n",
    "eopatch"
   ]
  },
  {
   "cell_type": "markdown",
   "metadata": {},
   "source": [
    "What does the produced timelapse look like?"
   ]
  },
  {
   "cell_type": "code",
   "execution_count": null,
   "metadata": {},
   "outputs": [],
   "source": [
    "path = os.path.join(TIMELAPSE_DIR, 'timelapse_simple.gif')\n",
    "Image(filename=path, width=500)"
   ]
  },
  {
   "cell_type": "markdown",
   "metadata": {},
   "source": [
    "If only we could do something about those clouds!!!\n",
    "\n",
    "Don't worry, that's exactly what we aim to do in the next part, and let's sprinkle some complexity on it!"
   ]
  },
  {
   "cell_type": "markdown",
   "metadata": {},
   "source": [
    "## Advanced Approach <a id=\"advanced\"></a>\n",
    "\n",
    "As you can see, clouds are a frequent problem in Earth observation data, so let's try to filter them out! Luckily Sentinel Hub already provides a cloud detection layer that we downloaded together with the data (the CLM in additional data).\n",
    "\n",
    "Additionally, the images in the animation can be quite wobbly, one way to improve the animation would be to apply coregistration to all the images, in order to improve the animation stability\n",
    "\n",
    "We will do all of that, and we will use another nice functionality of the EOWorkflow, which is the fact, that the workflow itself needn't be linear, but can be split into several branches!\n",
    "\n",
    "To showcase this functionality, let's build a workflow that:\n",
    "* produces the same simple animation as above\n",
    "* splits and produces another animation with removed cloudy scenes\n",
    "* another one which slipts again and applies coregistration to the frames\n",
    "\n",
    "In the end we can then compare all of these animations and see the true power or `eo-learn`!"
   ]
  },
  {
   "cell_type": "markdown",
   "metadata": {},
   "source": [
    "### Tasks"
   ]
  },
  {
   "cell_type": "markdown",
   "metadata": {},
   "source": [
    "The first step is to change the download task with the loading task, since we already have the necessary data. Seems simple enough, right?"
   ]
  },
  {
   "cell_type": "code",
   "execution_count": null,
   "metadata": {},
   "outputs": [],
   "source": [
    "# define the loading task\n",
    "load_task = LoadTask(DATA_DIR)"
   ]
  },
  {
   "cell_type": "markdown",
   "metadata": {},
   "source": [
    "To filter out cloudy scenes we define a filter class that acts as a predicate."
   ]
  },
  {
   "cell_type": "code",
   "execution_count": null,
   "metadata": {},
   "outputs": [],
   "source": [
    "# CLOUD CELL 3\n",
    "\n",
    "# define the filter class\n",
    "class CloudCoverageFilter:\n",
    "    \n",
    "    # the init function of the filter accepts a \n",
    "    # thresholding value and remembers it\n",
    "    def __init__(self, maxcc):\n",
    "        self.maxcc = maxcc\n",
    "\n",
    "    # the call function of the filter then decides\n",
    "    # which frame to keep\n",
    "    def __call__(self, cloud_mask):\n",
    "        \n",
    "        # obtain dimensions\n",
    "        height, width, _ = cloud_mask.shape\n",
    "        \n",
    "        # calculate cloud coverage\n",
    "        cloud_coverage = ???\n",
    "        \n",
    "        # return if frame passes condition or not\n",
    "        return ???\n",
    "    \n",
    "# initialize the filter with a 5 % cloud coverage threshold\n",
    "cloud_filter = CloudCoverageFilter(maxcc=0.05)\n",
    "\n",
    "# define the filter task and feed the filter into the task\n",
    "filter_task = SimpleFilterTask((FeatureType.MASK, 'CLM'), cloud_filter)"
   ]
  },
  {
   "cell_type": "markdown",
   "metadata": {},
   "source": [
    "We also need the coregistration task, which also already exists in the `eo-learn` package!\n",
    "\n",
    "We will use the simple Thunder algorithm, more info [here](http://docs.thunder-project.org/tutorial-registration)."
   ]
  },
  {
   "cell_type": "code",
   "execution_count": null,
   "metadata": {},
   "outputs": [],
   "source": [
    "# define the coregistration task\n",
    "coregistration_task = ThunderRegistrationTask((FeatureType.DATA, 'RGB'), channel=1)"
   ]
  },
  {
   "cell_type": "markdown",
   "metadata": {},
   "source": [
    "Lastly, let's define all the timelapse tasks for all the cases"
   ]
  },
  {
   "cell_type": "code",
   "execution_count": null,
   "metadata": {},
   "outputs": [],
   "source": [
    "timelapse_task_simple = TimeLapseTask(\n",
    "    TIMELAPSE_DIR, 'timelapse_simple.gif', fps=6, brightness_factor=3\n",
    ")\n",
    "timelapse_task_filtered = TimeLapseTask(\n",
    "    TIMELAPSE_DIR, 'timelapse_filtered.gif', fps=6, brightness_factor=3\n",
    ")\n",
    "timelapse_task_filtered_coregistered = TimeLapseTask(\n",
    "    TIMELAPSE_DIR, 'timelapse_filtered_coregistered.gif', fps=6, brightness_factor=3\n",
    ")"
   ]
  },
  {
   "cell_type": "markdown",
   "metadata": {},
   "source": [
    "Now we can finally create a more complex workflow! You can do this using dependencies in the following sense:\n",
    "\n",
    "```python\n",
    "workflow = EOWorkflow(\n",
    "    ...,\n",
    "    (task1, [dependency_task], 'Task function'), \n",
    "    ...\n",
    ")\n",
    "```"
   ]
  },
  {
   "cell_type": "code",
   "execution_count": null,
   "metadata": {},
   "outputs": [],
   "source": [
    "# CODE CELL 4\n",
    "\n",
    "# define list of tasks and dependencies\n",
    "task_list = [\n",
    "    (load_task, [], 'Load data'),\n",
    "    (timelapse_task_simple, [load_task], 'Simple timelapse'),\n",
    "    ???, # tuple for the cloud filter task that depends on the load task\n",
    "    (timelapse_task_filtered, [filter_task], 'Filtered timelapse'),\n",
    "    ???, # coregistration task that depends on the filter task\n",
    "    (timelapse_task_filtered_coregistered, [coregistration_task], 'Filtered and coregistered timelapse'),\n",
    "]\n",
    "\n",
    "# define workflow\n",
    "advanced_workflow = EOWorkflow(task_list)\n",
    "\n",
    "# define the extra parameters\n",
    "execution_args = {\n",
    "    load_task: {'eopatch_folder': 'eopatch'}\n",
    "}\n",
    "\n",
    "# execute the workflow\n",
    "result = advanced_workflow.execute(execution_args)"
   ]
  },
  {
   "cell_type": "markdown",
   "metadata": {},
   "source": [
    "What does the advanced workflow look like in this case?"
   ]
  },
  {
   "cell_type": "code",
   "execution_count": null,
   "metadata": {},
   "outputs": [],
   "source": [
    "advanced_workflow.dependency_graph()"
   ]
  },
  {
   "cell_type": "markdown",
   "metadata": {},
   "source": [
    "Fancy!!"
   ]
  },
  {
   "cell_type": "markdown",
   "metadata": {},
   "source": [
    "And the produced timelapses?"
   ]
  },
  {
   "cell_type": "code",
   "execution_count": null,
   "metadata": {},
   "outputs": [],
   "source": [
    "path = os.path.join(TIMELAPSE_DIR, 'timelapse_simple.gif')\n",
    "Image(filename=path, width=500)"
   ]
  },
  {
   "cell_type": "code",
   "execution_count": null,
   "metadata": {},
   "outputs": [],
   "source": [
    "path = os.path.join(TIMELAPSE_DIR, 'timelapse_filtered.gif')\n",
    "Image(filename=path, width=500)"
   ]
  },
  {
   "cell_type": "code",
   "execution_count": null,
   "metadata": {},
   "outputs": [],
   "source": [
    "path = os.path.join(TIMELAPSE_DIR, 'timelapse_filtered_coregistered.gif')\n",
    "Image(filename=path, width=500)"
   ]
  },
  {
   "cell_type": "markdown",
   "metadata": {},
   "source": [
    "&nbsp; \n",
    "\n",
    "\n",
    "\n",
    "&nbsp; \n",
    "\n",
    "\n",
    "\n",
    "&nbsp; \n",
    "\n",
    "\n",
    "\n",
    "### Code solutions below!\n",
    "\n",
    "\n",
    "\n",
    "&nbsp; \n",
    "\n",
    "\n",
    "\n",
    "&nbsp; \n",
    "\n",
    "\n",
    "\n",
    "&nbsp; \n"
   ]
  },
  {
   "cell_type": "code",
   "execution_count": null,
   "metadata": {},
   "outputs": [],
   "source": [
    "### CODE SOLUTION CELL 1\n",
    "\n",
    "class TimeLapseTask(EOTask):\n",
    "    def __init__(self, project_dir='.', filename='timelapse.gif', fps=5, brightness_factor=1):\n",
    "        self.project_dir = project_dir\n",
    "        self.filename = filename\n",
    "        self.fps = fps\n",
    "        self.brightness_factor = brightness_factor\n",
    "\n",
    "    def execute(self, eopatch):\n",
    "        \n",
    "        # define the gif writer\n",
    "        with imageio.get_writer(os.path.join(self.project_dir, self.filename), mode='I', fps=self.fps) as writer:\n",
    "            \n",
    "            # access the data in the EOPatch DATA feature\n",
    "            for image in eopatch.data['RGB']:\n",
    "                # Image values are floats, let's add a brightness factor and  then clip it \n",
    "                # At the end cast the image as uint8 (this is what the writer accepts)\n",
    "                size_of_uint8 = 255 # (2^8)\n",
    "                image = np.array(np.clip(image*self.brightness_factor, 0, 1) * size_of_uint8, dtype=np.uint8)\n",
    "                \n",
    "                # append each acquired image to the gif\n",
    "                writer.append_data(image)\n",
    "        \n",
    "        # return the original eopatch for other possible tasks\n",
    "        return eopatch\n",
    "    \n",
    "\n",
    "timelapse_task = TimeLapseTask(TIMELAPSE_DIR, 'timelapse_simple.gif', fps=6, brightness_factor=3)"
   ]
  },
  {
   "cell_type": "code",
   "execution_count": null,
   "metadata": {},
   "outputs": [],
   "source": [
    "# CODE SOLUTION CELL 2\n",
    "\n",
    "# define the workflow\n",
    "workflow = LinearWorkflow(\n",
    "    download_task,\n",
    "    timelapse_task,\n",
    "    save_task\n",
    ")\n",
    "\n",
    "# define the extra parameters\n",
    "execution_args = {\n",
    "    download_task:{'bbox': roi_bbox, 'time_interval': time_interval},\n",
    "    save_task: {'eopatch_folder': 'eopatch'}\n",
    "}\n",
    "\n",
    "# execute the workflow\n",
    "result = workflow.execute(execution_args)"
   ]
  },
  {
   "cell_type": "code",
   "execution_count": null,
   "metadata": {},
   "outputs": [],
   "source": [
    "# CLOUD SOLUTION CELL 3\n",
    "\n",
    "# define the filter class\n",
    "class CloudCoverageFilter:\n",
    "    \n",
    "    # the init function of the filter accepts a \n",
    "    # thresholding value and remembers it\n",
    "    def __init__(self, maxcc):\n",
    "        self.maxcc = maxcc\n",
    "\n",
    "    # the call function of the filter then decides\n",
    "    # which frame to keep\n",
    "    def __call__(self, cloud_mask):\n",
    "        \n",
    "        # obtain dimensions\n",
    "        height, width, _ = cloud_mask.shape\n",
    "        \n",
    "        # calculate cloud coverage\n",
    "        cloud_coverage = np.sum(cloud_mask) / (height * width)\n",
    "        \n",
    "        # return if frame passes condition or not\n",
    "        return cloud_coverage <= self.maxcc\n",
    "    \n",
    "# initialize the filter with a 5 % cloud coverage threshold\n",
    "cloud_filter = CloudCoverageFilter(maxcc=0.05)\n",
    "\n",
    "# define the filter task and feed the filter into the task\n",
    "filter_task = SimpleFilterTask((FeatureType.MASK, 'CLM'), cloud_filter)"
   ]
  },
  {
   "cell_type": "code",
   "execution_count": null,
   "metadata": {},
   "outputs": [],
   "source": [
    "# CODE SOLUTION CELL 4\n",
    "\n",
    "# define list of tasks and dependencies\n",
    "task_list = [\n",
    "    (load_task, [], 'Load data'),\n",
    "    (timelapse_task_simple, [load_task], 'Simple timelapse'),\n",
    "    (filter_task, [load_task], 'Filter cloud data'),\n",
    "    (timelapse_task_filtered, [filter_task], 'Filtered timelapse'),\n",
    "    (coregistration_task, [filter_task], 'Coregister frames'),\n",
    "    (timelapse_task_filtered_coregistered, [coregistration_task], 'Filtered and coregistered timelapse'),\n",
    "]\n",
    "\n",
    "# define workflow\n",
    "advanced_workflow = EOWorkflow(task_list)\n",
    "\n",
    "# define the extra parameters\n",
    "execution_args = {\n",
    "    load_task: {'eopatch_folder': 'eopatch'}\n",
    "}\n",
    "\n",
    "# execute the workflow\n",
    "result = advanced_workflow.execute(execution_args)"
   ]
  }
 ],
 "metadata": {
  "kernelspec": {
   "display_name": "Python 3 (ipykernel)",
   "language": "python",
   "name": "python3"
  },
  "language_info": {
   "codemirror_mode": {
    "name": "ipython",
    "version": 3
   },
   "file_extension": ".py",
   "mimetype": "text/x-python",
   "name": "python",
   "nbconvert_exporter": "python",
   "pygments_lexer": "ipython3",
   "version": "3.8.10"
  }
 },
 "nbformat": 4,
 "nbformat_minor": 4
}
