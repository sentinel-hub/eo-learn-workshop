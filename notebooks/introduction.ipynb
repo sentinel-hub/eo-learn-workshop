{
 "cells": [
  {
   "cell_type": "markdown",
   "metadata": {},
   "source": [
    "# Introduction to `eo-learn`\n",
    "\n",
    "Welcome to a workshop about Earth observation (EO) processing framework in Python, called `eo-learn`. It was designed to fill a gap between EO data and machine learning. It's mission is connect existing software and build on top of it. It is easily scalable over large geographical areas and huge amounts of data.\n",
    "<br/>\n",
    "<hr>"
   ]
  },
  {
   "cell_type": "markdown",
   "metadata": {},
   "source": [
    "## Set up the Sentinel Hub\n",
    "\n",
    "In order to use Sentinel Hub services you will need a Sentinel Hub account. If you do not have one yet, you can create a free trial account at [Sentinel Hub](https://www.sentinel-hub.com/trial). If you are a researcher you can even apply for a free non-commercial account at [ESA OSEO page](https://www.sentinel-hub.com/trial).\n",
    "\n",
    "The `sh_client_id` and `sh_client_secret` parameters can be created in the Sentinel Hub Dashboard under “User settings”. The two parameters are needed when accessing protected endpoints of the service (Process, Catalog, Batch, BYOC, and other APIs). There is the “OAuth clients” frame where we can create a new OAuth client.\n",
    "\n",
    "For more detailed instructions on how to set up Sentinel Hub consult the [configuration documentation](https://sentinelhub-py.readthedocs.io/en/latest/configure.html)."
   ]
  },
  {
   "cell_type": "code",
   "execution_count": 4,
   "metadata": {},
   "outputs": [],
   "source": [
    "from sentinelhub import SHConfig\n",
    "\n",
    "config = SHConfig()\n",
    "\n",
    "# temporarily valid credentials for ESA Land training 2021 workshop\n",
    "config.sh_client_id = '7c7e86a2-c85e-40e0-b17f-b11a778e1cb0'\n",
    "config.sh_client_secret = '#0,%B:d{>-JwfHNXF^*XcW^Y9i9+.iVUtM?IrQuE'"
   ]
  },
  {
   "cell_type": "code",
   "execution_count": null,
   "metadata": {},
   "outputs": [],
   "source": [
    "config.save()"
   ]
  },
  {
   "cell_type": "markdown",
   "metadata": {},
   "source": [
    "\n",
    "## Table of content\n",
    "\n",
    "1. **`eo-learn` building blocks**\n",
    "  * [EOPatch](eolearn_basics.ipynb#EOPatch)\n",
    "  * [EOTask](eolearn_basics.ipynb#EOTask)\n",
    "  * [EOWorkflow](eolearn_basics.ipynb#EOWorkflow) \n",
    "  * [EOExecutor](eolearn_basics.ipynb#EOExecutor)  \n",
    "\n",
    "\n",
    "2. **Timelapse**\n",
    "  * [Simple approach](timelapse.ipynb#simple)\n",
    "  * [Advanced approach](timelapse.ipynb#advanced)\n",
    "\n",
    "\n",
    "3. **Sentinel-Hub and other datasources**\n",
    "  * [Scaling for large areas](data_sources_explorer.ipynb#splitter)\n",
    "  * [Sentinel-2 L1C data](data_sources_explorer.ipynb#sentinel-2)\n",
    "  * [Add information from OSM](data_sources_explorer.ipynb#osm)\n",
    "  * [Sentinel-1 GRD data](data_sources_explorer.ipynb#sentinel-1)\n",
    "  \n",
    "\n",
    "4. **Sentinel-1 data**\n",
    "  * [Visualization of changes by speckle variability using Sentinel-1 data](sentinel1.ipynb#reactiv) \n",
    "\n",
    "\n",
    "5. **Water surface level**\n",
    "  * [BlueDot Water Observatory water level extraction](water_monitor.ipynb)\n",
    "\n",
    "\n",
    "6. **Land Cover example**\n",
    "  * [Land cover in Slovenia](land_cover.ipynb)\n",
    "\n",
    "\n",
    "7. **Using Sentinel-2 data for observing forests**\n",
    "  * [data exploration with eo-learn](forest_observations.ipynb)\n",
    "  * [retrieving statistics with StatAPI](forest_observations_with_StatAPI.ipynb)\n",
    "\n",
    "\n",
    "\n",
    "<hr>\n",
    "\n",
    "**Here are some useful links:** <br>\n",
    "\n",
    "- [Github repository](https://github.com/sentinel-hub/eo-learn)\n",
    "- [Documentation page](https://eo-learn.readthedocs.io/en/latest/)\n",
    "- [Blog posts and papers](https://github.com/sentinel-hub/eo-learn#blog-posts-and-papers)\n",
    "\n",
    "Good luck!"
   ]
  },
  {
   "cell_type": "code",
   "execution_count": null,
   "metadata": {},
   "outputs": [],
   "source": []
  }
 ],
 "metadata": {
  "kernelspec": {
   "display_name": "Python 3 (ipykernel)",
   "language": "python",
   "name": "python3"
  },
  "language_info": {
   "codemirror_mode": {
    "name": "ipython",
    "version": 3
   },
   "file_extension": ".py",
   "mimetype": "text/x-python",
   "name": "python",
   "nbconvert_exporter": "python",
   "pygments_lexer": "ipython3",
   "version": "3.8.10"
  }
 },
 "nbformat": 4,
 "nbformat_minor": 4
}
