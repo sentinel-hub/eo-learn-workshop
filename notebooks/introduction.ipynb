{
 "cells": [
  {
   "cell_type": "markdown",
   "metadata": {},
   "source": [
    "# Introduction to `eo-learn`\n",
    "\n",
    "Welcome to a workshop about Earth observation (EO) processing framework in Python, called `eo-learn`. It was designed to fill a gap between EO data and machine learning. It's mission is connect existing software and build on top of it. It is easily scalable over large geographical areas and huge amounts of data.\n",
    "<br/>\n",
    "<hr>"
   ]
  },
  {
   "cell_type": "markdown",
   "metadata": {},
   "source": [
    "## Set up the Sentinel-Hub"
   ]
  },
  {
   "cell_type": "code",
   "execution_count": null,
   "metadata": {},
   "outputs": [],
   "source": [
    "!sentinelhub.config --instance_id a333b4d6-887b-40e7-ad31-56b12ce0e8fb\n",
    "!sentinelhub.config --show"
   ]
  },
  {
   "cell_type": "markdown",
   "metadata": {},
   "source": [
    "\n",
    "## Table of content\n",
    "\n",
    "1. **`eo-learn` building blocks**\n",
    "  * [EOPatch](eolearn_basics.ipynb#EOPatch)\n",
    "  * [EOTask](eolearn_basics.ipynb#EOTask)\n",
    "  * [EOWorkflow](eolearn_basics.ipynb#EOWorkflow) \n",
    "  * [EOExecutor](eolearn_basics.ipynb#EOExecutor)  \n",
    "\n",
    "\n",
    "2. **Timelapse**\n",
    "  * [Simple approach](timelapse.ipynb#simple)\n",
    "  * [Advanced approach](timelapse.ipynb#advanced)\n",
    "\n",
    "\n",
    "3. **Sentinel-Hub and other datasources**\n",
    "  * [Scaling for large areas](data_sources_explorer.ipynb#splitter)\n",
    "  * [Sentinel-2 L1C data](data_sources_explorer.ipynb#sentinel-2)\n",
    "  * [Add information from OSM](data_sources_explorer.ipynb#osm)\n",
    "  * [Sentinel-1 GRD data](data_sources_explorer.ipynb#sentinel-1)\n",
    "  \n",
    "\n",
    "4. **Sentinel-1 data**\n",
    "  * [Visualization of changes by speckle variability using Sentinel-1 data](sentinel1.ipynb#reactiv) \n",
    "\n",
    "\n",
    "5. **Water surface level**\n",
    "  * [BlueDot Water Observatory water level extraction](water_level_extraction.ipynb)\n",
    "\n",
    "\n",
    "6. **Land Cover example**\n",
    "  * [Land cover in Slovenia](land_cover.ipynb)\n",
    "\n",
    "\n",
    "<hr>\n",
    "\n",
    "**Here are some useful links:** <br>\n",
    "\n",
    "- [Github repository](https://github.com/sentinel-hub/eo-learn)\n",
    "- [Documentation page](https://eo-learn.readthedocs.io/en/latest/)\n",
    "- [Blog posts and papers](https://github.com/sentinel-hub/eo-learn#blog-posts-and-papers)\n",
    "\n",
    "Good luck!"
   ]
  },
  {
   "cell_type": "code",
   "execution_count": null,
   "metadata": {},
   "outputs": [],
   "source": []
  }
 ],
 "metadata": {
  "kernelspec": {
   "display_name": "azelcms",
   "language": "python",
   "name": "azelcms"
  },
  "language_info": {
   "codemirror_mode": {
    "name": "ipython",
    "version": 3
   },
   "file_extension": ".py",
   "mimetype": "text/x-python",
   "name": "python",
   "nbconvert_exporter": "python",
   "pygments_lexer": "ipython3",
   "version": "3.6.6"
  }
 },
 "nbformat": 4,
 "nbformat_minor": 4
}
