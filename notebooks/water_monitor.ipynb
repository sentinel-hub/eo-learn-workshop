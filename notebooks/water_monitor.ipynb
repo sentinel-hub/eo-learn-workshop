{
 "cells": [
  {
   "cell_type": "markdown",
   "metadata": {},
   "source": [
    "# Measuring the water level of Theewaterskloof Dam in South Africa\n",
    "\n",
    "**A Jupyter notebook on how to detect the water level of water bodies around the world, using Sentinel-2 multi-spectral and multi-temporal imagery**\n",
    "\n",
    "This notebook serves as an example on how to bring satellite data from space down to the hands of people living on Earth and analyze the data in order to make draw conclusions that affect all of Earth's citizens. Specifically, it demonstrates how to run a water detection algorithm and extract surface water level for a single reservoir in a given time interval.\n",
    "\n",
    "Hopefully, this example notebook promotes an increase of awareness about environmental problems and at least a bit helps us to make the world a better place.\n",
    "\n",
    "## Notebook outline\n",
    "\n",
    "The outline of this notebook is the following:\n",
    "1. Defining geometries of [Theewaterskloof Dam, South Africa](https://en.wikipedia.org/wiki/Theewaterskloof_Dam)\n",
    "2. Preparing and executing the full workflow for water detection\n",
    "   1. Downloading Sentinel-2 data using [SentinelHub](https://www.sentinel-hub.com/) services\n",
    "   2. Cloud detection using the [s2cloudless](https://github.com/sentinel-hub/sentinel2-cloud-detector) cloud detector\n",
    "   3. Water detection\n",
    "3. Visualizing the waterbodies and the water level over a period of time\n",
    "\n",
    "## Requirements\n",
    "\n",
    "- `eo-learn` (https://github.com/sentinel-hub/eo-learn)\n",
    "\n",
    "In order to run the example, you will also need a Sentinel Hub account. If you do not have one yet, you can create a free trial account at [Sentinel Hub webpage](https://services.sentinel-hub.com/oauth/subscription). If you are a researcher you can even apply for a free non-commercial account at [ESA OSEO page](https://earth.esa.int/aos/OSEO).\n",
    "\n",
    "Details on how to set up your Sentinel Hub configuration can be found [here](introduction.ipynb)."
   ]
  },
  {
   "cell_type": "markdown",
   "metadata": {},
   "source": [
    "## Notebook configuration"
   ]
  },
  {
   "cell_type": "code",
   "execution_count": null,
   "metadata": {},
   "outputs": [],
   "source": [
    "%reload_ext autoreload\n",
    "%autoreload 2\n",
    "%matplotlib inline"
   ]
  },
  {
   "cell_type": "markdown",
   "metadata": {},
   "source": [
    "## Imports\n",
    "\n",
    "### eo-learn imports"
   ]
  },
  {
   "cell_type": "code",
   "execution_count": null,
   "metadata": {},
   "outputs": [],
   "source": [
    "from eolearn.core import EOTask, EOPatch, LinearWorkflow, FeatureType\n",
    "\n",
    "from eolearn.io import SentinelHubInputTask\n",
    "\n",
    "from eolearn.mask import AddValidDataMaskTask\n",
    "\n",
    "# filtering of scenes\n",
    "from eolearn.features import SimpleFilterTask, NormalizedDifferenceIndexTask\n",
    "\n",
    "# burning the vectorised polygon to raster\n",
    "from eolearn.geometry import VectorToRasterTask"
   ]
  },
  {
   "cell_type": "markdown",
   "metadata": {},
   "source": [
    "### Other imports "
   ]
  },
  {
   "cell_type": "code",
   "execution_count": null,
   "metadata": {},
   "outputs": [],
   "source": [
    "import os\n",
    "\n",
    "# The golden standard: numpy and matplotlib\n",
    "import numpy as np\n",
    "import matplotlib.pyplot as plt\n",
    "from mpl_toolkits.axes_grid1 import make_axes_locatable\n",
    "\n",
    "# For manipulating geo-spatial vector dataset (polygons of nominal water extent)\n",
    "import geopandas as gpd\n",
    "\n",
    "# Image manipulations\n",
    "# Our water detector is going to be based on a simple threshold \n",
    "# of Normalised Difference Water Index (NDWI) grayscale image\n",
    "from skimage.filters import threshold_otsu\n",
    "\n",
    "# Loading polygon of nominal water extent\n",
    "import shapely.wkt\n",
    "from shapely.geometry import Polygon\n",
    "\n",
    "# sentinelhub-py package\n",
    "from sentinelhub import BBox, CRS, DataCollection"
   ]
  },
  {
   "cell_type": "markdown",
   "metadata": {},
   "source": [
    "## Water level extraction EOWorkflow\n",
    "\n",
    "Our basic logic of the example workflow is:\n",
    "\n",
    "1. Download all available Sentinel-2 sattelite imagery of Theewaterskloof Dam from beginning of 2016 and today\n",
    "    * We want to calculate NDWI and also have a true color visualization of the area. We need the following bands: \n",
    "        * B02, B03, B04 for `TRUE_COLOR` for visualisations\n",
    "        * B03, B08 for NDWI calculation \n",
    "        * CLM (provided by Sentinel Hub) for cloud masking\n",
    "2. Clouds are very often obscuring the view of the ground. In order to correctly determine the water level of the dam all images with clouds need to be filtered out. We will use the cloud masks provided by Sentinel Hub to filter clouds without the need for time consuming processing locally.\n",
    "3. Apply adaptive thresholding to `NDWI` grayscale images\n",
    "4. Extract water level from a comparison of measured water extent with the nominal one\n",
    "\n",
    "Each step in the above overview of the workflow is accomplished by adding an `EOTask` to the `EOWorkflow`"
   ]
  },
  {
   "cell_type": "markdown",
   "metadata": {},
   "source": [
    "### Load the Polygon of nominal water extent and define a `BBox`\n",
    "\n",
    "The `BBox` defines an area of interest and will be used to create an EOPatch."
   ]
  },
  {
   "cell_type": "code",
   "execution_count": null,
   "metadata": {},
   "outputs": [],
   "source": [
    "# The polygon of the dam is written in wkt format and WGS84 coordinate reference system\n",
    "DATA_PATH = os.path.join('..', 'data', 'theewaterskloof_dam_nominal.wkt')\n",
    "with open(DATA_PATH, 'r') as f:\n",
    "    dam_wkt = f.read()\n",
    "\n",
    "dam_nominal = shapely.wkt.loads(dam_wkt)\n",
    "\n",
    "# We add a bit of buffer to the BBox so it nicely contains all polygons \n",
    "dam_bbox = BBox(dam_nominal.bounds, crs=CRS.WGS84).buffer(0.2)\n",
    "\n",
    "# Display\n",
    "dam_bbox.geometry - dam_nominal"
   ]
  },
  {
   "cell_type": "markdown",
   "metadata": {},
   "source": [
    "### Step 1: Intialize (and implement workflow specific) EOTasks"
   ]
  },
  {
   "cell_type": "markdown",
   "metadata": {},
   "source": [
    "#### Create an EOPatch and add all EO features (satellite imagery data)"
   ]
  },
  {
   "cell_type": "code",
   "execution_count": null,
   "metadata": {},
   "outputs": [],
   "source": [
    "download_task = SentinelHubInputTask(\n",
    "    data_collection=DataCollection.SENTINEL2_L1C, \n",
    "    bands_feature=(FeatureType.DATA, 'BANDS'),\n",
    "    resolution=20, \n",
    "    maxcc=0.5, \n",
    "    bands=['B02', 'B03', 'B04', 'B08'], \n",
    "    additional_data=[(FeatureType.MASK, 'dataMask', 'IS_DATA'), (FeatureType.MASK, 'CLM')]\n",
    ")\n",
    "\n",
    "calculate_ndwi = NormalizedDifferenceIndexTask((FeatureType.DATA, 'BANDS'), (FeatureType.DATA, 'NDWI'), (1, 3))"
   ]
  },
  {
   "cell_type": "markdown",
   "metadata": {},
   "source": [
    "#### Burn in the nominal water extent\n",
    "\n",
    "The `VectorToRasterTask` expects the vectorised dataset in geopandas dataframe."
   ]
  },
  {
   "cell_type": "code",
   "execution_count": null,
   "metadata": {},
   "outputs": [],
   "source": [
    "dam_gdf = gpd.GeoDataFrame(crs=CRS.WGS84.pyproj_crs(), geometry=[dam_nominal])"
   ]
  },
  {
   "cell_type": "code",
   "execution_count": null,
   "metadata": {},
   "outputs": [],
   "source": [
    "dam_gdf.plot();"
   ]
  },
  {
   "cell_type": "code",
   "execution_count": null,
   "metadata": {},
   "outputs": [],
   "source": [
    "add_nominal_water = VectorToRasterTask(\n",
    "    dam_gdf, (FeatureType.MASK_TIMELESS, 'NOMINAL_WATER'), values=1, \n",
    "    raster_shape=(FeatureType.MASK, 'IS_DATA'), raster_dtype=np.uint8\n",
    ")"
   ]
  },
  {
   "cell_type": "markdown",
   "metadata": {},
   "source": [
    "#### The cloud mask is already provided by Sentinel Hub, we use it to calulcate the valid data mask. "
   ]
  },
  {
   "cell_type": "markdown",
   "metadata": {},
   "source": [
    "Define a `VALID_DATA` layer: pixel has to contain data and should be classified as clear sky by the cloud detector (`CLM` equals 0)"
   ]
  },
  {
   "cell_type": "code",
   "execution_count": null,
   "metadata": {},
   "outputs": [],
   "source": [
    "def calculate_valid_data_mask(eopatch):\n",
    "    is_data = eopatch.mask['IS_DATA'].astype(np.bool)\n",
    "    not_cloud = ~eopatch.mask['CLM'].astype(np.bool)\n",
    "    return is_data & not_cloud\n",
    "\n",
    "add_valid_mask = AddValidDataMaskTask(predicate=calculate_valid_data_mask)"
   ]
  },
  {
   "cell_type": "markdown",
   "metadata": {},
   "source": [
    "Calculate fraction of valid pixels per frame and store it as `SCALAR` feature"
   ]
  },
  {
   "cell_type": "code",
   "execution_count": null,
   "metadata": {},
   "outputs": [],
   "source": [
    "def calculate_coverage(array):\n",
    "    return 1.0 - np.count_nonzero(array) / np.size(array)\n",
    "\n",
    "class AddValidDataCoverageTask(EOTask):\n",
    "    \n",
    "    def execute(self, eopatch):\n",
    "        \n",
    "        valid_data = eopatch[FeatureType.MASK, 'VALID_DATA']\n",
    "        time, height, width, channels = valid_data.shape\n",
    "        \n",
    "        coverage = np.apply_along_axis(calculate_coverage, 1,\n",
    "                                       valid_data.reshape((time, height * width * channels)))\n",
    "        \n",
    "        eopatch[FeatureType.SCALAR, 'COVERAGE'] = coverage[:, np.newaxis]\n",
    "        return eopatch\n",
    "    \n",
    "add_coverage = AddValidDataCoverageTask()"
   ]
  },
  {
   "cell_type": "markdown",
   "metadata": {},
   "source": [
    "Filter out too cloudy scenes. We filter out all observation which have cloud coverage of more than 5%. \n"
   ]
  },
  {
   "cell_type": "code",
   "execution_count": null,
   "metadata": {},
   "outputs": [],
   "source": [
    "cloud_coverage_threshold = 0.05 \n",
    "\n",
    "class ValidDataCoveragePredicate:\n",
    "    \n",
    "    def __init__(self, threshold):\n",
    "        self.threshold = threshold\n",
    "        \n",
    "    def __call__(self, array):\n",
    "        return calculate_coverage(array) < self.threshold\n",
    "    \n",
    "remove_cloudy_scenes = SimpleFilterTask((FeatureType.MASK, 'VALID_DATA'),\n",
    "                                        ValidDataCoveragePredicate(cloud_coverage_threshold))"
   ]
  },
  {
   "cell_type": "markdown",
   "metadata": {},
   "source": [
    "#### Apply Water Detection\n",
    "\n"
   ]
  },
  {
   "cell_type": "code",
   "execution_count": null,
   "metadata": {},
   "outputs": [],
   "source": [
    "class WaterDetectionTask(EOTask):\n",
    "    \n",
    "    @staticmethod\n",
    "    def detect_water(ndwi):\n",
    "        \"\"\" Very simple water detector based on Otsu thresholding method of NDWI.\n",
    "        \"\"\"\n",
    "        otsu_thr = 1.0\n",
    "        if len(np.unique(ndwi)) > 1:\n",
    "            ndwi[np.isnan(ndwi)] = -1\n",
    "            otsu_thr = threshold_otsu(ndwi)\n",
    "\n",
    "        return ndwi > otsu_thr\n",
    "\n",
    "    def execute(self, eopatch):\n",
    "        water_masks = np.asarray([self.detect_water(ndwi[...,0]) for ndwi in eopatch.data['NDWI']])\n",
    "        \n",
    "        # we're only interested in the water within the dam borders\n",
    "        water_masks = water_masks[...,np.newaxis] * eopatch.mask_timeless['NOMINAL_WATER']\n",
    "        \n",
    "        water_levels = np.asarray([np.count_nonzero(mask)/np.count_nonzero(eopatch.mask_timeless['NOMINAL_WATER']) \n",
    "                                   for mask in water_masks])\n",
    "        \n",
    "        eopatch[FeatureType.MASK, 'WATER_MASK'] = water_masks\n",
    "        eopatch[FeatureType.SCALAR, 'WATER_LEVEL'] = water_levels[...,np.newaxis]\n",
    "        \n",
    "        return eopatch\n",
    "    \n",
    "water_detection = WaterDetectionTask()"
   ]
  },
  {
   "cell_type": "markdown",
   "metadata": {},
   "source": [
    "### Step 2: Define the EOWorkflow"
   ]
  },
  {
   "cell_type": "code",
   "execution_count": null,
   "metadata": {},
   "outputs": [],
   "source": [
    "workflow = LinearWorkflow(\n",
    "    download_task,\n",
    "    calculate_ndwi,\n",
    "    add_nominal_water,\n",
    "    add_valid_mask,\n",
    "    add_coverage,\n",
    "    remove_cloudy_scenes,\n",
    "    water_detection\n",
    ")"
   ]
  },
  {
   "cell_type": "markdown",
   "metadata": {},
   "source": [
    "### Step 3: Run the workflow\n",
    "\n",
    "Process all Sentinel-2 acquisitions from beginning of 2016 and until beginning of June 2020."
   ]
  },
  {
   "cell_type": "code",
   "execution_count": null,
   "metadata": {},
   "outputs": [],
   "source": [
    "time_interval = ['2017-01-01','2020-06-01']"
   ]
  },
  {
   "cell_type": "code",
   "execution_count": null,
   "metadata": {
    "scrolled": true
   },
   "outputs": [],
   "source": [
    "result = workflow.execute({\n",
    "    download_task: {\n",
    "        'bbox': dam_bbox,\n",
    "        'time_interval': time_interval\n",
    "    },\n",
    "})"
   ]
  },
  {
   "cell_type": "code",
   "execution_count": null,
   "metadata": {},
   "outputs": [],
   "source": [
    "patch = list(result.values())[-1]"
   ]
  },
  {
   "cell_type": "markdown",
   "metadata": {},
   "source": [
    "Print content of eopatch at the end of the workflow execution"
   ]
  },
  {
   "cell_type": "markdown",
   "metadata": {},
   "source": [
    "# Plot results"
   ]
  },
  {
   "cell_type": "code",
   "execution_count": null,
   "metadata": {},
   "outputs": [],
   "source": [
    "from skimage.filters import sobel\n",
    "from skimage.morphology import disk\n",
    "from skimage.morphology import erosion, dilation, opening, closing, white_tophat"
   ]
  },
  {
   "cell_type": "code",
   "execution_count": null,
   "metadata": {},
   "outputs": [],
   "source": [
    "def plot_rgb_w_water(eopatch, idx):\n",
    "    ratio = np.abs(eopatch.bbox.max_x - eopatch.bbox.min_x) / np.abs(eopatch.bbox.max_y - eopatch.bbox.min_y)\n",
    "    fig, ax = plt.subplots(figsize=(ratio * 10, 10))\n",
    "    \n",
    "    ax.imshow(2.5*eopatch.data['BANDS'][..., [2, 1, 0]][idx])\n",
    "    \n",
    "    observed = closing(eopatch.mask['WATER_MASK'][idx,...,0], disk(1))\n",
    "    nominal = sobel(eopatch.mask_timeless['NOMINAL_WATER'][...,0])\n",
    "    observed = sobel(observed)\n",
    "    nominal = np.ma.masked_where(nominal == False, nominal)\n",
    "    observed = np.ma.masked_where(observed == False, observed)\n",
    "    \n",
    "    ax.imshow(nominal, cmap=plt.cm.Reds)\n",
    "    ax.imshow(observed, cmap=plt.cm.Blues)\n",
    "    ax.axis('off')"
   ]
  },
  {
   "cell_type": "code",
   "execution_count": null,
   "metadata": {},
   "outputs": [],
   "source": [
    "plot_rgb_w_water(patch, 0)"
   ]
  },
  {
   "cell_type": "code",
   "execution_count": null,
   "metadata": {},
   "outputs": [],
   "source": [
    "plot_rgb_w_water(patch, -1)"
   ]
  },
  {
   "cell_type": "code",
   "execution_count": null,
   "metadata": {},
   "outputs": [],
   "source": [
    "def plot_water_levels(eopatch, max_coverage=1.0):\n",
    "    fig, ax = plt.subplots(figsize=(20, 7))\n",
    "\n",
    "    dates = np.asarray(eopatch.timestamp)\n",
    "    ax.plot(dates[eopatch.scalar['COVERAGE'][...,0] < max_coverage],\n",
    "            eopatch.scalar['WATER_LEVEL'][eopatch.scalar['COVERAGE'][...,0] < max_coverage],\n",
    "            'bo-', alpha=0.7)\n",
    "    ax.plot(dates[eopatch.scalar['COVERAGE'][...,0] < max_coverage],\n",
    "            eopatch.scalar['COVERAGE'][eopatch.scalar['COVERAGE'][...,0] < max_coverage],\n",
    "            '--', color='gray', alpha=0.7)\n",
    "    ax.set_ylim(0.0, 1.1)\n",
    "    ax.set_xlabel('Date')\n",
    "    ax.set_ylabel('Water level')\n",
    "    ax.set_title('Theewaterskloof Dam Water Levels')\n",
    "    ax.grid(axis='y')\n",
    "    return ax"
   ]
  },
  {
   "cell_type": "code",
   "execution_count": null,
   "metadata": {},
   "outputs": [],
   "source": [
    "ax = plot_water_levels(patch, 1.0)"
   ]
  }
 ],
 "metadata": {
  "kernelspec": {
   "display_name": "Python 3 (ipykernel)",
   "language": "python",
   "name": "python3"
  },
  "language_info": {
   "codemirror_mode": {
    "name": "ipython",
    "version": 3
   },
   "file_extension": ".py",
   "mimetype": "text/x-python",
   "name": "python",
   "nbconvert_exporter": "python",
   "pygments_lexer": "ipython3",
   "version": "3.9.9"
  }
 },
 "nbformat": 4,
 "nbformat_minor": 4
}
