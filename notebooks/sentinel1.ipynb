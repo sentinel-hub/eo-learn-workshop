{
 "cells": [
  {
   "cell_type": "markdown",
   "metadata": {},
   "source": [
    "# Visualization of changes by speckle variability using Sentinel-1 data\n",
    "\n",
    "### **R**apid and **EA**sy **C**hange detection in radar **TI**me-series by **V**ariation coefficient\n",
    "\n",
    "![REACTIV logo](https://raw.githubusercontent.com/elisekoeniguer/REACTIV/master/REACTIV.png)  \n",
    "\n",
    "##### Display a stack of SAR images with change detection highlighting\n",
    "\n",
    "<i>Colored visualization of multitemporal data for change detection: issues and methods</i>, Elise Colin Koeniguer et al., EUSAR 2018  \n",
    "[github link](https://github.com/elisekoeniguer/REACTIV)"
   ]
  },
  {
   "cell_type": "code",
   "execution_count": 1,
   "metadata": {},
   "outputs": [],
   "source": [
    "import datetime as dt\n",
    "import matplotlib.pyplot as plt\n",
    "import numpy as np\n",
    "\n",
    "from scipy.special import gamma\n",
    "from skimage import color\n",
    "\n",
    "from eolearn.io import S1IWWCSInput\n",
    "from eolearn.core import EOTask, EOPatch, FeatureType, LinearWorkflow\n",
    "\n",
    "from sentinelhub import BBox, CRS"
   ]
  },
  {
   "cell_type": "code",
   "execution_count": 2,
   "metadata": {},
   "outputs": [],
   "source": [
    "def speckle_variability(data, mask, timestamps):\n",
    "    data_shape = data.shape[1:3]\n",
    "\n",
    "    time_delta = np.max(timestamps) - np.min(timestamps)\n",
    "    min_time = np.min(timestamps)\n",
    "    time = (np.array(timestamps) - min_time) / time_delta\n",
    "\n",
    "    masked_data = np.ma.array(data.squeeze(), mask=np.logical_not(mask.squeeze()))\n",
    "\n",
    "    mb1 = masked_data.mean(axis=0)\n",
    "    mb2 = np.ma.power(masked_data, 2).mean(axis=0)\n",
    "    kmax = time[masked_data.argmax(axis=0).ravel()].reshape(data_shape).astype(np.float32)\n",
    "    imax = data.squeeze().max(axis=0)\n",
    "\n",
    "    R = np.sqrt(mb2 - mb1 ** 2) / mb1\n",
    "\n",
    "    gam = R.mean()\n",
    "    a = 0.991936 + 0.067646 * gam - 0.098888 * gam ** 2 - 0.048320 * gam ** 3\n",
    "    b = 0.001224 - 0.034323 * gam + 4.305577 * gam ** 2 - 1.163498 * gam ** 3\n",
    "    L = a / b\n",
    "\n",
    "    CV = np.sqrt((L * gamma(L) ** 2 / (gamma(L + 0.5) ** 2)) - 1)  # theoretical mean value\n",
    "    num = (L * gamma(L) ** 4 * (4 * (L ** 2) * gamma(L) ** 2 - 4 * L * gamma(L + 0.5) ** 2 - gamma(L + 0.5) ** 2))\n",
    "    den = (gamma(L + 0.5) ** 4 * (L * gamma(L) ** 2 - gamma(L + 0.5) ** 2))\n",
    "    alpha = 0.25 * num / den  # theoretical standard deviation value\n",
    "\n",
    "    R = (R - CV) / (alpha / np.sqrt(np.count_nonzero(data, axis=0).squeeze())) / 10.0 + 0.25\n",
    "    R = np.clip(R.data, a_min=0, a_max=1)  # Cast Coefficient of Varation R max to 1\n",
    "\n",
    "    threshold = np.mean(masked_data[0]) + 15 * np.std(masked_data[0])\n",
    "    I = np.clip(imax / threshold, a_max=1, a_min=0)  # normalize Intensity to threshold\n",
    "\n",
    "    hsv = np.stack([kmax, R.data, I], axis=2).astype(np.float32)\n",
    "\n",
    "    return hsv"
   ]
  },
  {
   "cell_type": "markdown",
   "metadata": {},
   "source": [
    "## Practice\n",
    "\n",
    "The above method seems suitable to be put into an `EOTask`. Let's make one!"
   ]
  },
  {
   "cell_type": "markdown",
   "metadata": {},
   "source": [
    "<div class=\"alert alert-success\">\n",
    " <b>EXERCISE</b>:\n",
    "\n",
    "\n",
    "* Create an [EOTask](eolearn_basics.ipynb#EOTask) from the `speckle_variability` method. Think if the resulting data is temporal or timeless (in terms of `FeatureType`). \n",
    "* Run the task on `data/sentinel1_sample` and produce an image. \n",
    "* Try to combine lessons learned in **Sentinel-Hub and other datasources** section, download Sentinel-1 data for year 2018 over given coordinates, at '120m' resolution and then run the task to produce an image. Do you recognize what is going on (and where)?\n",
    " \n",
    "</div>"
   ]
  },
  {
   "cell_type": "markdown",
   "metadata": {},
   "source": [
    "<hr>"
   ]
  },
  {
   "cell_type": "markdown",
   "metadata": {},
   "source": [
    "EOTask wrapping the `speckle_variability` method"
   ]
  },
  {
   "cell_type": "code",
   "execution_count": 3,
   "metadata": {},
   "outputs": [],
   "source": [
    "# %load ../solutions/sentinel1_task.py"
   ]
  },
  {
   "cell_type": "markdown",
   "metadata": {},
   "source": [
    "<hr>"
   ]
  },
  {
   "cell_type": "markdown",
   "metadata": {},
   "source": [
    "Produce an image from `../data/sentinel1_sample` using above EOTask.  "
   ]
  },
  {
   "cell_type": "code",
   "execution_count": 3,
   "metadata": {},
   "outputs": [],
   "source": [
    "def plot_results(hsv):\n",
    "    \"\"\" A function for plotting results\n",
    "    \"\"\"\n",
    "    plt.figure(figsize=(15, 15))\n",
    "    plt.imshow(color.hsv2rgb(hsv));"
   ]
  },
  {
   "cell_type": "code",
   "execution_count": null,
   "metadata": {},
   "outputs": [],
   "source": [
    "# %load ../solutions/sentinel1_image.py"
   ]
  },
  {
   "cell_type": "markdown",
   "metadata": {},
   "source": [
    "<hr>"
   ]
  },
  {
   "cell_type": "markdown",
   "metadata": {},
   "source": [
    "Download S1 data, run task, produce image"
   ]
  },
  {
   "cell_type": "code",
   "execution_count": 6,
   "metadata": {},
   "outputs": [],
   "source": [
    "bbox = BBox([-5.996475, 35.706378, -5.285797, 36.157836], crs=CRS.WGS84)\n",
    "time_interval = ('2018-01-01', '2018-12-31')"
   ]
  },
  {
   "cell_type": "code",
   "execution_count": null,
   "metadata": {},
   "outputs": [],
   "source": [
    "# %load ../solutions/sentinel1_pipeline.py"
   ]
  }
 ],
 "metadata": {
  "kernelspec": {
   "display_name": "Python 3",
   "language": "python",
   "name": "python3"
  },
  "language_info": {
   "codemirror_mode": {
    "name": "ipython",
    "version": 3
   },
   "file_extension": ".py",
   "mimetype": "text/x-python",
   "name": "python",
   "nbconvert_exporter": "python",
   "pygments_lexer": "ipython3",
   "version": "3.6.6"
  }
 },
 "nbformat": 4,
 "nbformat_minor": 4
}
