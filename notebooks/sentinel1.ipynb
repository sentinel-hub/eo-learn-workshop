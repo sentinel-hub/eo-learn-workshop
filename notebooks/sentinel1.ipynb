{
 "cells": [
  {
   "cell_type": "markdown",
   "metadata": {},
   "source": [
    "# Visualization of changes by specle variability using Sentinel-1 data"
   ]
  },
  {
   "cell_type": "markdown",
   "metadata": {},
   "source": [
    "### **R**apid and **EA**sy **C**hange detection in radar **TI**me-series by **V**ariation coefficient\n",
    "\n",
    "![REACTIV logo](https://raw.githubusercontent.com/elisekoeniguer/REACTIV/master/REACTIV.png)  \n",
    "\n",
    "##### display a stack of SAR images with change detection highlighting\n",
    "\n",
    "_Colored visualization of multitemporal data for change detection: issues and methods_, Elise Colin Koeniguer et al., EUSAR 2018  \n",
    "[github link](https://github.com/elisekoeniguer/REACTIV)"
   ]
  },
  {
   "cell_type": "code",
   "execution_count": null,
   "metadata": {},
   "outputs": [],
   "source": [
    "import matplotlib.pyplot as plt\n",
    "import numpy as np\n",
    "import datetime\n",
    "\n",
    "from scipy.special import gamma\n",
    "from skimage import color\n",
    "\n",
    "from eolearn.io import S1IWWCSInput\n",
    "from sentinelhub import SHConfig\n",
    "from eolearn.core import EOTask, EOPatch, FeatureType\n",
    "\n",
    "from sentinelhub import BBox, CRS"
   ]
  },
  {
   "cell_type": "code",
   "execution_count": null,
   "metadata": {},
   "outputs": [],
   "source": [
    "def specle_variability(eopatch,\n",
    "                       data_feature=(FeatureType.DATA, 'IW_VV'),\n",
    "                       mask_feature=(FeatureType.MASK, 'IS_DATA')):\n",
    "    \n",
    "    eopatch_size = eopatch[data_feature][0][...,0].shape\n",
    "    time_delta = np.max(eopatch.timestamp) - np.min(eopatch.timestamp)\n",
    "    min_time = np.min(eopatch.timestamp)\n",
    "    time = (np.array(eopatch.timestamp)-min_time)/time_delta\n",
    "\n",
    "    masked_eopatch = np.ma.array(eopatch[s.data_feature].squeeze(), \n",
    "                                 mask=np.logical_not(eopatch[mask_feature].squeeze()))\n",
    "\n",
    "    mb1 = masked_eopatch.mean(axis=0) #M1\n",
    "    mb2 = np.ma.power(masked_eopatch, 2).mean(axis=0) #M2\n",
    "    kmax = time[masked_eopatch.argmax(axis=0).ravel()].reshape(eopatch_size).astype(np.float32)\n",
    "    imax = eopatch[data_feature].squeeze().max(axis=0) #Imax\n",
    "\n",
    "    R = np.sqrt(mb2-mb1**2)/mb1\n",
    "\n",
    "    gam = R.mean()\n",
    "    a = 0.991936+0.067646*gam-0.098888*gam**2 -0.048320*gam**3\n",
    "    b = 0.001224-0.034323*gam+4.305577*gam**2-1.163498*gam**3\n",
    "    L = a/b;\n",
    "\n",
    "    CV = np.sqrt((L*gamma(L)**2/(gamma(L+0.5)**2))-1); # theretical mean value\n",
    "    num = (L*gamma(L)**4.*(4*(L**2)*gamma(L)**2-4*L*gamma(L+1/2)**2-gamma(L+1/2)**2));\n",
    "    den = (gamma(L+1/2)**4.*(L*gamma(L)**2-gamma(L+1/2)**2));\n",
    "    alpha = 1/4*num/den; # theretical standard deviation value\n",
    "\n",
    "    R = (R-CV)/(alpha/np.sqrt(np.count_nonzero(eopatch[data_feature], axis=0).squeeze()))/10.0+0.25; \n",
    "    R = np.clip(R.data, a_min=0, a_max=1);   # Cast Coefficient of Varation R max to 1.\n",
    "\n",
    "    threshold = np.mean(masked_eopatch[0]) + 15*np.std(masked_eopatch[0])\n",
    "    I = np.clip(imax/threshold, a_max=1, a_min=0); # normalize Intensity to threshold. \n",
    "\n",
    "    hsv = np.stack([kmax, R.data, I], axis=2).astype(np.float32)\n",
    "\n",
    "    return hsv"
   ]
  },
  {
   "cell_type": "markdown",
   "metadata": {},
   "source": [
    "## Practice\n",
    "\n",
    "The above method seems suitable to be put into an `EOTask`. Let's make one!"
   ]
  },
  {
   "cell_type": "markdown",
   "metadata": {},
   "source": [
    "<div class=\"alert alert-success\">\n",
    " <b>EXERCISE</b>:\n",
    "\n",
    "\n",
    "* Create an [EOTask](eolearn_basics.ipynb#EOTask) from the `specle_variability` method. Think if the resulting data is temporal or timeless (in terms of `FeatureType`). \n",
    "* Run the task on `data/sentinel1_sample` and produce an image. Hint: convert Hue/Saturation/Value to RGB image using `color.hsv2rgb(hsv)` from `skimage`\n",
    "* Try to combine lessons learned in **Sentinel-Hub and other datasources** section, download Sentinel-1 data for year 2018 over these coordinates (BBOX here), use '40m' for `resolution` parameter and then run the task to produce an image. Do you recognize what is going on (and where)?\n",
    " \n",
    "</div>"
   ]
  },
  {
   "cell_type": "markdown",
   "metadata": {},
   "source": [
    "<hr>\n",
    "EOTask wrapping the `specle_variability` method"
   ]
  },
  {
   "cell_type": "code",
   "execution_count": null,
   "metadata": {},
   "outputs": [],
   "source": [
    "# %load ../solutions/sentinel1_task.py"
   ]
  },
  {
   "cell_type": "markdown",
   "metadata": {},
   "source": [
    "<hr>\n",
    "Produce an image using above EOTask"
   ]
  },
  {
   "cell_type": "code",
   "execution_count": null,
   "metadata": {},
   "outputs": [],
   "source": [
    "# %load ../solutions/sentinel1_image.py"
   ]
  },
  {
   "cell_type": "markdown",
   "metadata": {},
   "source": [
    "<hr>\n",
    "Download S1 data, run task, produce image"
   ]
  },
  {
   "cell_type": "code",
   "execution_count": null,
   "metadata": {},
   "outputs": [],
   "source": [
    "# %load ../solutions/sentinel1_pipeline.py"
   ]
  }
 ],
 "metadata": {
  "kernelspec": {
   "display_name": "azelcms",
   "language": "python",
   "name": "azelcms"
  },
  "language_info": {
   "codemirror_mode": {
    "name": "ipython",
    "version": 3
   },
   "file_extension": ".py",
   "mimetype": "text/x-python",
   "name": "python",
   "nbconvert_exporter": "python",
   "pygments_lexer": "ipython3",
   "version": "3.6.6"
  }
 },
 "nbformat": 4,
 "nbformat_minor": 4
}
