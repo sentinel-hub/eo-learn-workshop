{
 "cells": [
  {
   "cell_type": "markdown",
   "metadata": {},
   "source": [
    "## `eo-learn` building blocks\n",
    "\n",
    "\n",
    "### `EOPatch` <a id='EOPatch'></a>\n",
    "\n",
    "The most basic object in the package is a data container, called `EOPatch`. \n",
    "\n",
    "![eo-patch](../images/eopatch.png)\n",
    "\n",
    "- It is designed to store all types of EO data for a single geographical location.\n",
    "- Typically it is defined by a bounding box and a coordinate reference system.\n",
    "- There is no limit to how much data a single `EOPatch` can store, but typically it shouldn't be more than the size of your RAM.\n",
    "\n",
    "EO data can be divided into categories, called \"feature types\" according to the following properties:\n",
    "\n",
    "| `FeatureType` | Type of data | Time component |  Spatial component | Type of values | Python object | Shape |\n",
    "| --- | --- | --- | --- | --- | --- | --- |\n",
    "| DATA | raster | <span style=\"color:green\">yes</span> | <span style=\"color:green\">yes</span> | float | `numpy.ndarray` | `t x n x m x d` |\n",
    "| MASK | raster | <span style=\"color:green\">yes</span> | <span style=\"color:green\">yes</span> | integer | `numpy.ndarray` | `t x n x m x d` |\n",
    "| SCALAR | raster | <span style=\"color:green\">yes</span> | <span style=\"color:red\">no</span> | float | `numpy.ndarray` | `t x d` |\n",
    "| LABEL | raster | <span style=\"color:green\">yes</span> | <span style=\"color:red\">no</span> | integer | `numpy.ndarray` | `t x d` |\n",
    "| DATA_TIMELESS | raster | <span style=\"color:red\">no</span> | <span style=\"color:green\">yes</span> | float | `numpy.ndarray` | `n x m x d` |\n",
    "| MASK_TIMELESS | raster | <span style=\"color:red\">no</span> | <span style=\"color:green\">yes</span> | integer | `numpy.ndarray` | `n x m x d` |\n",
    "| SCALAR_TIMELESS | raster | <span style=\"color:red\">no</span> | <span style=\"color:red\">no</span> | float | `numpy.ndarray` | `d` |\n",
    "| LABEL_TIMELESS | raster | <span style=\"color:red\">no</span> | <span style=\"color:red\">no</span> | integer | `numpy.ndarray` | `d` |\n",
    "| VECTOR | vector | <span style=\"color:green\">yes</span> | <span style=\"color:green\">yes</span> | / | `geopandas.GeoDataFrame` | Required columns `geometry` and `TIMESTAMP` |\n",
    "| VECTOR_TIMELESS | vector | <span style=\"color:red\">no</span> | <span style=\"color:green\">yes</span> | / | `geopandas.GeoDataFrame` | Required column `geometry` |\n",
    "| META_INFO | anything | <span style=\"color:red\">no</span> | <span style=\"color:red\">no</span> | anything | anything | anything |\n",
    "| TIMESTAMP | timestamps | <span style=\"color:green\">yes</span> | <span style=\"color:red\">no</span> | datetime | `list(datetime.datetime)` | `t` |\n",
    "| BBOX | bounding box and CRS | <span style=\"color:red\">no</span> | <span style=\"color:green\">yes</span> | coordinates | `sentinelhub.BBox` | / |\n",
    "\n",
    "Note: `t` specifies time component, `n` and `m` are spatial components (height and width), and `d` is an additional component for data with multiple channels.\n",
    "\n",
    "Let's start by loading an existing `EOPatch` and displaying it's content (i.e. features):"
   ]
  },
  {
   "cell_type": "code",
   "execution_count": null,
   "metadata": {},
   "outputs": [],
   "source": [
    "from pathlib import Path\n",
    "from eolearn.core import EOPatch\n",
    "\n",
    "INPUT_FOLDER = Path('../data')\n",
    "INPUT_EOPATCH = INPUT_FOLDER / 'TutorialEOPatch'\n",
    "\n",
    "eopatch = EOPatch.load(INPUT_EOPATCH, lazy_loading=True)\n",
    "# There is no need to load all data in the memory right away\n",
    "\n",
    "eopatch\n",
    "# or more concise eopatch.get_features()"
   ]
  },
  {
   "cell_type": "markdown",
   "metadata": {},
   "source": [
    "Note: `LULC` stands for [Land use / land cover](https://en.wikipedia.org/wiki/Land_cover).\n",
    "\n",
    "There are multiple ways how to access a feature in the `EOPatch`"
   ]
  },
  {
   "cell_type": "code",
   "execution_count": null,
   "metadata": {},
   "outputs": [],
   "source": [
    "from eolearn.core import FeatureType\n",
    "\n",
    "# bands = eopatch.get_feature(FeatureType.DATA, 'BANDS-S2-L1C')\n",
    "# bands = eopatch.data['BANDS-S2-L1C']\n",
    "\n",
    "# The most common ones are\n",
    "bands = eopatch[FeatureType.DATA]['BANDS-S2-L1C']\n",
    "# or\n",
    "bands = eopatch[(FeatureType.DATA, 'BANDS-S2-L1C')]\n",
    "\n",
    "type(bands), bands.shape"
   ]
  },
  {
   "cell_type": "markdown",
   "metadata": {},
   "source": [
    "Vector features are handled by `geopandas`"
   ]
  },
  {
   "cell_type": "code",
   "execution_count": null,
   "metadata": {},
   "outputs": [],
   "source": [
    "eopatch[FeatureType.VECTOR]['CLOUD_MASK_VECTOR']"
   ]
  },
  {
   "cell_type": "markdown",
   "metadata": {},
   "source": [
    "Special features are bounding box and timestamps"
   ]
  },
  {
   "cell_type": "code",
   "execution_count": null,
   "metadata": {},
   "outputs": [],
   "source": [
    "print(f'{eopatch.timestamp[0]} -- {eopatch.timestamp[-1]}, #timestamps={len(eopatch.timestamp)}')\n",
    "print(repr(eopatch.bbox))\n",
    "\n",
    "eopatch.bbox"
   ]
  },
  {
   "cell_type": "markdown",
   "metadata": {},
   "source": [
    "Let's create a new `EOPatch` and store some features inside."
   ]
  },
  {
   "cell_type": "code",
   "execution_count": null,
   "metadata": {},
   "outputs": [],
   "source": [
    "import numpy as np\n",
    "\n",
    "new_eopatch = EOPatch()\n",
    "\n",
    "new_eopatch[FeatureType.DATA]['BANDS'] = eopatch[FeatureType.DATA]['BANDS-S2-L1C']\n",
    "\n",
    "new_eopatch[FeatureType.MASK_TIMELESS]['NEW_MASK'] = np.zeros((10, 10, 13), dtype=np.uint8)\n",
    "\n",
    "# The following wouldn't work as there are restrictions to what kind of data can be stored in each feature type\n",
    "# new_eopatch[FeatureType.MASK]['NEW_MASK'] = np.zeros((10, 10, 13), dtype=np.uint8)\n",
    "# new_eopatch[FeatureType.DATA_TIMELESS]['NEW_MASK'] = np.zeros((10, 10, 13), dtype=np.uint8)\n",
    "# new_eopatch[FeatureType.VECTOR]['NEW_MASK'] = np.zeros((10, 10, 13), dtype=np.uint8)\n",
    "\n",
    "new_eopatch"
   ]
  },
  {
   "cell_type": "markdown",
   "metadata": {},
   "source": [
    "It is also possible to delete a feature"
   ]
  },
  {
   "cell_type": "code",
   "execution_count": null,
   "metadata": {},
   "outputs": [],
   "source": [
    "del new_eopatch[FeatureType.DATA]['BANDS']\n",
    "\n",
    "new_eopatch"
   ]
  },
  {
   "cell_type": "markdown",
   "metadata": {},
   "source": [
    "We can save `EOPatch` into a local folder. In case of an `EOPatch`  already existing in the specified location, we also permit to overwrite its features."
   ]
  },
  {
   "cell_type": "code",
   "execution_count": null,
   "metadata": {},
   "outputs": [],
   "source": [
    "import os\n",
    "from eolearn.core import OverwritePermission\n",
    "\n",
    "OUTPUT_FOLDER = Path('../outputs')\n",
    "if not os.path.isdir(OUTPUT_FOLDER):\n",
    "    os.mkdir(OUTPUT_FOLDER)\n",
    "    \n",
    "new_eopatch.save(OUTPUT_FOLDER / 'TestEOPatch', overwrite_permission=OverwritePermission.OVERWRITE_FEATURES)"
   ]
  },
  {
   "cell_type": "markdown",
   "metadata": {},
   "source": [
    "#### Plotting\n",
    "\n",
    "`EOPatch` plotting functionalities will only work if you successfully install `eo-learn-visualization[FULL]`\n",
    "\n",
    "Luckily, it is always possible to resort to (old-school) plotting..."
   ]
  },
  {
   "cell_type": "code",
   "execution_count": null,
   "metadata": {},
   "outputs": [],
   "source": [
    "eopatch.get_features()"
   ]
  },
  {
   "cell_type": "code",
   "execution_count": null,
   "metadata": {},
   "outputs": [],
   "source": [
    "# since the data is a numpy array, let's try visualizing it with matplotlib\n",
    "import matplotlib.pyplot as plt\n",
    "%matplotlib inline\n",
    "\n",
    "plt.imshow(eopatch.data['BANDS-S2-L1C'][1][...,[4,3,2]]*3.2);"
   ]
  },
  {
   "cell_type": "markdown",
   "metadata": {},
   "source": [
    "### EOTask <a id=\"EOTask\"></a>\n",
    "\n",
    "The next core object is `EOTask`, which is a single well-defined operation on one or more `EOPatch` objects.\n",
    "\n",
    "We can create a new EOTask by creating a class that inherits from the abstract `EOTask` class:\n",
    "\n",
    "```Python\n",
    "class FooTask(EOTask):\n",
    "    \n",
    "    def __init__(self, foo_param):\n",
    "        \"\"\" Task-specific parameters\n",
    "        \"\"\"\n",
    "        self.foo_param = foo_param\n",
    "        \n",
    "    def execute(self, eopatch, *, patch_specific_param):\n",
    "        \n",
    "       # Do what foo does on EOPatch and return it\n",
    "    \n",
    "        return eopatch\n",
    "```\n",
    "\n",
    "- In the initialization method we define task-specific parameters.\n",
    "- Each task has to implement the `execute` method.\n",
    "- `execute` method has to be defined in a way that:\n",
    "    * Positional arguments have to be instances of `EOPatch`\n",
    "    * Keyword arguments have to be anything else (i.e. `EOPatch` specific parameters)\n",
    "- Otherwise the task itself can do anything.\n",
    "\n",
    "Example of a task that adds a new feature to existing `EOPatch`:"
   ]
  },
  {
   "cell_type": "code",
   "execution_count": null,
   "metadata": {},
   "outputs": [],
   "source": [
    "from eolearn.core import EOTask\n",
    "\n",
    "\n",
    "class AddFeature(EOTask):\n",
    "    \"\"\"Adds a feature to the given EOPatch.\n",
    "\n",
    "    :param feature: Feature to be added\n",
    "    :type feature: (FeatureType, feature_name) or FeatureType\n",
    "    \"\"\"\n",
    "    def __init__(self, feature):\n",
    "        self.feature = feature\n",
    "\n",
    "    def execute(self, eopatch, *, data):\n",
    "        \"\"\"Returns the EOPatch with added features.\n",
    "\n",
    "        :param eopatch: input EOPatch\n",
    "        :type eopatch: EOPatch\n",
    "        :param data: data to be added to the feature\n",
    "        :type data: object\n",
    "        :return: input EOPatch with the specified feature\n",
    "        :rtype: EOPatch\n",
    "        \"\"\"\n",
    "        eopatch[self.feature] = data\n",
    "\n",
    "        return eopatch"
   ]
  },
  {
   "cell_type": "markdown",
   "metadata": {},
   "source": [
    "Let's see how such a task could be used."
   ]
  },
  {
   "cell_type": "code",
   "execution_count": null,
   "metadata": {},
   "outputs": [],
   "source": [
    "eopatch = EOPatch()\n",
    "\n",
    "add_feature_task = AddFeature((FeatureType.DATA, 'NEW_BANDS'))\n",
    "\n",
    "data = np.zeros((5, 100, 100, 13))\n",
    "\n",
    "eopatch = add_feature_task.execute(eopatch, data=data)\n",
    "# or shorter:\n",
    "# eopatch = add_feature_task(eopatch, data)\n",
    "\n",
    "eopatch"
   ]
  },
  {
   "cell_type": "markdown",
   "metadata": {},
   "source": [
    "*Problem 1*:\n",
    "Create a new task called `RenameFeature` which changes a name of a feature in an `EOPatch`."
   ]
  },
  {
   "cell_type": "code",
   "execution_count": null,
   "metadata": {},
   "outputs": [],
   "source": [
    "# Solution is at the end of the notebook"
   ]
  },
  {
   "cell_type": "markdown",
   "metadata": {},
   "source": [
    "The majority of `eo-learn` consists of different EOTasks implementing different operations on EO data.\n",
    "\n",
    "The list of all EOTasks is available here https://eo-learn.readthedocs.io/en/latest/eotasks.html"
   ]
  },
  {
   "cell_type": "markdown",
   "metadata": {},
   "source": [
    "## EOWorkflow <a id=\"EOWorkflow\"></a>\n",
    "\n",
    "EOTasks can be joined into acyclic processing graphs. Class `EOWorkflow` implements such a functionality.\n",
    "\n",
    "Here is a simple example of an `EOWorkflow` creation:"
   ]
  },
  {
   "cell_type": "code",
   "execution_count": null,
   "metadata": {},
   "outputs": [],
   "source": [
    "from eolearn.core import EOWorkflow\n",
    "from eolearn.core import LoadFromDisk, SaveToDisk\n",
    "\n",
    "new_feature = FeatureType.LABEL, 'NEW_LABEL'\n",
    "\n",
    "load_task = LoadFromDisk(folder=INPUT_FOLDER)\n",
    "add_feature_task = AddFeature(new_feature)\n",
    "save_task = SaveToDisk(folder=OUTPUT_FOLDER, overwrite_permission=OverwritePermission.OVERWRITE_FEATURES)\n",
    "\n",
    "# EOWorkflow is initialized by defining a graph of tasks\n",
    "workflow = EOWorkflow([\n",
    "    (load_task, [], 'Load EOPatch'),\n",
    "    (add_feature_task, [load_task], 'Add a new feature'),\n",
    "    (save_task, [add_feature_task], 'Save EOPatch')\n",
    "])\n",
    "\n",
    "# EOWorkflow is executed by specifying EOPatch related parameters\n",
    "result = workflow.execute({\n",
    "    load_task: {'eopatch_folder': 'TutorialEOPatch'},\n",
    "    add_feature_task: {'data': np.zeros((10, 3), dtype=np.uint8)},\n",
    "    save_task: {'eopatch_folder': 'WorkflowEOPatch'}\n",
    "})\n",
    "\n",
    "result"
   ]
  },
  {
   "cell_type": "markdown",
   "metadata": {},
   "source": [
    "Display the dependency graph."
   ]
  },
  {
   "cell_type": "code",
   "execution_count": null,
   "metadata": {},
   "outputs": [],
   "source": [
    "%matplotlib inline\n",
    "\n",
    "workflow.dependency_graph()\n",
    "\n",
    "# If you specify filename, the image will be saved\n",
    "# workflow.dependency_graph(os.path.join(OUTPUT_FOLDER, 'graph.png'))"
   ]
  },
  {
   "cell_type": "markdown",
   "metadata": {},
   "source": [
    "For a linear workflow such as the one above we can also use the `LinearWorkflow` class."
   ]
  },
  {
   "cell_type": "code",
   "execution_count": null,
   "metadata": {},
   "outputs": [],
   "source": [
    "from eolearn.core import LinearWorkflow\n",
    "\n",
    "workflow = LinearWorkflow(load_task, add_feature_task, save_task)\n",
    "\n",
    "result = workflow.execute({\n",
    "    load_task: {'eopatch_folder': 'TutorialEOPatch'},\n",
    "    add_feature_task: {'data': np.zeros((10, 3), dtype=np.uint8)},\n",
    "    save_task: {'eopatch_folder': 'OutputEOPatch2'}\n",
    "})\n",
    "                                    \n",
    "workflow.dependency_graph()"
   ]
  },
  {
   "cell_type": "markdown",
   "metadata": {},
   "source": [
    "## EOExecutor <a id=\"EOExecutor\"></a>\n",
    "\n",
    "`EOExecutor` handles the execution and monitoring of EOWorkflows. It enables executing a workflow multiple times and in parallel. It monitors execution times and handles errors that might occur in the process. At the end, it generates a report containing the summary of the workflow's execution process.\n",
    "\n",
    "Execute previously defined workflow with different arguments."
   ]
  },
  {
   "cell_type": "code",
   "execution_count": null,
   "metadata": {},
   "outputs": [],
   "source": [
    "from eolearn.core import EOExecutor\n",
    "\n",
    "execution_args = [  # EOWorkflow will be executed for each of these 5 dictionaries:\n",
    "    {\n",
    "        load_task: {'eopatch_folder': 'TutorialEOPatch'},\n",
    "        add_feature_task: {'data': idx * np.ones((10, 3), dtype=np.uint8)},\n",
    "        save_task: {'eopatch_folder': 'ResultEOPatch{}'.format(idx)}\n",
    "    } for idx in range(5)\n",
    "]\n",
    "\n",
    "executor = EOExecutor(workflow, execution_args, save_logs=True, logs_folder=OUTPUT_FOLDER)\n",
    "\n",
    "executor.run(workers=3)  # The execution will use at most 3 parallel processes"
   ]
  },
  {
   "cell_type": "markdown",
   "metadata": {},
   "source": [
    "Make the report."
   ]
  },
  {
   "cell_type": "code",
   "execution_count": null,
   "metadata": {},
   "outputs": [],
   "source": [
    "executor.make_report()\n",
    "\n",
    "print('Report was saved to location: {}'.format(executor.get_report_filename()))"
   ]
  },
  {
   "cell_type": "markdown",
   "metadata": {},
   "source": [
    "## Solutions\n",
    "\n",
    "*Solution 1*"
   ]
  },
  {
   "cell_type": "code",
   "execution_count": null,
   "metadata": {},
   "outputs": [],
   "source": [
    "class RenameFeature(EOTask):\n",
    "    \"\"\"Renames a feature in a given EOPatch\n",
    "    \"\"\"\n",
    "    def __init__(self, feature, new_feature):\n",
    "        self.feature = feature\n",
    "        self.new_feature = new_feature\n",
    "\n",
    "    def execute(self, eopatch):\n",
    "        \n",
    "        eopatch[self.new_feature] = eopatch[self.feature]\n",
    "        del eopatch[self.feature]\n",
    "\n",
    "        return eopatch"
   ]
  }
 ],
 "metadata": {
  "kernelspec": {
   "display_name": "eo_venv",
   "language": "python",
   "name": "eo_venv"
  },
  "language_info": {
   "codemirror_mode": {
    "name": "ipython",
    "version": 3
   },
   "file_extension": ".py",
   "mimetype": "text/x-python",
   "name": "python",
   "nbconvert_exporter": "python",
   "pygments_lexer": "ipython3",
   "version": "3.6.8"
  }
 },
 "nbformat": 4,
 "nbformat_minor": 4
}
